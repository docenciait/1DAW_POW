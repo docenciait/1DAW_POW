{
  "nbformat": 4,
  "nbformat_minor": 0,
  "metadata": {
    "colab": {
      "provenance": []
    },
    "kernelspec": {
      "name": "python3",
      "display_name": "Python 3"
    },
    "language_info": {
      "name": "python"
    }
  },
  "cells": [
    {
      "cell_type": "markdown",
      "source": [
        "# Ejercicios\n"
      ],
      "metadata": {
        "id": "kt0iX9No_db7"
      }
    },
    {
      "cell_type": "markdown",
      "source": [
        "- Ejercicio 1:\n",
        "\n"
      ],
      "metadata": {
        "id": "oRYc1LFf_jt8"
      }
    },
    {
      "cell_type": "code",
      "execution_count": null,
      "metadata": {
        "colab": {
          "base_uri": "https://localhost:8080/"
        },
        "id": "_2IHfdHp_b2b",
        "outputId": "d18d134a-8bef-475e-e3ca-80f7be435c22"
      },
      "outputs": [
        {
          "output_type": "stream",
          "name": "stdout",
          "text": [
            "Title: Vite + React\n",
            "Primer div: <div id=\"root\"></div>\n",
            "Primer meta: <meta charset=\"utf-8\"/>\n",
            "Primer link: None\n"
          ]
        }
      ],
      "source": [
        "import requests\n",
        "from bs4 import BeautifulSoup\n",
        "\n",
        "def get_html(url):\n",
        "    \"\"\"Obtiene el HTML de la URL especificada.\"\"\"\n",
        "    try:\n",
        "        response = requests.get(url)\n",
        "        response.raise_for_status()  # Lanza error en caso de códigos de respuesta 4xx o 5xx.\n",
        "        return response.text\n",
        "    except requests.RequestException as e:\n",
        "        print(f\"Error al conectar con {url}: {e}\")\n",
        "        return None\n",
        "\n",
        "def getTitle(url):\n",
        "    \"\"\"Retorna el contenido de la etiqueta <title> de la URL.\"\"\"\n",
        "    html = get_html(url)\n",
        "    if html:\n",
        "        soup = BeautifulSoup(html, 'html.parser')\n",
        "        title_tag = soup.find('title')\n",
        "        if title_tag:\n",
        "            return title_tag.get_text(strip=True)\n",
        "    return None\n",
        "\n",
        "def getDiv(url):\n",
        "    \"\"\"Retorna el primer elemento <div> de la URL.\"\"\"\n",
        "    html = get_html(url)\n",
        "    if html:\n",
        "        soup = BeautifulSoup(html, 'html.parser')\n",
        "        div_tag = soup.find('div')\n",
        "        if div_tag:\n",
        "            return div_tag\n",
        "    return None\n",
        "\n",
        "def getMeta(url):\n",
        "    \"\"\"Retorna el primer elemento <meta> de la URL.\"\"\"\n",
        "    html = get_html(url)\n",
        "    if html:\n",
        "        soup = BeautifulSoup(html, 'html.parser')\n",
        "        meta_tag = soup.find('meta')\n",
        "        if meta_tag:\n",
        "            return meta_tag\n",
        "    return None\n",
        "\n",
        "def getLink(url):\n",
        "    \"\"\"Retorna el primer elemento <a> (link) de la URL.\"\"\"\n",
        "    html = get_html(url)\n",
        "    if html:\n",
        "        soup = BeautifulSoup(html, 'html.parser')\n",
        "        link_tag = soup.find('a')\n",
        "        if link_tag:\n",
        "            return link_tag\n",
        "    return None\n",
        "\n",
        "# Ejemplo de uso\n",
        "#if __name__ == \"__main__\":\n",
        "url = \"https://daw2-test1.vercel.app/\"  # Cambiar por la URL deseada\n",
        "title = getTitle(url)\n",
        "print(\"Title:\", title)\n",
        "\n",
        "div_element = getDiv(url)\n",
        "print(\"Primer div:\", div_element)\n",
        "\n",
        "meta_element = getMeta(url)\n",
        "print(\"Primer meta:\", meta_element)\n",
        "\n",
        "link_element = getLink(url)\n",
        "print(\"Primer link:\", link_element)\n"
      ]
    },
    {
      "cell_type": "markdown",
      "source": [
        "# Ejercicio 2"
      ],
      "metadata": {
        "id": "dxriIVhXB1Xz"
      }
    },
    {
      "cell_type": "code",
      "source": [
        "import requests\n",
        "from bs4 import BeautifulSoup\n",
        "from urllib.parse import urljoin\n",
        "\n",
        "# Obtenemos la información\n",
        "url_base = 'https://exactas.uba.ar/'\n",
        "endpoint_grado = '/ensenanza/carreras-de-grado/'\n",
        "html_obtenido = requests.get(url_base + endpoint_grado)\n",
        "soup = BeautifulSoup(html_obtenido.text, \"html.parser\")\n",
        "\n",
        "# La parseamos\n",
        "ul = soup.find('ul', class_ = \"listado carreras grado\")\n",
        "for li in ul.find_all('li'):\n",
        "    print(f\"{li.h2.text} {li.a['href']}\")\n",
        "\n",
        "\n",
        "\n",
        "\n",
        "\n"
      ],
      "metadata": {
        "colab": {
          "base_uri": "https://localhost:8080/"
        },
        "id": "5CIo-DAuB09g",
        "outputId": "2a76d934-af08-443d-caac-351a39971d22"
      },
      "execution_count": null,
      "outputs": [
        {
          "output_type": "stream",
          "name": "stdout",
          "text": [
            "Ciencias Biológicas https://exactas.uba.ar/ensenanza/carreras-de-grado/ciencias-biologicas/\n",
            "Ciencias de Datos https://exactas.uba.ar/ensenanza/carreras-de-grado/ciencias-de-datos/\n",
            "Ciencias de la Atmósfera https://exactas.uba.ar/ensenanza/carreras-de-grado/ciencias-de-la-atmosfera/\n",
            "Ciencias de la Computación https://exactas.uba.ar/ensenanza/carreras-de-grado/ciencias-de-la-computacion/\n",
            "Ciencias Físicas https://exactas.uba.ar/ensenanza/carreras-de-grado/ciencias-fisicas/\n",
            "Ciencias Geológicas https://exactas.uba.ar/ensenanza/carreras-de-grado/ciencias-geologicas/\n",
            "Ciencias Matemáticas https://exactas.uba.ar/ensenanza/carreras-de-grado/ciencias-matematicas/\n",
            "Ciencias Químicas https://exactas.uba.ar/ensenanza/carreras-de-grado/ciencias-quimicas/\n",
            "Ciencia y Tecnología de Alimentos https://exactas.uba.ar/ensenanza/carreras-de-grado/ciencia-y-tecnologia-de-alimentos/\n",
            "Oceanografía https://exactas.uba.ar/ensenanza/carreras-de-grado/oceanografia/\n",
            "Paleontología https://exactas.uba.ar/ensenanza/carreras-de-grado/paleontologia/\n",
            "Profesorados en Ciencias https://exactas.uba.ar/ensenanza/carreras-de-grado/profesorados-en-ciencias/\n"
          ]
        }
      ]
    }
  ]
}