{
  "cells": [
    {
      "cell_type": "markdown",
      "metadata": {
        "id": "q2ZflpmKy8wU"
      },
      "source": [
        "<a href=\"https://colab.research.google.com/github/institutohumai/cursos-python/blob/master/Scraping/1_HTTP_Inicial/web_scraping_http_inicial.ipynb\" target=\"_parent\"><img src=\"https://colab.research.google.com/assets/colab-badge.svg\" alt=\"Open In Colab\" data-canonical-src=\"https://colab.research.google.com/assets/colab-badge.svg\"></a>"
      ]
    },
    {
      "cell_type": "markdown",
      "metadata": {
        "id": "dJikR8QwA0Zt"
      },
      "source": [
        "# **Web Scraping: Extrayendo datos de Internet**"
      ]
    },
    {
      "cell_type": "markdown",
      "metadata": {
        "id": "bTg_uMsf2sXB"
      },
      "source": [
        "## **¿Qué es el web scraping?**  🤔\n",
        "\n",
        "*La práctica de **recopilar datos** a través de cualquier medio que no sea un programa que interactúa con una API o un humano que usa un navegador web. **Normalmente mediante un programa automatizado** que consulta un servidor web, solicita datos (generalmente en forma de HTML y otros archivos que componen las páginas web) y luego analiza esos datos para extraer la información necesaria.*\n",
        "\n",
        "<br>\n",
        "\n",
        "<center>\n",
        "<img src=\"https://images-na.ssl-images-amazon.com/images/I/517z2NUzcEL._SX198_BO1,204,203,200_QL40_ML2_.jpg\">\n",
        "</center>\n",
        "\n",
        "<br>\n",
        "\n",
        "*Por otro lado, el **web crawling o indexación** se utiliza para indexar la información de la página mediante bots también conocidos como crawlers (lo que hacen los motores de búsqueda). Se trata de ver una página como un todo e indexarla. Cuando un bot rastrea un sitio web, **recorre todas las páginas y todos los enlaces**, hasta la última línea del sitio web, en busca de **CUALQUIER información**.*"
      ]
    },
    {
      "cell_type": "markdown",
      "metadata": {
        "id": "wDfhvFueahvR"
      },
      "source": [
        "## **Antes de empezar** ⚠️\n",
        "\n",
        "1. *Aspectos éticos y legales del web scraping*\n",
        "  * El web scraping es una forma automática de guardar información que se presenta en nuestro navegador muy utilizada tanto en la industria como en la academia, sus aspectos legales dependerán de cada sitio y de cada estado. Respecto a la ética es importante que nos detengamos a pensar si estamos o no generando algun perjuicio. En ambos casos el debate está abierto y hay mucha bibliografía al respecto como por ejemplo [este trabajo](https://www.researchgate.net/profile/Vlad-Krotov/publication/324907302_Legality_and_Ethics_of_Web_Scraping/links/5aea622345851588dd8287dc/Legality-and-Ethics-of-Web-Scraping.pdf)\n",
        "\n",
        "2. *No reinventar la rueda*\n",
        "  * Emprender un proyecto de web scraping a veces es rapido y sencillo, pero normalmente requiere tiempo y esfuerzo. Siempre es aconsejable asegurarse de que valga la pena y antes iniciar hacerse algunas preguntas:<br>\n",
        "    - ¿La informacion que necesito ya se encuentra disponible? (ej: APIs)\n",
        "    - ¿Vale la pena automatizarlo o es algo que lleva poco trabajo a mano?\n",
        "\n",
        "\n",
        "\n"
      ]
    },
    {
      "cell_type": "markdown",
      "metadata": {
        "id": "JodftJTr_eGi"
      },
      "source": [
        "## **Conceptos básicos sobre la web**\n",
        "\n",
        "#### HTML, CSS y JavaScript son los tres lenguajes principales con los que está hecho la parte de la web que vemos (*front-end*).\n",
        "\n",
        "<center>\n",
        "<img src=\"https://www.nicepng.com/png/detail/142-1423886_html5-css3-js-html-css-javascript.png\" width=\"400\">\n",
        "\n",
        "<img src=\"https://geekflare.com/wp-content/uploads/2019/12/css-gif.gif\" width=\"243\">\n",
        "\n",
        "\n",
        "</center>\n",
        "\n",
        "<br>\n",
        "<br>\n",
        "\n",
        "| ESTRUCTURA  | ESTILO | FUNCIONALIDAD|\n",
        "|-----|----------------| ---------- |\n",
        "|HTML| CSS | JAVASCRIPT|\n",
        "\n",
        "<font color=\"gray\">\n",
        "Fuente de las imágenes: <br>\n",
        "https://geekflare.com/es/css-formatting-optimization-tools/ <br>\n",
        "https://www.nicepng.com/ourpic/u2q8i1o0e6q8r5t4_html5-css3-js-html-css-javascript/\n",
        "</font>\n",
        "\n"
      ]
    },
    {
      "cell_type": "markdown",
      "metadata": {
        "id": "UvoyAdrL2pGS"
      },
      "source": [
        "## Introducción a HTML"
      ]
    },
    {
      "cell_type": "markdown",
      "metadata": {
        "id": "WZ8PvQ87A0Z1"
      },
      "source": [
        "El lenguaje principal de la internet es HTML, cuando nosotros vemos algo así:\n",
        "\n",
        "![](https://github.com/institutohumai/cursos-python/blob/master/Scraping/1_HTTP_Inicial/multimedia/hello-world.jpeg?raw=1)\n",
        "\n",
        "Eso se genera a partir de una código que luce así\n",
        "\n",
        "```html\n",
        "<html>\n",
        "  <header>\n",
        "    <title>Web Scraping - Instituto Humai</title>\n",
        "  </header>\n",
        "  <body>\n",
        "    <h1>¡Hola!</h1>\n",
        "    <p>Esto es un sitio web</p>\n",
        "  </body>\n",
        "</html>\n",
        "```\n",
        "\n",
        "**_Nota_**: Para saber más sobre HTML podés consultar [acá](https://www.w3schools.com/TAGS/default.ASP) la lista de etiquetas de este lenguaje."
      ]
    },
    {
      "cell_type": "markdown",
      "metadata": {
        "id": "B6sSeFHDGY26"
      },
      "source": [
        "\n",
        "```html\n",
        "  <head>\n",
        "    <title>Mi primer pagina</title>\n",
        "  </head>\n",
        "  <body>\n",
        "    <h1 id='titulo'>Hola</h1>\n",
        "    <h2 style='color:red;'>Subtitulo en rojo</h2>\n",
        "    <p>Primer parrafo</p>\n",
        "    <hr>\n",
        "    <img src=\"https://i.pinimg.com/564x/8f/14/25/8f142555ef5006abd82d8c5c7f9f8570.jpg\" alt=\"gato\" width=400>\n",
        "  </body>\n",
        "```\n",
        "<center>\n",
        "<img src=\"https://i.ibb.co/9pqvGSv/HTML-gatito.png\"  width=800> <br>\n",
        "<h3>Probar el código: <a>https://codepen.io/GEJ1/pen/GRmVNPb</a></h3>\n",
        "</center>\n"
      ]
    },
    {
      "cell_type": "markdown",
      "metadata": {
        "id": "MrnbZl5CETFL"
      },
      "source": [
        "## DOM (Document Object Model)\n",
        "\n",
        "\n",
        "Interfaz independiente del lenguaje que trata un documento XML o HTML como una estructura de tipo **árbol**\n",
        "<figure>\n",
        "<img src=\"https://upload.wikimedia.org/wikipedia/commons/thumb/5/5a/DOM-model.svg/330px-DOM-model.svg.png\" width=\"500\">\n",
        "\n",
        "```html\n",
        "<html>\n",
        "  <head>\n",
        "    <title>My title</title>\n",
        "  </head>\n",
        "  <body>\n",
        "    <h1>A heading</h1>\n",
        "    <a href>Link text</a>\n",
        "  </body>\n",
        "</html>\n",
        "```\n",
        "</figure>\n",
        "\n",
        "<font color=\"gray\"> Fuente: https://en.wikipedia.org/wiki/Document_Object_Model\n",
        "<br>Autor: Birger Eriksson\n",
        "</font>\n"
      ]
    },
    {
      "cell_type": "markdown",
      "metadata": {
        "id": "B3s4n2eqA0Z3"
      },
      "source": [
        "## ¿Cómo consigo el código HTML?\n",
        "\n",
        "Ahora que sabemos cuál es el componente principal de los sitios webs podemos intentar programar a nuestra computadora para leer HTML y extraer información útil.\n",
        "\n",
        "Para conseguir el código de un sitio web podemos presionar `ctrl+u` en el navegador.\n",
        "\n",
        "Para hacer lo mismo desde Python podemos hacer lo siguiente:"
      ]
    },
    {
      "cell_type": "code",
      "execution_count": 1,
      "metadata": {
        "colab": {
          "base_uri": "https://localhost:8080/"
        },
        "id": "lCA6aQ1gA0Z5",
        "outputId": "e88bec6d-3ec0-4b69-ca8b-0c3d7efb9001"
      },
      "outputs": [
        {
          "output_type": "stream",
          "name": "stdout",
          "text": [
            "<!DOCTYPE html>\n",
            "<html class=\"client-nojs vector-feature-language-in-header-enabled vector-feature-language-in-main-page-header-disabled vector-feature-sticky-header-disabled vector-feature-page-tools-pinned-disabled vector-feature-toc-pinned-enabled vector-feature-main-menu-pinned-disabled vector-feature-limited-width-enabled vector-feature-limited-width-content-enabled vector-feature-zebra-design-disabled\" lang=\"es\" dir=\"ltr\">\n",
            "<head>\n",
            "<meta charset=\"UTF-8\">\n",
            "<title>HTML - Wikipedia, la enciclopedia libre</title>\n",
            "<script>document.documentElement.className=\"client-js vector-feature-language-in-header-enabled vector-feature-language-in-main-page-header-disabled vector-feature-sticky-header-disabled vector-feature-page-tools-pinned-disabled vector-feature-toc-pinned-enabled vector-feature-main-menu-pinned-disabled vector-feature-limited-width-enabled vector-feature-limited-width-content-enabled vector-feature-zebra-design-disabled\";(function(){var cookie=document.cookie.match(/(?:^|; )eswik\n"
          ]
        }
      ],
      "source": [
        "#Importamos la libreria necesaria\n",
        "import requests\n",
        "\n",
        "un_sitio_web = \"https://es.wikipedia.org/wiki/HTML\"\n",
        "\n",
        "# esto descarga la información del sitio web\n",
        "# Es similar a lo que hace un navegador web antes de mostrar el contenido de forma amigable para un humano\n",
        "resultado = requests.get(un_sitio_web)\n",
        "\n",
        "# accedemos al código a través del atributo \"text\" del resultado\n",
        "codigo_html = resultado.text\n",
        "print(codigo_html[:1000])"
      ]
    },
    {
      "cell_type": "markdown",
      "metadata": {
        "id": "fyGIaAQNA0Z7"
      },
      "source": [
        "### ¿Qué acabamos de hacer?\n",
        "\n",
        "Veamos algunos detalles más sobre cómo descargar el contenido de un sitio web (O cómo se le suele decir en la jerga de la programación _realizar un request_). Como dijimos, en python se puede utilizar la función get de la libreria requests para hacer esto, veamos con mayor profundidad cómo se utiliza."
      ]
    },
    {
      "cell_type": "code",
      "execution_count": 2,
      "metadata": {
        "colab": {
          "base_uri": "https://localhost:8080/"
        },
        "id": "ekwXCdmkA0Z8",
        "outputId": "6a378af1-95fa-4255-8d60-bcc426506b3c"
      },
      "outputs": [
        {
          "output_type": "stream",
          "name": "stdout",
          "text": [
            "------------------------------\n",
            "Respuesta sin headers\n",
            "{\n",
            "  \"headers\": {\n",
            "    \"Accept\": \"*/*\", \n",
            "    \"Accept-Encoding\": \"gzip, deflate\", \n",
            "    \"Host\": \"httpbin.org\", \n",
            "    \"User-Agent\": \"python-requests/2.27.1\", \n",
            "    \"X-Amzn-Trace-Id\": \"Root=1-64921f19-65fdfd5e492172a22cb3116a\"\n",
            "  }\n",
            "}\n",
            "\n",
            "------------------------------\n",
            "Respuesta con headers\n",
            "{\n",
            "  \"headers\": {\n",
            "    \"Accept\": \"*/*\", \n",
            "    \"Accept-Encoding\": \"gzip, deflate\", \n",
            "    \"Host\": \"httpbin.org\", \n",
            "    \"User-Agent\": \"Mozilla/5.0 (X11; Linux x86_64) AppleWebKit/537.36 (KHTML, like Gecko) Chrome/84.0.4147.105 Safari/537.36\", \n",
            "    \"X-Amzn-Trace-Id\": \"Root=1-64921f19-12da8c2f4d210e631bf2a970\"\n",
            "  }\n",
            "}\n",
            "\n"
          ]
        }
      ],
      "source": [
        "# httpbin es una pagina para testear pedidos HTTP, en particular la siguiente URL nos devuelve nuestro header.\n",
        "url = 'http://httpbin.org/headers'\n",
        "resp = requests.get(url)\n",
        "\n",
        "print('------------------------------')\n",
        "print('Respuesta sin headers')\n",
        "print(resp.text)\n",
        "\n",
        "print('------------------------------')\n",
        "print('Respuesta con headers')\n",
        "nuestros_headers = {\n",
        "    'user-agent': 'Mozilla/5.0 (X11; Linux x86_64) AppleWebKit/537.36 (KHTML, like Gecko) Chrome/84.0.4147.105 Safari/537.36'\n",
        "    }\n",
        "resp_con_headers = requests.get(url, headers = nuestros_headers)\n",
        "print(resp_con_headers.text)\n"
      ]
    },
    {
      "cell_type": "markdown",
      "metadata": {
        "id": "XhxvusaLA0Z8"
      },
      "source": [
        "A parte de la _url_, muchas veces se especifican los _headers_, estos son objetos que proveen datos sobre nuestro _request_, por ejemplo en el campo user-agent brindamos detalles sobre quienes somos (Nuestro sistema operativo, navegador web y demás). En este caso, como no estamos usando un navegador sino que hacemos el _request_ desde Python normalmente se omite este campo, o en caso de ser obligatorio se puede inventar, ya que algunos sitios nos van a ignorar a menos que especifiquemos este campo.\n",
        "\n",
        "Pueden ver más en esta [Lista de Headers](https://en.wikipedia.org/wiki/List_of_HTTP_header_fields)\n",
        "\n",
        "- Consultas\n",
        "    - ¿Por qué los sitios te podrían bloquear/ignorar?\n",
        "    - ¿De donde saco un user-agent?\n"
      ]
    },
    {
      "cell_type": "markdown",
      "metadata": {
        "id": "MdRjN5y1CuBK"
      },
      "source": [
        "### Protocolo HTTP"
      ]
    },
    {
      "cell_type": "markdown",
      "metadata": {
        "id": "2w07ITLwHmi8"
      },
      "source": [
        "La web utiliza ampliamente el protocolo HTTP (de _Hypertext Transfer Protocol_) para interactuar con sus recursos. Este protocolo indica cómo estructurar un mensaje de texto que describa la petición (**request**) del usuario a un servidor. Hay distintos tipos de peticios que un usuario puede realizar, algunas de ellas son:\n",
        "\n",
        "* **GET**: Solicita una representación de un recurso alojado en el servidor.\n",
        "* **POST**: Envía datos al servidor para crear un recurso nuevo.\n",
        "* **PUT**: Crea o modifica un recurso del servidor.\n",
        "* **DELETE**: Elimina un recurso del servidor.\n",
        "\n",
        "Existen otros métodos que no nos van a ser relevantes por ahora.\n",
        "\n",
        "Cada vez que vamos al navegador y escribimos la dirección de una página web, **estamos haciendo un GET request** a un servidor.\n",
        "Esto es una petición para adquirir el código de un recurso que queremos visualizar en el navegador."
      ]
    },
    {
      "cell_type": "markdown",
      "metadata": {
        "id": "U_wuF5Mq1ikJ"
      },
      "source": [
        "Como vimos antes la función `get` retorna un objeto, el cual llamamos _resp_, este es un elemento de la clase **_Response_** y tiene distintos atributos a los que podemos acceder.\n",
        "\n",
        "El objeto **_Response_** de requests tiene los siguientes elementos principales:\n",
        "\n",
        "- **.text**: devuelve el contenido como string.\n",
        "- **.content**: devuelve el contenido en bytes.\n",
        "- **.json()**: el contenido en formato JSON, si es posible.\n",
        "- **.status_code**: el código de respuesta.\n",
        "\n",
        "\n",
        "El código de status (*status code*) nos informa del estado de nuestra *request*\n",
        "\n",
        "Códigos posibles:\n",
        "\n",
        "- 1xx Mensaje de información\n",
        "- 2xx Éxito\n",
        "- 3xx Redirigir a otra URL\n",
        "- 4xx Error del cliente\n",
        "- 5xx Error del servidor\n",
        "\n",
        "<center>\n",
        "<img alt=\"http-status-codes\" src=\"https://miro.medium.com/max/1400/1*w_iicbG7L3xEQTArjHUS6g.jpeg\" width=\"500\"> <br>\n",
        "<font color='gray'>Fuente: https://www.youtube.com/watch?v=LtNSd_4txVc\n",
        "</font>\n",
        "</center>\n",
        "\n"
      ]
    },
    {
      "cell_type": "code",
      "execution_count": 3,
      "metadata": {
        "colab": {
          "base_uri": "https://localhost:8080/"
        },
        "id": "BJoW-QxnA0Z9",
        "outputId": "4c2a4b91-28fc-4ade-8048-61a2a2095dec"
      },
      "outputs": [
        {
          "output_type": "execute_result",
          "data": {
            "text/plain": [
              "200"
            ]
          },
          "metadata": {},
          "execution_count": 3
        }
      ],
      "source": [
        "#Vemos el código de estado\n",
        "# 200 es que esta todo bien, 5xx o 4xx es que esta todo mal (Por ejemplo el clasico 404)\n",
        "resp.status_code"
      ]
    },
    {
      "cell_type": "code",
      "execution_count": 4,
      "metadata": {
        "id": "LyzTCE9lA0Z-",
        "outputId": "4843c196-3751-4eac-81a3-4506db50783c",
        "colab": {
          "base_uri": "https://localhost:8080/"
        }
      },
      "outputs": [
        {
          "output_type": "execute_result",
          "data": {
            "text/plain": [
              "{'User-Agent': 'python-requests/2.27.1', 'Accept-Encoding': 'gzip, deflate', 'Accept': '*/*', 'Connection': 'keep-alive'}"
            ]
          },
          "metadata": {},
          "execution_count": 4
        }
      ],
      "source": [
        "#Vemos los headers que enviamos\n",
        "resp.request.headers"
      ]
    },
    {
      "cell_type": "markdown",
      "metadata": {
        "id": "tgd3ifvlA0Z_"
      },
      "source": [
        "El atributo que nos interesa particularmente es resp.text, que guardan el contenido de la página.\n",
        "\n",
        "Como vamos a descargar el codigo de un sitio frecuentemente armamos una funcion para no reescribir lo mismo muchas veces"
      ]
    },
    {
      "cell_type": "code",
      "execution_count": 5,
      "metadata": {
        "id": "ZtjjqrYdA0Z_"
      },
      "outputs": [],
      "source": [
        "def codigo_html(url):\n",
        "    headers = {\n",
        "        'user-agent': 'Mozilla/5.0 (X11; Linux x86_64) AppleWebKit/537.36 (KHTML, like Gecko) Chrome/84.0.4147.105 Safari/537.36'\n",
        "        }\n",
        "    resp = requests.get(url, headers = headers)\n",
        "    return resp.text"
      ]
    },
    {
      "cell_type": "code",
      "execution_count": 32,
      "metadata": {
        "id": "dp8KOmTafohn",
        "colab": {
          "base_uri": "https://localhost:8080/"
        },
        "outputId": "f5511bb9-7cfd-4d2f-87a9-0422cb93ea95"
      },
      "outputs": [
        {
          "output_type": "stream",
          "name": "stdout",
          "text": [
            "Este es el contenido en bytes: \n",
            " b'\\x89PNG\\r\\n\\x1a\\n\\x00\\x00\\x00\\rIHDR\\x00\\x00\\x01%\\x00\\x00\\x01\\x9d\\x08\\x06\\x00\\x00\\x00T\\xfeeo\\x00\\x00\\x00 cHRM\\x00\\x00z&\\x00\\x00\\x80\\x84\\x00\\x00\\xfa\\x00\\x00\\x00\\x80\\xe8\\x00\\x00u0\\x00\\x00\\xea`\\x00\\x00:\\x98\\x00\\x00\\x17p\\x9c\\xbaQ<\\x00\\x00\\x00\\x01sRGB\\x00\\xae\\xce\\x1c\\xe9\\x00\\x00\\x00\\x04gAMA\\x00\\x00'\n"
          ]
        }
      ],
      "source": [
        "# Tambien podemos scrapear otro tipo de a que no sea texto\n",
        "import requests\n",
        "\n",
        "# defino la URL\n",
        "image_url = 'https://ihum.ai/static/logos/cursos-index.png'\n",
        "\n",
        "# Hago una peticion y guardo la respuesta\n",
        "image_response = requests.get(image_url)\n",
        "\n",
        "# Accedemos al contenido de la imagen en bytes\n",
        "image_response_content = image_response.content\n",
        "\n",
        "print(f'Este es el contenido en bytes: \\n {image_response_content[:100]}')"
      ]
    },
    {
      "cell_type": "code",
      "execution_count": 33,
      "metadata": {
        "id": "XCeM77vEf70c",
        "colab": {
          "base_uri": "https://localhost:8080/",
          "height": 465
        },
        "outputId": "f436f323-4116-4fc7-adac-fccf67eb7ffe"
      },
      "outputs": [
        {
          "output_type": "stream",
          "name": "stdout",
          "text": [
            "Esta imagen la bajamos de internet usando Python! \n",
            " \n"
          ]
        },
        {
          "output_type": "execute_result",
          "data": {
            "text/plain": [
              "<PIL.PngImagePlugin.PngImageFile image mode=RGBA size=293x413 at 0x7FC591F9E260>"
            ],
            "image/png": "[encoded data removed]"
          },
          "metadata": {},
          "execution_count": 33
        }
      ],
      "source": [
        "# Importamos librerias para manejar imagenes (no tienen nada que ver con el scrapeo)\n",
        "from PIL import Image\n",
        "from io import BytesIO\n",
        "\n",
        "# Mostramos la imagen\n",
        "image_from_url = Image.open(BytesIO(image_response_content))\n",
        "print('Esta imagen la bajamos de internet usando Python! \\n ')\n",
        "image_from_url"
      ]
    },
    {
      "cell_type": "markdown",
      "metadata": {
        "id": "h1cGseCPA0aA"
      },
      "source": [
        "### Documentación\n",
        "La función get y la clase Response fueron desarrolladas por lxs programadores que crearon la librería requests. Si quieren saber mas sobre algún detalle siempre es recomendable buscar en la [documentación oficial de la librería](https://docs.python-requests.org/en/latest/)."
      ]
    },
    {
      "cell_type": "markdown",
      "metadata": {
        "id": "NYNXMrDgA0aA"
      },
      "source": [
        "## ¿Cómo extraigo datos útiles del código HTML?\n",
        "\n",
        "- Veamos un ejemplo inspeccionando con chrome un sitio web:\n",
        "1. Nos posicionamos sobre el elemento que nos interesa.\n",
        "2. Presionamos click derecho -> *inspeccionar elemento* para abrir las *herramientas de desarrollo* (o presionando `CTRL + SHIFT + I`)\n",
        "4. Esto nos da acceso al codigo de HTML correspondiente al elemento de la pagina que nos interesa.\n",
        "\n",
        "\n",
        "<img src=\"https://i.ibb.co/1RSNcs5/inspect.png\" alt=\"inspect\" width=\"1100\">\n",
        "\n",
        "<hr>\n",
        "<br>\n",
        "<br>\n",
        "\n",
        "En **Elements** vamos a poder inspeccionar el código HTML, para ubicar los datos de nuestro interés. Para identificar la ubicación de uno, podemos posicionarnos con el cursor sobre el sitio, hacer click derecho, y seleccionar \"Inspeccionar elemento\".\n",
        "\n",
        "En la solapa **Network** podemos ver todos los paquetes HTTP que realiza nuestro navegador interactuando con un sitio. Identificando los paquetes de las APIs que traen los datos, podemos _scrapear_ datos más facilmente. **[Esto lo verán en la clase de APIs]**\n",
        "\n",
        "<br>\n",
        "<br>\n",
        "\n",
        "<img src='https://i2.wp.com/abodeqa.com/wp-content/uploads/2019/02/Inspect-Element-Using-Select-Tool.gif'>\n",
        "\n"
      ]
    },
    {
      "cell_type": "markdown",
      "metadata": {
        "id": "j208C_1eH8Z4"
      },
      "source": [
        "### **Método 1: Expresiones regulares**"
      ]
    },
    {
      "cell_type": "markdown",
      "metadata": {
        "id": "IIprwSHYA0aA"
      },
      "source": [
        "RegEx para los amigos. Son un mini lenguaje de programación diseñado para realizar búsquedas en strings."
      ]
    },
    {
      "cell_type": "markdown",
      "metadata": {
        "id": "BhrBctRSA0aB"
      },
      "source": [
        "Las funciones principales de la librería re son:\n",
        "- re.findall(pattern, string) para encontrar todos los resultados de una búsqueda\n",
        "- re.search(pattern, string) para encontrar el primer resultado que coincida\n",
        "- re.sub(pattern, replace, string) para substituir un texto por otro\n",
        "\n",
        "Recursos útiles\n",
        "\n",
        "- [Testeo de regex online](https://regex101.com/)\n",
        "- [CheatSheet](https://www.dataquest.io/wp-content/uploads/2019/03/python-regular-expressions-cheat-sheet.pdf)"
      ]
    },
    {
      "cell_type": "markdown",
      "metadata": {
        "id": "XIxDi3ZiA0aG"
      },
      "source": [
        "#### Aplicandolo a la web\n",
        "##### Ejemplo 1: Usamos regex para extraer los títulos del diario La Prensa.\n",
        "\n",
        "\n",
        "```html\n",
        "<h2 class=\"entry__title\"><a href=\"http://www.laprensa.com.ar/491843-Dilemas-de-la-batalla-cultural-I.note.aspx\" target=\"_self\" onclick=\"javascript:if(typeof(_gaq)!='undefined'){_gaq.push(['_trackEvent', 'Notas', 'Cultura', 'Dilemas de la batalla cultural (I)'])};\">Dilemas de la batalla cultural (I)</a></h2>\n",
        "```\n"
      ]
    },
    {
      "cell_type": "code",
      "execution_count": 71,
      "metadata": {
        "id": "kz1d61KNA0aH"
      },
      "outputs": [],
      "source": [
        "#Usamos el navegador para identificar la estructura de los datos que queremos extraer y creamos el patrón de búsqueda\n",
        "regla_de_busqueda = r'_self\">(.+)</a></h2>'"
      ]
    },
    {
      "cell_type": "code",
      "execution_count": 72,
      "metadata": {
        "id": "rTtKkAsfA0aH"
      },
      "outputs": [],
      "source": [
        "#Usamos findall para encontrar todas las coincidencias\n",
        "import re\n",
        "import requests\n",
        "titles = [m for m in re.findall(regla_de_busqueda, codigo_html(\"http://www.laprensa.com.ar/\"))]"
      ]
    },
    {
      "cell_type": "code",
      "execution_count": 44,
      "metadata": {
        "id": "Ssh-aWNdA0aH",
        "colab": {
          "base_uri": "https://localhost:8080/"
        },
        "outputId": "14761bb3-8651-494d-a73e-375ccc2fa4eb"
      },
      "outputs": [
        {
          "output_type": "stream",
          "name": "stdout",
          "text": [
            "['Morales: \"Hago responsables a Alberto Fernández y a Cristina Kirchner de la extrema violencia en Jujuy\"', 'Hallan restos óseos triturados y un dije durante el rastrillaje en el río Tragadero cerca de la chanchería de los Sena', 'Emerenciano Sena pidió declarar \"para decir su verdad\" y dijo ser inocente', 'Líderes', 'El escudo de San Luis y Juan Manuel de Rosas', 'El Club Evaristo (Parte XVII): el caso de Juan Duarte', 'Las canciones patrias en la voz de Abel Pintos', '\\u200bMás de 2,2 millones de personas se movilizaron en el fin de semana largo impulsados por el Previaje', '\"Sin cuerpo, puede haber condena por femicidio\", dijo una de las fiscales del caso Cecilia ', 'El escudo de San Luis y Juan Manuel de Rosas', '“La Argentina está aislada del mundo”', 'Bradley Beal se muda a Phoenix tras un traspaso que envía a Chris Paul a Washington', 'Los Nuggets hacen historia: campeones de la NBA por primera vez', 'Nikola Jokic, el MVP de las finales', 'Denver se lleva otra victoria en Miami y quedó a solo una de la consagración', 'Con triples dobles de Jokic y Murray, Denver vence en Miami y recupera la ventaja de la serie', 'Se cumplen 30 años de la muerte de Drazen Petrovic, la súper estrella que no tuvo tiempo de brillar en la NBA', 'El Heat le rompió el invicto a los Nuggets en Denver y puso la serie 1 a 1', 'Denver vence a Miami y da el primer paso hacia el ansiado título', 'La rebeldía triunfal de Lole', 'La tregua de Vilas y Clerc no alcanzó para ganar la Davis', 'Diego y El Pelado hicieron maravillas en Japón', 'Galíndez, el campeón del coraje', 'El Aguilucho opacó a las estrellas europeas', 'Demiddi, el remero que no bajó los brazos hasta ser el mejor', 'Los All Blacks no pudieron con Porta', '¡Bravo, Maestro!', 'Líderes', 'Coimas: el método es el mismo, solo cambia el delivery', 'Despedida a Julio Villalonga', 'Soldados de Manchalá', 'El voto católico', 'Ecología', '25 de Mayo', '¿A quienes se refirió el General Soloaga?', 'La nueva Ford Ranger ya es una realidad', 'Toyota fabricará un tercer modelo en la planta de Zárate', 'Chevrolet dejará de fabricar el Cruze en la Argentina a fin de año', 'La nueva Ranger se exhibió en la Facultad de Derecho', 'Ford suma la versión híbrida a la gama Maverick', 'Ya se vende en el país el Volkswagen Vento GLI', 'Fiat fabricó su Cronos número 300.000', 'La planta de Ford en Pacheco ensaya la fabricación de la nueva Ranger', 'Los orígenes del peronismo', 'Obra pertinente sobre una disciplina cuestionada', 'Memorias literarias de una bruja', 'La universidad de la violencia', 'De supervivencias y héroes esquivos', 'Innecesarios textos del Negro Fontanarrosa', 'El poder entre bambalinas', 'Aquel puñetazo en Ciudad de México', 'En defensa del historicismo', 'Fuerte caída del ecosistema de startups argentino', 'Bradley Beal se muda a Phoenix tras un traspaso que envía a Chris Paul a Washington', '“No incorporamos a la vida política una auténtica cultura democrática”', 'Lo mejor y lo peor del año, según los críticos musicales', 'Las canciones patrias en la voz de Abel Pintos', 'Encuentro soñado entre una gran obra y una gran actriz', '‘Cámara del crimen’', 'Fito Páez anunció que volverá al cine con dos nuevos proyectos', 'Lorca y el heroísmo de la fragilidad', 'La Italia postergada en una acuarela bañada de poesía', 'Otras nueve mujeres acusaron a Bill Cosby de abusar de ellas', 'Philip Glass para pocos en el Colón', 'Festejar comiendo afuera con papá', 'Delicias gastronómicas del Nordeste', 'Sabores franceses para el frío', 'A celebrar el Día de la hamburguesa', 'Chocotorta con dulce de leche, ideal para el Día de la Patria', 'Día Mundial del Whisky', 'Una chef española con gran proyección', 'Realizarán la sexta edición del Festival de Cocina Israelí', 'Líderes', 'El escudo de San Luis y Juan Manuel de Rosas', 'El Club Evaristo (Parte XVII): el caso de Juan Duarte', 'Las canciones patrias en la voz de Abel Pintos', 'Bradley Beal se muda a Phoenix tras un traspaso que envía a Chris Paul a Washington', 'Mueren al menos 41 reclusas durante un enfrentamiento entre bandas en una cárcel de Honduras']\n"
          ]
        }
      ],
      "source": [
        "print(titles)"
      ]
    },
    {
      "cell_type": "markdown",
      "metadata": {
        "id": "H8oKjJkHFj2K"
      },
      "source": [
        "####  <font color='red'> Ejercicio </font>\n",
        "\n",
        "####  Modifiquen la regla de búsqueda para que descargue los links a las notas en vez del título"
      ]
    },
    {
      "cell_type": "code",
      "execution_count": 96,
      "metadata": {
        "id": "-Q2ms9IQFvBS",
        "colab": {
          "base_uri": "https://localhost:8080/"
        },
        "outputId": "a4e501ec-b5bc-4c29-a597-064745a7f690"
      },
      "outputs": [
        {
          "output_type": "stream",
          "name": "stdout",
          "text": [
            "['https://www.laprensa.com.ar/531176-Morales-Hago-responsables-a-Alberto-Fernandez-y-a-Cristina-Kirchner-de-la-extrema-violencia-en-Jujuy.note.aspx', 'https://www.laprensa.com.ar/531176-Morales-Hago-responsables-a-Alberto-Fernandez-y-a-Cristina-Kirchner-de-la-extrema-violencia-en-Jujuy.note.aspx', 'https://www.laprensa.com.ar/531186-Hallan-restos-oseos-triturados-y-un-dije-durante-el-rastrillaje-en-el-rio-Tragadero-cerca-de-la-chancheria-de-los-Sena.note.aspx\" class=\"thumb-url', 'https://www.laprensa.com.ar/531186-Hallan-restos-oseos-triturados-y-un-dije-durante-el-rastrillaje-en-el-rio-Tragadero-cerca-de-la-chancheria-de-los-Sena.note.aspx', 'https://www.laprensa.com.ar/531183-Emerenciano-Sena-pidio-declarar-para-decir-su-verdad-y-dijo-ser-inocente.note.aspx\" class=\"thumb-url', 'https://www.laprensa.com.ar/531183-Emerenciano-Sena-pidio-declarar-para-decir-su-verdad-y-dijo-ser-inocente.note.aspx', 'https://www.laprensa.com.ar/531197-Lideres.note.aspx\" class=\"mainlink', 'https://www.laprensa.com.ar/531197-Lideres.note.aspx', 'https://www.laprensa.com.ar/531196-El-escudo-de-San-Luis-y-Juan-Manuel-de-Rosas.note.aspx\" class=\"mainlink', 'https://www.laprensa.com.ar/531196-El-escudo-de-San-Luis-y-Juan-Manuel-de-Rosas.note.aspx', 'https://www.laprensa.com.ar/531195-El-Club-Evaristo-Parte-XVII-el-caso-de-Juan-Duarte.note.aspx\" class=\"mainlink', 'https://www.laprensa.com.ar/531195-El-Club-Evaristo-Parte-XVII-el-caso-de-Juan-Duarte.note.aspx', 'https://www.laprensa.com.ar/531194-Las-canciones-patrias-en-la-voz-de-Abel-Pintos.note.aspx\" class=\"mainlink', 'https://www.laprensa.com.ar/531194-Las-canciones-patrias-en-la-voz-de-Abel-Pintos.note.aspx', 'https://www.laprensa.com.ar/531154-Un-desafio-en-el-aula-Segunda-parte.note.aspx', 'https://www.laprensa.com.ar/531154-Un-desafio-en-el-aula-Segunda-parte.note.aspx', 'https://www.laprensa.com.ar/531153-La-Libertad-en-Manuel-Belgrano.note.aspx', 'https://www.laprensa.com.ar/531153-La-Libertad-en-Manuel-Belgrano.note.aspx', 'https://www.laprensa.com.ar/531178-Mas-de-22-millones-de-personas-se-movilizaron-en-el-fin-de-semana-largo-impulsados-por-el-Previaje.note.aspx', 'https://www.laprensa.com.ar/531178-Mas-de-22-millones-de-personas-se-movilizaron-en-el-fin-de-semana-largo-impulsados-por-el-Previaje.note.aspx\" class=\"thumb-url', 'https://www.laprensa.com.ar/531174-Carrio-acuso-al-Clan-Sena-de-vandalizar-su-casa-en-Chaco-Por-orden-de-Capitanich.note.aspx', 'https://www.laprensa.com.ar/531170-La-aduana-desafecto-una-de-las-embarcaciones-de-Buquebus-por-su-penoso-estado.note.aspx', 'https://www.laprensa.com.ar/531169-La-Iglesia-se-expreso-por-la-desaparicion-de-Cecilia-que-se-conozca-la-verdad-y-se-haga-justicia-.note.aspx', 'https://www.laprensa.com.ar/531172-Sin-cuerpo-puede-haber-condena-por-femicidio-dijo-una-de-las-fiscales-del-caso-Cecilia-.note.aspx', 'https://www.laprensa.com.ar/531172-Sin-cuerpo-puede-haber-condena-por-femicidio-dijo-una-de-las-fiscales-del-caso-Cecilia-.note.aspx\" class=\"thumb-url', 'https://www.laprensa.com.ar/531187-Un-hijo-de-Biden-se-declaro-culpable-de-delitos-fiscales.note.aspx', 'https://www.laprensa.com.ar/531166-Rusia-lanzo-una-nueva-ola-de-ataques-en-Ucrania-con-drones-explosivos.note.aspx', 'https://www.laprensa.com.ar/531163-Caso-Cecilia-el-Gobierno-ofrecio-5-millones-de-pesos-de-recompensa-por-informacion-valiosa.note.aspx', 'https://www.laprensa.com.ar/531196-El-escudo-de-San-Luis-y-Juan-Manuel-de-Rosas.note.aspx', 'https://www.laprensa.com.ar/531196-El-escudo-de-San-Luis-y-Juan-Manuel-de-Rosas.note.aspx\" class=\"thumb-url', 'https://www.laprensa.com.ar/531195-El-Club-Evaristo-Parte-XVII-el-caso-de-Juan-Duarte.note.aspx', 'https://www.laprensa.com.ar/531109-Una-revolucion-diferente.note.aspx', 'https://www.laprensa.com.ar/531108-Belgrano-y-la-identidad-como-Nacion.note.aspx', 'https://www.laprensa.com.ar/531107-Homenaje-a-la-paternidad.note.aspx', 'https://www.laprensa.com.ar/530982-La-Argentina-esta-aislada-del-mundo.note.aspx', 'https://www.laprensa.com.ar/530982-La-Argentina-esta-aislada-del-mundo.note.aspx\" class=\"thumb-url', 'https://www.laprensa.com.ar/530986-Sin-escuelas-ni-maestros.note.aspx', 'https://www.laprensa.com.ar/530985-Prosperidad-barrani.note.aspx', 'https://www.laprensa.com.ar/530729-Como-conjurar-el-maleficio.note.aspx', 'https://www.laprensa.com.ar/530731-Esperando-una-luz-al-final-del-tunel.note.aspx', 'https://www.laprensa.com.ar/531193-Bradley-Beal-se-muda-a-Phoenix-tras-un-traspaso-que-envia-a-Chris-Paul-a-Washington.note.aspx', 'https://www.laprensa.com.ar/531193-Bradley-Beal-se-muda-a-Phoenix-tras-un-traspaso-que-envia-a-Chris-Paul-a-Washington.note.aspx\" class=\"thumb-url', 'https://www.laprensa.com.ar/530869-Los-Nuggets-hacen-historia-campeones-de-la-NBA-por-primera-vez.note.aspx', 'https://www.laprensa.com.ar/530869-Los-Nuggets-hacen-historia-campeones-de-la-NBA-por-primera-vez.note.aspx\" class=\"thumb-url', 'https://www.laprensa.com.ar/530870-Nikola-Jokic-el-MVP-de-las-finales.note.aspx', 'https://www.laprensa.com.ar/530870-Nikola-Jokic-el-MVP-de-las-finales.note.aspx\" class=\"thumb-url', 'https://www.laprensa.com.ar/530750-Denver-se-lleva-otra-victoria-en-Miami-y-quedo-a-solo-una-de-la-consagracion.note.aspx', 'https://www.laprensa.com.ar/530750-Denver-se-lleva-otra-victoria-en-Miami-y-quedo-a-solo-una-de-la-consagracion.note.aspx\" class=\"thumb-url', 'https://www.laprensa.com.ar/530660-Con-triples-dobles-de-Jokic-y-Murray-Denver-vence-en-Miami-y-recupera-la-ventaja-de-la-serie.note.aspx', 'https://www.laprensa.com.ar/530660-Con-triples-dobles-de-Jokic-y-Murray-Denver-vence-en-Miami-y-recupera-la-ventaja-de-la-serie.note.aspx\" class=\"thumb-url', 'https://www.laprensa.com.ar/530635-Se-cumplen-30-anos-de-la-muerte-de-Drazen-Petrovic-la-super-estrella-que-no-tuvo-tiempo-de-brillar-en-la-NBA.note.aspx', 'https://www.laprensa.com.ar/530635-Se-cumplen-30-anos-de-la-muerte-de-Drazen-Petrovic-la-super-estrella-que-no-tuvo-tiempo-de-brillar-en-la-NBA.note.aspx\" class=\"thumb-url', 'https://www.laprensa.com.ar/530514-El-Heat-le-rompio-el-invicto-a-los-Nuggets-en-Denver-y-puso-la-serie-1-a-1.note.aspx', 'https://www.laprensa.com.ar/530514-El-Heat-le-rompio-el-invicto-a-los-Nuggets-en-Denver-y-puso-la-serie-1-a-1.note.aspx\" class=\"thumb-url', 'https://www.laprensa.com.ar/530406-Denver-vence-a-Miami-y-da-el-primer-paso-hacia-el-ansiado-titulo.note.aspx', 'https://www.laprensa.com.ar/530406-Denver-vence-a-Miami-y-da-el-primer-paso-hacia-el-ansiado-titulo.note.aspx\" class=\"thumb-url', 'https://www.laprensa.com.ar/530970-La-rebeldia-triunfal-de-Lole.note.aspx', 'https://www.laprensa.com.ar/530970-La-rebeldia-triunfal-de-Lole.note.aspx\" class=\"thumb-url', 'https://www.laprensa.com.ar/530677-La-tregua-de-Vilas-y-Clerc-no-alcanzo-para-ganar-la-Davis.note.aspx', 'https://www.laprensa.com.ar/530677-La-tregua-de-Vilas-y-Clerc-no-alcanzo-para-ganar-la-Davis.note.aspx\" class=\"thumb-url', 'https://www.laprensa.com.ar/530379-Diego-y-El-Pelado-hicieron-maravillas-en-Japon.note.aspx', 'https://www.laprensa.com.ar/530379-Diego-y-El-Pelado-hicieron-maravillas-en-Japon.note.aspx\" class=\"thumb-url', 'https://www.laprensa.com.ar/530076-Galindez-el-campeon-del-coraje.note.aspx', 'https://www.laprensa.com.ar/530076-Galindez-el-campeon-del-coraje.note.aspx\" class=\"thumb-url', 'https://www.laprensa.com.ar/529752-El-Aguilucho-opaco-a-las-estrellas-europeas.note.aspx', 'https://www.laprensa.com.ar/529752-El-Aguilucho-opaco-a-las-estrellas-europeas.note.aspx\" class=\"thumb-url', 'https://www.laprensa.com.ar/529463-Demiddi-el-remero-que-no-bajo-los-brazos-hasta-ser-el-mejor.note.aspx', 'https://www.laprensa.com.ar/529463-Demiddi-el-remero-que-no-bajo-los-brazos-hasta-ser-el-mejor.note.aspx\" class=\"thumb-url', 'https://www.laprensa.com.ar/529158-Los-All-Blacks-no-pudieron-con-Porta.note.aspx', 'https://www.laprensa.com.ar/529158-Los-All-Blacks-no-pudieron-con-Porta.note.aspx\" class=\"thumb-url', 'https://www.laprensa.com.ar/528853-Bravo-Maestro.note.aspx', 'https://www.laprensa.com.ar/528853-Bravo-Maestro.note.aspx\" class=\"thumb-url', 'https://www.laprensa.com.ar/531197-Lideres.note.aspx', 'https://www.laprensa.com.ar/531197-Lideres.note.aspx\" class=\"thumb-url', 'https://www.laprensa.com.ar/530684-Coimas-el-metodo-es-el-mismo-solo-cambia-el-delivery.note.aspx', 'https://www.laprensa.com.ar/530684-Coimas-el-metodo-es-el-mismo-solo-cambia-el-delivery.note.aspx\" class=\"thumb-url', 'https://www.laprensa.com.ar/530683-Despedida-a-Julio-Villalonga.note.aspx', 'https://www.laprensa.com.ar/530683-Despedida-a-Julio-Villalonga.note.aspx\" class=\"thumb-url', 'https://www.laprensa.com.ar/530398-Soldados-de-Manchala.note.aspx', 'https://www.laprensa.com.ar/530398-Soldados-de-Manchala.note.aspx\" class=\"thumb-url', 'https://www.laprensa.com.ar/530346-El-voto-catolico.note.aspx', 'https://www.laprensa.com.ar/530346-El-voto-catolico.note.aspx\" class=\"thumb-url', 'https://www.laprensa.com.ar/530315-Ecologia.note.aspx', 'https://www.laprensa.com.ar/530315-Ecologia.note.aspx\" class=\"thumb-url', 'https://www.laprensa.com.ar/530092-25-de-Mayo.note.aspx', 'https://www.laprensa.com.ar/530092-25-de-Mayo.note.aspx\" class=\"thumb-url', 'https://www.laprensa.com.ar/530091-A-quienes-se-refirio-el-General-Soloaga.note.aspx', 'https://www.laprensa.com.ar/530091-A-quienes-se-refirio-el-General-Soloaga.note.aspx\" class=\"thumb-url', 'https://www.laprensa.com.ar/530898-La-nueva-Ford-Ranger-ya-es-una-realidad.note.aspx', 'https://www.laprensa.com.ar/530898-La-nueva-Ford-Ranger-ya-es-una-realidad.note.aspx\" class=\"thumb-url', 'https://www.laprensa.com.ar/530876-Toyota-fabricara-un-tercer-modelo-en-la-planta-de-Zarate.note.aspx', 'https://www.laprensa.com.ar/530876-Toyota-fabricara-un-tercer-modelo-en-la-planta-de-Zarate.note.aspx\" class=\"thumb-url', 'https://www.laprensa.com.ar/530753-Chevrolet-dejara-de-fabricar-el-Cruze-en-la-Argentina-a-fin-de-ano.note.aspx', 'https://www.laprensa.com.ar/530753-Chevrolet-dejara-de-fabricar-el-Cruze-en-la-Argentina-a-fin-de-ano.note.aspx\" class=\"thumb-url', 'https://www.laprensa.com.ar/530681-La-nueva-Ranger-se-exhibio-en-la-Facultad-de-Derecho.note.aspx', 'https://www.laprensa.com.ar/530681-La-nueva-Ranger-se-exhibio-en-la-Facultad-de-Derecho.note.aspx\" class=\"thumb-url', 'https://www.laprensa.com.ar/530006-Ford-suma-la-version-hibrida-a-la-gama-Maverick.note.aspx', 'https://www.laprensa.com.ar/530006-Ford-suma-la-version-hibrida-a-la-gama-Maverick.note.aspx\" class=\"thumb-url', 'https://www.laprensa.com.ar/529408-Ya-se-vende-en-el-pais-el-Volkswagen-Vento-GLI.note.aspx', 'https://www.laprensa.com.ar/529408-Ya-se-vende-en-el-pais-el-Volkswagen-Vento-GLI.note.aspx\" class=\"thumb-url', 'https://www.laprensa.com.ar/529403-Fiat-fabrico-su-Cronos-numero-300000.note.aspx', 'https://www.laprensa.com.ar/529403-Fiat-fabrico-su-Cronos-numero-300000.note.aspx\" class=\"thumb-url', 'https://www.laprensa.com.ar/528773-La-planta-de-Ford-en-Pacheco-ensaya-la-fabricacion-de-la-nueva-Ranger.note.aspx', 'https://www.laprensa.com.ar/528773-La-planta-de-Ford-en-Pacheco-ensaya-la-fabricacion-de-la-nueva-Ranger.note.aspx\" class=\"thumb-url', 'https://www.laprensa.com.ar/530980-Los-origenes-del-peronismo.note.aspx', 'https://www.laprensa.com.ar/530980-Los-origenes-del-peronismo.note.aspx\" class=\"thumb-url', 'https://www.laprensa.com.ar/530977-Obra-pertinente-sobre-una-disciplina-cuestionada.note.aspx', 'https://www.laprensa.com.ar/530977-Obra-pertinente-sobre-una-disciplina-cuestionada.note.aspx\" class=\"thumb-url', 'https://www.laprensa.com.ar/530727-Memorias-literarias-de-una-bruja.note.aspx', 'https://www.laprensa.com.ar/530727-Memorias-literarias-de-una-bruja.note.aspx\" class=\"thumb-url', 'https://www.laprensa.com.ar/530388-La-universidad-de-la-violencia.note.aspx', 'https://www.laprensa.com.ar/530388-La-universidad-de-la-violencia.note.aspx\" class=\"thumb-url', 'https://www.laprensa.com.ar/530387-De-supervivencias-y-heroes-esquivos.note.aspx', 'https://www.laprensa.com.ar/530387-De-supervivencias-y-heroes-esquivos.note.aspx\" class=\"thumb-url', 'https://www.laprensa.com.ar/530087-Innecesarios-textos-del-Negro-Fontanarrosa.note.aspx', 'https://www.laprensa.com.ar/530087-Innecesarios-textos-del-Negro-Fontanarrosa.note.aspx\" class=\"thumb-url', 'https://www.laprensa.com.ar/530088-El-poder-entre-bambalinas.note.aspx', 'https://www.laprensa.com.ar/530088-El-poder-entre-bambalinas.note.aspx\" class=\"thumb-url', 'https://www.laprensa.com.ar/529771-Aquel-punetazo-en-Ciudad-de-Mexico.note.aspx', 'https://www.laprensa.com.ar/529771-Aquel-punetazo-en-Ciudad-de-Mexico.note.aspx\" class=\"thumb-url', 'https://www.laprensa.com.ar/530976-En-defensa-del-historicismo.note.aspx', 'https://www.laprensa.com.ar/530976-En-defensa-del-historicismo.note.aspx\" class=\"thumb-url', 'https://www.laprensa.com.ar/530975-Por-que-atacan-al-amor-romantico.note.aspx', 'https://www.laprensa.com.ar/530974-El-deseo-como-arma-de-dominio.note.aspx', 'https://www.laprensa.com.ar/530723-Borges-el-nacimiento-del-poeta.note.aspx', 'https://www.laprensa.com.ar/530726-Recuerdos-de-un-pasado-traumatico.note.aspx', 'https://www.laprensa.com.ar/531084-En-el-nombre-del-padre.note.aspx', 'https://www.laprensa.com.ar/531083-Vida-y-obra-del-doctor-Luis-Agote.note.aspx', 'https://www.laprensa.com.ar/530785-Nueva-avanzada-de-la-OMS-en-su-afan-de-control-totalitario.note.aspx', 'https://www.laprensa.com.ar/531011-Fuerte-caida-del-ecosistema-de-startups-argentino.note.aspx', 'https://www.laprensa.com.ar/531011-Fuerte-caida-del-ecosistema-de-startups-argentino.note.aspx\" class=\"thumb-url', 'https://www.laprensa.com.ar/531013-Gran-Bretana-aprueba-la-compra-de-iRobot-por-parte-de-Amazon.note.aspx', 'https://www.laprensa.com.ar/531016-Una-guia-con-inteligencia-artificial-impulsa-los-puestos-callejeros-de-comida-de-Mexico.note.aspx', 'https://www.laprensa.com.ar/530675-Los-Juegos-del-Hambre-de-datos.note.aspx', 'https://www.laprensa.com.ar/530395-Twitter-elecciones-y-la-libertad-de-expresion-segun-Elon-Musk.note.aspx', 'https://www.laprensa.com.ar/531193-Bradley-Beal-se-muda-a-Phoenix-tras-un-traspaso-que-envia-a-Chris-Paul-a-Washington.note.aspx', 'https://www.laprensa.com.ar/531193-Bradley-Beal-se-muda-a-Phoenix-tras-un-traspaso-que-envia-a-Chris-Paul-a-Washington.note.aspx\" class=\"thumb-url', 'https://www.laprensa.com.ar/531145-Escandalo-en-Mexico-echan-al-argentino-Diego-Cocca-a-4-cuatro-meses-de-su-nominacion.note.aspx', 'https://www.laprensa.com.ar/531137-Scaloni-destaco-la-actitud-y-los-minutos-de-los-jovenes-en-la-gira-por-Asia.note.aspx', 'https://www.laprensa.com.ar/531119-Argentina-vencio-a-Indonesia-y-cerro-con-una-alegria-la-gira-por-Asia.note.aspx', 'https://www.laprensa.com.ar/531103-Espana-es-el-rey-del-futbol-europeo.note.aspx', 'https://www.laprensa.com.ar/531076-No-incorporamos-a-la-vida-politica-una-autentica-cultura-democratica.note.aspx', 'https://www.laprensa.com.ar/531076-No-incorporamos-a-la-vida-politica-una-autentica-cultura-democratica.note.aspx', 'https://www.laprensa.com.ar/531156-Lo-mejor-y-lo-peor-del-ano-segun-los-criticos-musicales.note.aspx', 'https://www.laprensa.com.ar/531156-Lo-mejor-y-lo-peor-del-ano-segun-los-criticos-musicales.note.aspx', 'https://www.laprensa.com.ar/531194-Las-canciones-patrias-en-la-voz-de-Abel-Pintos.note.aspx', 'https://www.laprensa.com.ar/531194-Las-canciones-patrias-en-la-voz-de-Abel-Pintos.note.aspx\" class=\"thumb-url', 'https://www.laprensa.com.ar/531155-Encuentro-sonado-entre-una-gran-obra-y-una-gran-actriz.note.aspx', 'https://www.laprensa.com.ar/531155-Encuentro-sonado-entre-una-gran-obra-y-una-gran-actriz.note.aspx\" class=\"thumb-url', 'https://www.laprensa.com.ar/531104-Camara-del-crimen.note.aspx', 'https://www.laprensa.com.ar/531104-Camara-del-crimen.note.aspx\" class=\"thumb-url', 'https://www.laprensa.com.ar/531098-Fito-Paez-anuncio-que-volvera-al-cine-con-dos-nuevos-proyectos.note.aspx', 'https://www.laprensa.com.ar/531098-Fito-Paez-anuncio-que-volvera-al-cine-con-dos-nuevos-proyectos.note.aspx\" class=\"thumb-url', 'https://www.laprensa.com.ar/531075-Lorca-y-el-heroismo-de-la-fragilidad.note.aspx', 'https://www.laprensa.com.ar/531075-Lorca-y-el-heroismo-de-la-fragilidad.note.aspx\" class=\"thumb-url', 'https://www.laprensa.com.ar/531074-La-Italia-postergada-en-una-acuarela-banada-de-poesia.note.aspx', 'https://www.laprensa.com.ar/531074-La-Italia-postergada-en-una-acuarela-banada-de-poesia.note.aspx\" class=\"thumb-url', 'https://www.laprensa.com.ar/531002-Otras-nueve-mujeres-acusaron-a-Bill-Cosby-de-abusar-de-ellas.note.aspx', 'https://www.laprensa.com.ar/531002-Otras-nueve-mujeres-acusaron-a-Bill-Cosby-de-abusar-de-ellas.note.aspx\" class=\"thumb-url', 'https://www.laprensa.com.ar/531001-Philip-Glass-para-pocos-en-el-Colon.note.aspx', 'https://www.laprensa.com.ar/531001-Philip-Glass-para-pocos-en-el-Colon.note.aspx\" class=\"thumb-url', 'https://www.laprensa.com.ar/531073-Festejar-comiendo-afuera-con-papa.note.aspx', 'https://www.laprensa.com.ar/531073-Festejar-comiendo-afuera-con-papa.note.aspx\" class=\"thumb-url', 'https://www.laprensa.com.ar/530774-Delicias-gastronomicas-del-Nordeste.note.aspx', 'https://www.laprensa.com.ar/530774-Delicias-gastronomicas-del-Nordeste.note.aspx\" class=\"thumb-url', 'https://www.laprensa.com.ar/530466-Sabores-franceses-para-el-frio.note.aspx', 'https://www.laprensa.com.ar/530466-Sabores-franceses-para-el-frio.note.aspx\" class=\"thumb-url', 'https://www.laprensa.com.ar/530170-A-celebrar-el-Dia-de-la-hamburguesa.note.aspx', 'https://www.laprensa.com.ar/530170-A-celebrar-el-Dia-de-la-hamburguesa.note.aspx\" class=\"thumb-url', 'https://www.laprensa.com.ar/530005-Chocotorta-con-dulce-de-leche-ideal-para-el-Dia-de-la-Patria.note.aspx', 'https://www.laprensa.com.ar/530005-Chocotorta-con-dulce-de-leche-ideal-para-el-Dia-de-la-Patria.note.aspx\" class=\"thumb-url', 'https://www.laprensa.com.ar/529790-Dia-Mundial-del-Whisky.note.aspx', 'https://www.laprensa.com.ar/529790-Dia-Mundial-del-Whisky.note.aspx\" class=\"thumb-url', 'https://www.laprensa.com.ar/529574-Una-chef-espanola-con-gran-proyeccion.note.aspx', 'https://www.laprensa.com.ar/529574-Una-chef-espanola-con-gran-proyeccion.note.aspx\" class=\"thumb-url', 'https://www.laprensa.com.ar/529395-Realizaran-la-sexta-edicion-del-Festival-de-Cocina-Israeli.note.aspx', 'https://www.laprensa.com.ar/529395-Realizaran-la-sexta-edicion-del-Festival-de-Cocina-Israeli.note.aspx\" class=\"thumb-url', 'https://www.laprensa.com.ar/531197-Lideres.note.aspx', 'https://www.laprensa.com.ar/531197-Lideres.note.aspx', 'https://www.laprensa.com.ar/531196-El-escudo-de-San-Luis-y-Juan-Manuel-de-Rosas.note.aspx', 'https://www.laprensa.com.ar/531196-El-escudo-de-San-Luis-y-Juan-Manuel-de-Rosas.note.aspx', 'https://www.laprensa.com.ar/531195-El-Club-Evaristo-Parte-XVII-el-caso-de-Juan-Duarte.note.aspx', 'https://www.laprensa.com.ar/531195-El-Club-Evaristo-Parte-XVII-el-caso-de-Juan-Duarte.note.aspx', 'https://www.laprensa.com.ar/531194-Las-canciones-patrias-en-la-voz-de-Abel-Pintos.note.aspx', 'https://www.laprensa.com.ar/531194-Las-canciones-patrias-en-la-voz-de-Abel-Pintos.note.aspx', 'https://www.laprensa.com.ar/531193-Bradley-Beal-se-muda-a-Phoenix-tras-un-traspaso-que-envia-a-Chris-Paul-a-Washington.note.aspx', 'https://www.laprensa.com.ar/531193-Bradley-Beal-se-muda-a-Phoenix-tras-un-traspaso-que-envia-a-Chris-Paul-a-Washington.note.aspx', 'https://www.laprensa.com.ar/531192-Mueren-al-menos-41-reclusas-durante-un-enfrentamiento-entre-bandas-en-una-carcel-de-Honduras.note.aspx', 'https://www.laprensa.com.ar/531192-Mueren-al-menos-41-reclusas-durante-un-enfrentamiento-entre-bandas-en-una-carcel-de-Honduras.note.aspx', 'https://www.laprensa.com.ar/531157-Por-la-emocion-de-volver-a-cantarlas.note.aspx', 'https://www.laprensa.com.ar/531157-Por-la-emocion-de-volver-a-cantarlas.note.aspx', 'https://www.laprensa.com.ar/531143-No-al-cambio.note.aspx', 'https://www.laprensa.com.ar/531143-No-al-cambio.note.aspx']\n"
          ]
        }
      ],
      "source": [
        "# Resolución\n",
        "\n",
        "#Usamos el navegador para identificar la estructura de los datos que queremos extraer y creamos el patrón de búsqueda\n",
        "regla_de_busqueda = r'<a href=\"(.+)\" .+ target=\"_self\">'\n",
        "\n",
        "links = [link for link in re.findall(regla_de_busqueda, codigo_html(\"http://www.laprensa.com.ar/\"))]\n",
        "print(links)\n"
      ]
    },
    {
      "cell_type": "markdown",
      "metadata": {
        "id": "ahxVvZazA0aI"
      },
      "source": [
        "### **Método 2: BeautifulSoup**\n",
        "* Esta librería provee un *parser* de html, o sea un programa que entiende el código, permitiendonos hacer consultas más sofisticadas de forma simple, por ejemplo \"buscame todos los titulos h2 del sitio\".\n",
        "\n",
        "\n",
        "* Se usa para extraer los datos de archivos HTML. Crea un árbol de análisis a partir del código fuente de la página que se puede utilizar para extraer datos de forma jerárquica y más legible.\n",
        "\n",
        "<center>\n",
        "<img alt=\"\" width=\"700\" role=\"presentation\" src=\"https://miro.medium.com/max/700/0*ETFzXPCNHkPpqNv_.png\"> <br>\n",
        "\n",
        "<font color=\"gray\">\n",
        "Fuente: https://medium.com/milooproject/python-simple-crawling-using-beautifulsoup-8247657c2de5\n",
        "<font>\n",
        "</center>"
      ]
    },
    {
      "cell_type": "markdown",
      "metadata": {
        "id": "BGXRo8BWtIDc"
      },
      "source": [
        "## Generalidades"
      ]
    },
    {
      "cell_type": "code",
      "execution_count": 12,
      "metadata": {
        "id": "YLnDRuoftSDX"
      },
      "outputs": [],
      "source": [
        "from bs4 import BeautifulSoup\n",
        "from IPython.display import HTML\n",
        "import requests\n",
        "\n",
        "# Vamos a jugar un poco con la pagina de Exactas\n",
        "url_base = 'https://exactas.uba.ar/'\n",
        "endpoint_calendario = 'calendario-academico/'\n",
        "html_obtenido = requests.get(url_base + endpoint_calendario)\n",
        "soup = BeautifulSoup(html_obtenido.text, \"html.parser\")\n",
        "# print(soup)\n",
        "# print(type(soup))\n",
        "# print(soup.prettify())\n",
        "\n",
        "## Tambien podemos mostrar renderizar el html aca en Colab :D\n",
        "# HTML(html_obtenido.text)"
      ]
    },
    {
      "cell_type": "code",
      "execution_count": 13,
      "metadata": {
        "id": "Jo7AkWAhh23W",
        "colab": {
          "base_uri": "https://localhost:8080/"
        },
        "outputId": "81cd8c2c-6f10-46f1-faa0-95ed4ca7a9f0"
      },
      "outputs": [
        {
          "output_type": "stream",
          "name": "stdout",
          "text": [
            "<h3>INSCRIPCIÓN PRIMER CUATRIMESTRE 2023</h3>\n"
          ]
        }
      ],
      "source": [
        "# Si queremos quedarnos con un tag\n",
        "\n",
        "# El método \"find\" busca el primer elemento de la pagina con ese tag\n",
        "primer_h3 = soup.find('h3')\n",
        "print(primer_h3)\n",
        "\n",
        "# equivalente a:\n",
        "# print(soup.h3.text)"
      ]
    },
    {
      "cell_type": "code",
      "execution_count": 14,
      "metadata": {
        "id": "Az5VWD8qh5XP",
        "colab": {
          "base_uri": "https://localhost:8080/"
        },
        "outputId": "8f4cc6fc-6cdc-4ad7-ca15-b639ed97b5f5"
      },
      "outputs": [
        {
          "output_type": "stream",
          "name": "stdout",
          "text": [
            "[<h3>INSCRIPCIÓN PRIMER CUATRIMESTRE 2023</h3>, <h3>EXÁMENES DE FEBRERO-MARZO 2023</h3>, <h3>PRIMER BIMESTRE 2023 (8 semanas)</h3>, <h3>SEGUNDO BIMESTRE 2023 (8 semanas)</h3>, <h3>INSCRIPCIÓN SEGUNDO CUATRIMESTRE 2023</h3>, <h3>INSCRIPCIÓN A DOCTORADO 2023</h3>, <h3>SEMANAS DE LAS CIENCIAS 2023</h3>, <h3>ACTOS DE COLACIÓN DE GRADO Y POSGRADO 2023</h3>, <h3><strong>FERIADOS</strong></h3>, <h3 class=\"widget-title\"><a href=\"https://exactas.uba.ar/agenda/\">Agenda →</a></h3>]\n"
          ]
        }
      ],
      "source": [
        "# El método \"find_all\" busca TODOS los elementos de la pagina con ese tag y devuelve una lista que los contiene (en realidad devuelve un objeto de la clase \"bs4.element.ResultSet\")\n",
        "h3_todos = soup.find_all('h3')\n",
        "print(h3_todos)\n",
        "\n",
        "# Si usamos el parametro limit = 1, emulamos al metodo find:\n",
        "# h3_uno_solo = soup.find_all('h3',limit=1)\n",
        "# print(h3_uno_solo)"
      ]
    },
    {
      "cell_type": "code",
      "execution_count": 15,
      "metadata": {
        "id": "g_pjutuZh9wz",
        "colab": {
          "base_uri": "https://localhost:8080/"
        },
        "outputId": "4555a705-6449-43b2-d3ce-9b7eba3bbc5a"
      },
      "outputs": [
        {
          "output_type": "stream",
          "name": "stdout",
          "text": [
            "INSCRIPCIÓN PRIMER CUATRIMESTRE 2023\n",
            "EXÁMENES DE FEBRERO-MARZO 2023\n",
            "PRIMER BIMESTRE 2023 (8 semanas)\n",
            "SEGUNDO BIMESTRE 2023 (8 semanas)\n",
            "INSCRIPCIÓN SEGUNDO CUATRIMESTRE 2023\n",
            "INSCRIPCIÓN A DOCTORADO 2023\n",
            "SEMANAS DE LAS CIENCIAS 2023\n",
            "ACTOS DE COLACIÓN DE GRADO Y POSGRADO 2023\n",
            "FERIADOS\n"
          ]
        }
      ],
      "source": [
        "# podemos iterar sobre el objeto\n",
        "for fecha in h3_todos[:-1]:\n",
        "  # Extraemos el texto que se encuentra dentro del tag\n",
        "  print(fecha.text)"
      ]
    },
    {
      "cell_type": "code",
      "execution_count": 16,
      "metadata": {
        "id": "2KTxwctZiAC4",
        "colab": {
          "base_uri": "https://localhost:8080/"
        },
        "outputId": "4dc6ea95-f495-4d55-9592-ef9eb616c729"
      },
      "outputs": [
        {
          "output_type": "stream",
          "name": "stdout",
          "text": [
            "Agenda →\n",
            "\n",
            "21 junio, 2023,  : Finaliza Inscripción a la Semana de la Biología  | + INFO\n",
            "21 junio, 2023,  : Semana de la Física  | + INFO\n",
            "23 junio, 2023,  : Finaliza la Semana de la Física  | + INFO\n",
            "23 junio, 2023, 13.00: Coloquios DCAO/CIMA, con Anna Sörensson  | + INFO\n",
            "26 junio, 2023,  : Comienza la Jornada de Reciclaje de Aparatos Eléctricos y Electrónicos (RAEE)  | + INFO\n",
            "27 junio, 2023, 14.00: Charla de la Lic. en Ciencias de Datos  | + INFO\n",
            "\n"
          ]
        }
      ],
      "source": [
        "# Busco por clase, escribo class_ porque \"class\" es una palabra reservada en Python\n",
        "eventos_proximos = soup.find('aside', class_ = 'widget_my_calendar_upcoming_widget')\n",
        "for evento in eventos_proximos:\n",
        "  print(evento.text)"
      ]
    },
    {
      "cell_type": "code",
      "execution_count": 17,
      "metadata": {
        "id": "fVxip8F0iEYA",
        "colab": {
          "base_uri": "https://localhost:8080/"
        },
        "outputId": "9d3ab4ea-a36d-4e8c-b82f-b6497c353e14"
      },
      "outputs": [
        {
          "output_type": "stream",
          "name": "stdout",
          "text": [
            "Conocé Exactas: https://exactas.uba.ar/institucional/la-facultad/\n",
            "Carreras de Grado: https://exactas.uba.ar/ensenanza/carreras-de-grado/\n",
            "Carreras de Posgrado: https://exactas.uba.ar/ensenanza/carreras-de-posgrado/\n",
            "Cursos de Posgrado: https://exactas.uba.ar/ensenanza/cursos-de-posgrado/\n",
            "Estudiantes Internacionales: https://exactas.uba.ar/informacion-para-estudiantes-internacionales/\n",
            "Orientación Vocacional: https://exactas.uba.ar/extension/ov/\n",
            "Becas para estudio: https://exactas.uba.ar/becas-para-estudio/\n",
            "Carreras de Grado: https://exactas.uba.ar/ensenanza/carreras-de-grado/\n",
            "Calendario Académico: https://exactas.uba.ar/calendario-academico/\n",
            "Inscripción de ingresantes: https://exactas.uba.ar/inscripcion-ingresantes/\n",
            "Inscripción a materias: http://inscripciones.exactas.uba.ar/exactas/\n",
            "Programa de Ingresantes: https://exactas.uba.ar/cbc/\n",
            "Becas para estudio: https://exactas.uba.ar/becas-para-estudio/\n",
            "Becas de Investigación: https://exactas.uba.ar/becas-de-investigacion/\n",
            "Distribución de Aulas Facultad: https://exactas.uba.ar/distribucion-de-aulas/\n",
            "Distribución de aulas CBC: https://exactas.uba.ar/distribucion-de-aulas-cbc/\n",
            "Orientación Vocacional: https://exactas.uba.ar/extension/ov/\n",
            "Bibliotecas: https://exactas.uba.ar/ensenanza/bibliotecas/\n",
            "Pasantías Educativas: https://exactas.uba.ar/pasantias-educativas/\n",
            "Campus Virtual: http://campus.exactas.uba.ar/\n",
            "Diplomas y certificados: https://exactas.uba.ar/diplomas-y-certificados/\n",
            "Movilidad Internacional: https://exactas.uba.ar/movilidad-internacional/\n",
            "Ofertas de trabajo profesional: https://exactas.uba.ar/ofertas-de-trabajo-profesional/\n",
            "Programa de Formación y Trabajo en Biblioteca: https://exactas.uba.ar/programa-de-formacion-y-trabajo/\n",
            "Prácticas sociales educativas: https://exactas.uba.ar/practicas-sociales-educativas/\n",
            "Concursos: https://exactas.uba.ar/institucional/concursos/\n",
            "Sistema de Inscripciones: http://inscripciones.exactas.uba.ar\n",
            "Calendario Académico: https://exactas.uba.ar/calendario-academico/\n",
            "Distribución de aulas Facultad: https://exactas.uba.ar/distribucion-de-aulas/\n",
            "Trámites: https://exactas.uba.ar/tramites/\n",
            "Campus Virtual: http://campus.exactas.uba.ar/\n",
            "Movilidad Internacional: https://exactas.uba.ar/movilidad-internacional/\n",
            "Concursos Nodocentes: https://exactas.uba.ar/institucional/concursos/concursos-no-docentes/\n",
            "Trámites: https://exactas.uba.ar/tramites/\n",
            "Recursos Humanos UBA: https://rrhh.uba.ar/SitePages/Portal-UBA.aspx\n",
            "Carreras de Posgrado: https://exactas.uba.ar/ensenanza/carreras-de-posgrado/\n",
            "Cursos de Posgrado: https://exactas.uba.ar/ensenanza/cursos-de-posgrado/\n",
            "Juras: https://exactas.uba.ar/juras/\n",
            "Becas de Investigación: https://exactas.uba.ar/becas-de-investigacion/\n",
            "Padrón de Graduadas/os: https://exactas.uba.ar/padron-de-graduados-as/\n",
            "Base y Lista de Graduadas/os: https://exactas.uba.ar/base-y-lista-de-graduados/\n",
            "Información y actividades: https://exactas.uba.ar/area-de-graduados/\n",
            "Ofertas de trabajo profesional: https://exactas.uba.ar/ofertas-de-trabajo-profesional/\n",
            "Becas de Investigación: https://exactas.uba.ar/becas-de-investigacion/\n",
            "Incentivos: https://exactas.uba.ar/incentivos/\n",
            "Subsidios: https://exactas.uba.ar/subsidios/\n",
            "Gestión de convenios: https://exactas.uba.ar/gestion-de-convenios/\n",
            "Propiedad Intelectual – Patentamiento: https://exactas.uba.ar/vinculacion/propiedad-intelectual/\n",
            "Facilidades y Equipos: https://exactas.uba.ar/centros-de-servicios/\n",
            "Bioterio: https://exactas.uba.ar/bioterio-central/\n",
            "Experimentación animal: https://exactas.uba.ar/cicual/\n",
            "Movilidad Internacional: https://exactas.uba.ar/movilidad-internacional/\n",
            "Viajes Internacionales: https://exactas.uba.ar/viajes-internacionales/\n",
            "Proxy de Revistas: https://exactas.uba.ar/proxy-de-revistas/\n",
            "Trámites: https://exactas.uba.ar/tramites/\n",
            "Bibliotecas: https://exactas.uba.ar/ensenanza/bibliotecas/\n",
            "Comisión de Hábitat: https://exactas.uba.ar/comision-de-habitat/\n",
            "Exactas Verde: https://exactas.uba.ar/exactas-verde/\n",
            "Talleres Culturales: https://exactas.uba.ar/talleres-culturales/\n",
            "Deportes: https://exactas.uba.ar/deportes/\n",
            "Jardín Maternal: http://jardin.exactas.uba.ar/\n",
            "Cursos de Idiomas: https://exactas.uba.ar/cursos-de-idiomas/\n",
            "Comedores: https://exactas.uba.ar/comedores/\n",
            "Avisos Exactas: https://exactas.uba.ar/avisos-exactas/\n",
            "Intranet: http://intranet.exactas.uba.ar/\n",
            "Directorio de teléfonos y correos: https://exactas.uba.ar/directorio-telefonico/\n",
            "Digesto normativo: https://exactas.uba.ar/institucional/la-facultad/digesto-normativo/\n",
            "Elecciones Consejo Directivo: https://exactas.uba.ar/elecciones-consejo-directivo/\n",
            "Contacto: https://exactas.uba.ar/contacto/\n",
            ": https://twitter.com/exactas_uba\n",
            ": https://www.facebook.com/UBAExactas\n",
            ": https://www.youtube.com/exactasubaoficial\n",
            ": https://www.linkedin.com/company/facultad-de-ciencias-exactas-y-naturales-uba\n",
            ": https://www.instagram.com/exactas_uba/\n",
            "\n",
            "\n",
            "\n",
            "\n",
            ": https://exactas.uba.ar/\n",
            "La Facultad: https://exactas.uba.ar/institucional/la-facultad/\n",
            "Decanato y Secretarías: https://exactas.uba.ar/institucional/autoridades/decanato-y-secretarias/\n",
            "Consejo Directivo: https://exactas.uba.ar/institucional/autoridades/informacion-del-consejo/\n",
            "Concursos: https://exactas.uba.ar/institucional/concursos/\n",
            "Seguridad laboral y ambiental: https://exactas.uba.ar/higieneyseguridad/\n",
            "Memoria y Derechos Humanos: https://exactas.uba.ar/institucional/memoria-derechos-humanos/\n",
            "Programa por la Igualdad de Género: https://exactas.uba.ar/genex/\n",
            "Programa de Historia de la FCEN: https://exactas.uba.ar/institucional/programa-de-historia-de-la-fcen/\n",
            "Carreras de Grado: https://exactas.uba.ar/ensenanza/carreras-de-grado/\n",
            "Carreras de Posgrado: https://exactas.uba.ar/ensenanza/carreras-de-posgrado/\n",
            "Diplomaturas: https://exactas.uba.ar/ensenanza/diplomaturas/\n",
            "Departamentos Docentes: https://exactas.uba.ar/ensenanza/departamentos-docentes/\n",
            "Bibliotecas: https://exactas.uba.ar/ensenanza/bibliotecas/\n",
            "Programas Temáticos: https://exactas.uba.ar/investigacion/areas-de-investigacion/\n",
            "Institutos de investigación: https://exactas.uba.ar/investigacion/institutos-de-investigacion/\n",
            "Oficina de Vinculación y Transferencia Tecnológica: https://exactas.uba.ar/vinculacion/\n",
            "Facilidades y Equipamiento para la Investigación, la Vinculación y la Transferencia Tecnológica: https://exactas.uba.ar/sic/\n",
            "Comunicación Pública de la Ciencia: https://exactas.uba.ar/extension/comunicacion-publica-de-la-ciencia/\n",
            "Articulación Territorial: https://exactas.uba.ar/extension/articulacion-territorial/\n",
            "Escuelas Secundarias: https://exactas.uba.ar/extension/escuelas-secundarias/\n",
            "Ambiente: https://exactas.uba.ar/extension/ambiente/\n",
            "\n",
            "\n",
            "\n",
            "\n",
            ": https://exactas.uba.ar/\n",
            "La Facultad: https://exactas.uba.ar/institucional/la-facultad/\n",
            "Decanato y Secretarías: https://exactas.uba.ar/institucional/autoridades/decanato-y-secretarias/\n",
            "Consejo Directivo: https://exactas.uba.ar/institucional/autoridades/informacion-del-consejo/\n",
            "Concursos: https://exactas.uba.ar/institucional/concursos/\n",
            "Seguridad laboral y ambiental: https://exactas.uba.ar/higieneyseguridad/\n",
            "Memoria y Derechos Humanos: https://exactas.uba.ar/institucional/memoria-derechos-humanos/\n",
            "Programa por la Igualdad de Género: https://exactas.uba.ar/genex/\n",
            "Programa de Historia de la FCEN: https://exactas.uba.ar/institucional/programa-de-historia-de-la-fcen/\n",
            "Carreras de Grado: https://exactas.uba.ar/ensenanza/carreras-de-grado/\n",
            "Carreras de Posgrado: https://exactas.uba.ar/ensenanza/carreras-de-posgrado/\n",
            "Diplomaturas: https://exactas.uba.ar/ensenanza/diplomaturas/\n",
            "Departamentos Docentes: https://exactas.uba.ar/ensenanza/departamentos-docentes/\n",
            "Bibliotecas: https://exactas.uba.ar/ensenanza/bibliotecas/\n",
            "Programas Temáticos: https://exactas.uba.ar/investigacion/areas-de-investigacion/\n",
            "Institutos de investigación: https://exactas.uba.ar/investigacion/institutos-de-investigacion/\n",
            "Oficina de Vinculación y Transferencia Tecnológica: https://exactas.uba.ar/vinculacion/\n",
            "Facilidades y Equipamiento para la Investigación, la Vinculación y la Transferencia Tecnológica: https://exactas.uba.ar/sic/\n",
            "Comunicación Pública de la Ciencia: https://exactas.uba.ar/extension/comunicacion-publica-de-la-ciencia/\n",
            "Articulación Territorial: https://exactas.uba.ar/extension/articulacion-territorial/\n",
            "Escuelas Secundarias: https://exactas.uba.ar/extension/escuelas-secundarias/\n",
            "Ambiente: https://exactas.uba.ar/extension/ambiente/\n",
            "Inicio: https://exactas.uba.ar\n",
            ": https://exactas.uba.ar/wp-content/uploads/2022/12/Almanaque-2023.pdf\n",
            "Agenda →: https://exactas.uba.ar/agenda/\n",
            "+ INFO: https://exactas.uba.ar/agenda/?mc_id=1980\n",
            "+ INFO: https://exactas.uba.ar/agenda/?mc_id=1841\n",
            "+ INFO: https://exactas.uba.ar/agenda/?mc_id=1842\n",
            "+ INFO: https://exactas.uba.ar/agenda/?mc_id=1982\n",
            "+ INFO: https://exactas.uba.ar/agenda/?mc_id=1956\n",
            "+ INFO: https://exactas.uba.ar/agenda/?mc_id=1938\n",
            "La Facultad: https://exactas.uba.ar/institucional/la-facultad/\n",
            "Decanato y Secretarías: https://exactas.uba.ar/institucional/autoridades/decanato-y-secretarias/\n",
            "Consejo Directivo: https://exactas.uba.ar/institucional/autoridades/informacion-del-consejo/\n",
            "Concursos: https://exactas.uba.ar/institucional/concursos/\n",
            "Seguridad laboral y ambiental: https://exactas.uba.ar/higieneyseguridad/\n",
            "Memoria y Derechos Humanos: https://exactas.uba.ar/institucional/memoria-derechos-humanos/\n",
            "Programa por la Igualdad de Género: https://exactas.uba.ar/genex/\n",
            "Programa de Historia de la FCEN: https://exactas.uba.ar/institucional/programa-de-historia-de-la-fcen/\n",
            "Carreras de Grado: https://exactas.uba.ar/ensenanza/carreras-de-grado/\n",
            "Carreras de Posgrado: https://exactas.uba.ar/ensenanza/carreras-de-posgrado/\n",
            "Diplomaturas: https://exactas.uba.ar/ensenanza/diplomaturas/\n",
            "Departamentos Docentes: https://exactas.uba.ar/ensenanza/departamentos-docentes/\n",
            "Bibliotecas: https://exactas.uba.ar/ensenanza/bibliotecas/\n",
            "Programas Temáticos: https://exactas.uba.ar/investigacion/areas-de-investigacion/\n",
            "Institutos de investigación: https://exactas.uba.ar/investigacion/institutos-de-investigacion/\n",
            "Oficina de Vinculación y Transferencia Tecnológica: https://exactas.uba.ar/vinculacion/\n",
            "Facilidades y Equipamiento para la Investigación, la Vinculación y la Transferencia Tecnológica: https://exactas.uba.ar/sic/\n",
            "Comunicación Pública de la Ciencia: https://exactas.uba.ar/extension/comunicacion-publica-de-la-ciencia/\n",
            "Articulación Territorial: https://exactas.uba.ar/extension/articulacion-territorial/\n",
            "Escuelas Secundarias: https://exactas.uba.ar/extension/escuelas-secundarias/\n",
            "Ambiente: https://exactas.uba.ar/extension/ambiente/\n",
            "Campus Virtual: http://campus.exactas.uba.ar\n",
            "Trámites: http://exactas.uba.ar/tramites/\n",
            "Intranet: http://intranet.exactas.uba.ar/\n",
            "Webmail: http://webmail.exactas.uba.ar/\n",
            "Contacto: /contacto/\n",
            "UBA: http://www.uba.ar/\n",
            ": https://exactas.uba.ar\n",
            "Inicio: https://exactas.uba.ar/\n",
            "Institucional: #\n",
            "La Facultad: https://exactas.uba.ar/institucional/la-facultad/\n",
            "Decanato y Secretarías: https://exactas.uba.ar/institucional/autoridades/decanato-y-secretarias/\n",
            "Consejo Directivo: https://exactas.uba.ar/institucional/autoridades/informacion-del-consejo/\n",
            "Concursos: https://exactas.uba.ar/institucional/concursos/\n",
            "Seguridad laboral y ambiental: https://exactas.uba.ar/higieneyseguridad/\n",
            "Memoria y Derechos Humanos: https://exactas.uba.ar/institucional/memoria-derechos-humanos/\n",
            "Programa por la Igualdad de Género: https://exactas.uba.ar/genex/\n",
            "Programa de Historia de la FCEN: https://exactas.uba.ar/institucional/programa-de-historia-de-la-fcen/\n",
            "Carreras de Grado: https://exactas.uba.ar/ensenanza/carreras-de-grado/\n",
            "Carreras de Posgrado: https://exactas.uba.ar/ensenanza/carreras-de-posgrado/\n",
            "Diplomaturas: https://exactas.uba.ar/ensenanza/diplomaturas/\n",
            "Departamentos Docentes: https://exactas.uba.ar/ensenanza/departamentos-docentes/\n",
            "Bibliotecas: https://exactas.uba.ar/ensenanza/bibliotecas/\n",
            "Programas Temáticos: https://exactas.uba.ar/investigacion/areas-de-investigacion/\n",
            "Institutos de investigación: https://exactas.uba.ar/investigacion/institutos-de-investigacion/\n",
            "Oficina de Vinculación y Transferencia Tecnológica: https://exactas.uba.ar/vinculacion/\n",
            "Facilidades y Equipamiento para la Investigación, la Vinculación y la Transferencia Tecnológica: https://exactas.uba.ar/sic/\n",
            "Comunicación Pública de la Ciencia: https://exactas.uba.ar/extension/comunicacion-publica-de-la-ciencia/\n",
            "Articulación Territorial: https://exactas.uba.ar/extension/articulacion-territorial/\n",
            "Escuelas Secundarias: https://exactas.uba.ar/extension/escuelas-secundarias/\n",
            "Ambiente: https://exactas.uba.ar/extension/ambiente/\n",
            "Conocé Exactas: http://exactas.uba.ar/es/la-facultad/\n",
            "Carreras de Grado: https://exactas.uba.ar/ensenanza/carreras-de-grado/\n",
            "Carreras de Posgrado: https://exactas.uba.ar/ensenanza/carreras-de-posgrado/\n",
            "Cursos de Posgrado: https://exactas.uba.ar/ensenanza/cursos-de-posgrado/\n",
            "Estudiantes Internacionales: https://exactas.uba.ar/informacion-para-estudiantes-internacionales/\n",
            "Orientación Vocacional: https://exactas.uba.ar/extension/ov/\n",
            "Becas para estudio: https://exactas.uba.ar/becas-para-estudio/\n",
            "Carreras de Grado: https://exactas.uba.ar/ensenanza/carreras-de-grado/\n",
            "Calendario Académico: https://exactas.uba.ar/calendario-academico/\n",
            "Inscripción de ingresantes: https://exactas.uba.ar/inscripcion-ingresantes/\n",
            "Inscripción a materias: http://inscripciones.exactas.uba.ar/exactas/\n",
            "Programa de Ingresantes: https://exactas.uba.ar/cbc/\n",
            "Becas para estudio: https://exactas.uba.ar/becas-para-estudio/\n",
            "Becas de Investigación: https://exactas.uba.ar/becas-de-investigacion/\n",
            "Distribución de aulas Facultad: https://exactas.uba.ar/distribucion-de-aulas/\n",
            "Orientación Vocacional: https://exactas.uba.ar/extension/ov/\n",
            "Bibliotecas: https://exactas.uba.ar/ensenanza/bibliotecas/\n",
            "Pasantías Educativas: https://exactas.uba.ar/pasantias-educativas/\n",
            "Campus Virtual: http://campus.exactas.uba.ar/\n",
            "Diplomas y certificados: https://exactas.uba.ar/diplomas-y-certificados/\n",
            "Movilidad Internacional: https://exactas.uba.ar/movilidad-internacional/\n",
            "Ofertas de trabajo profesional: https://exactas.uba.ar/ofertas-de-trabajo-profesional/\n",
            "Programa de Formación y Trabajo en Biblioteca: https://exactas.uba.ar/programa-de-formacion-y-trabajo/\n",
            "Prácticas sociales educativas: https://exactas.uba.ar/practicas-sociales-educativas/\n",
            "Concursos: https://exactas.uba.ar/institucional/concursos/\n",
            "Sistema de Inscripciones: http://inscripciones.exactas.uba.ar\n",
            "Calendario Académico: https://exactas.uba.ar/calendario-academico/\n",
            "Distribución de aulas Facultad: https://exactas.uba.ar/distribucion-de-aulas/\n",
            "Trámites: https://exactas.uba.ar/tramites/\n",
            "Campus Virtual: http://campus.exactas.uba.ar/\n",
            "Movilidad Internacional: https://exactas.uba.ar/movilidad-internacional/\n",
            "Concursos Nodocentes: https://exactas.uba.ar/institucional/concursos/concursos-no-docentes/\n",
            "Trámites: https://exactas.uba.ar/tramites/\n",
            "Recursos Humanos UBA: https://rrhh.uba.ar/SitePages/Portal-UBA.aspx\n",
            "Carreras de Posgrado: https://exactas.uba.ar/ensenanza/carreras-de-posgrado/\n",
            "Cursos de Posgrado: https://exactas.uba.ar/ensenanza/cursos-de-posgrado/\n",
            "Juras: https://exactas.uba.ar/juras/\n",
            "Becas de Investigación: https://exactas.uba.ar/becas-de-investigacion/\n",
            "Padrón de Graduadas/os: https://exactas.uba.ar/padron-de-graduados-as/\n",
            "Base y Lista de Graduadas/os: https://exactas.uba.ar/base-y-lista-de-graduados/\n",
            "Información y actividades: https://exactas.uba.ar/area-de-graduados/\n",
            "Ofertas de trabajo profesional: https://exactas.uba.ar/ofertas-de-trabajo-profesional/\n",
            "Becas de Investigación: https://exactas.uba.ar/becas-de-investigacion/\n",
            "Incentivos: https://exactas.uba.ar/incentivos/\n",
            "Subsidios: https://exactas.uba.ar/subsidios/\n",
            "Gestión de convenios: https://exactas.uba.ar/gestion-de-convenios/\n",
            "Propiedad Intelectual – Patentamiento: https://exactas.uba.ar/vinculacion/propiedad-intelectual/\n",
            "Facilidades y Equipos: https://exactas.uba.ar/centros-de-servicios/\n",
            "Bioterio: https://exactas.uba.ar/bioterio-central/\n",
            "Experimentación animal: https://exactas.uba.ar/cicual/\n",
            "Movilidad Internacional: https://exactas.uba.ar/movilidad-internacional/\n",
            "Viajes Internacionales: https://exactas.uba.ar/viajes-internacionales/\n",
            "Proxy de Revistas: https://exactas.uba.ar/proxy-de-revistas/\n",
            "Trámites: https://exactas.uba.ar/tramites/\n",
            "Bibliotecas: https://exactas.uba.ar/ensenanza/bibliotecas/\n",
            "Comisión de Hábitat: https://exactas.uba.ar/comision-de-habitat/\n",
            "Exactas Verde: https://exactas.uba.ar/exactas-verde/\n",
            "Talleres Culturales: https://exactas.uba.ar/talleres-culturales/\n",
            "Deportes: https://exactas.uba.ar/deportes/\n",
            "Cursos de Idiomas: https://exactas.uba.ar/cursos-de-idiomas/\n",
            "Jardín Maternal: http://jardin.exactas.uba.ar/\n",
            "Comedores: https://exactas.uba.ar/comedores/\n",
            "Avisos Exactas: https://exactas.uba.ar/avisos-exactas/\n",
            "Intranet: http://intranet.exactas.uba.ar/\n",
            "Directorio de teléfonos y correos: https://exactas.uba.ar/directorio-telefonico/\n",
            "Digesto normativo: https://exactas.uba.ar/institucional/la-facultad/digesto-normativo/\n",
            "Elecciones Consejo Directivo: https://exactas.uba.ar/elecciones-consejo-directivo/\n",
            "Contacto: https://exactas.uba.ar/contacto/\n"
          ]
        }
      ],
      "source": [
        "# Todos los links. Esto podría ser útil para seguir scrapeando todo el sitio haciendo requests en ellos\n",
        "a_todos = soup.find_all('a', href=True)\n",
        "for a in a_todos:\n",
        "  print(f\"{a.text}: {a['href']}\")"
      ]
    },
    {
      "cell_type": "code",
      "execution_count": 18,
      "metadata": {
        "id": "HuLP4tVviG-D",
        "colab": {
          "base_uri": "https://localhost:8080/"
        },
        "outputId": "9a29bebe-d4fa-40b1-8d8e-b47dfa6b44b2"
      },
      "outputs": [
        {
          "output_type": "stream",
          "name": "stdout",
          "text": [
            " Dia: 1 de enero           | fecha: Año Nuevo                                                      | evento: Inamovible           \n",
            " Dia: 20 de febrero        | fecha: Carnaval                                                       | evento: Inamovible           \n",
            " Dia: 21 de febrero        | fecha: Carnaval                                                       | evento: Inamovible           \n",
            " Dia: 24 de marzo          | fecha: Día Nacional de la Memoria por la Verdad y la Justicia         | evento: Inamovible           \n",
            " Dia: 6 de abril           | fecha: Jueves Santo                                                   | evento: No laborable y no trasladable \n",
            " Dia: 6 de abril           | fecha: Pascua Judía (Pesaj)                                           | evento: (*) (1)              \n",
            " Dia: 24 de abril          | fecha: Día de Acción por la Tolerancia y el Respeto entre los Pueblos | evento: (**)                 \n",
            " Dia: 26 de mayo           | fecha: Feriado con fines turísticos                                   | evento:                      \n",
            " Dia: 17 de junio          | fecha: Paso a la Inmortalidad del General Güemes                      | evento: Correspondeal 17 de junio \n",
            " Dia: 20 de junio          | fecha: Paso a la Inmortalidad del General Belgrano                    | evento: Inamovible           \n",
            " Dia: 9 de julio           | fecha: Día de la Independencia                                        | evento: Inamovible           \n",
            " Dia: 9 de julio           | fecha: Año Nuevo Islámico                                             | evento: (***)                \n",
            " Dia: 21 de agosto         | fecha: Paso a la Inmortalidad del General San Martín                  | evento: Trasladable (corresponde al 17 de agosto) \n",
            " Dia: 16 de septiembre     | fecha: Año Nuevo Judío                                                | evento: (*) (3)              \n",
            " Dia: 21 de septiembre     | fecha: Día del Estudiante                                             | evento:                      \n",
            " Dia: 25 de septiembre     | fecha: Día del Perdón                                                 | evento: (*)                  \n",
            " Dia: 13 de octubre        | fecha: Feriado con fines turísticos                                   | evento:                      \n",
            " Dia: 16 de octubre        | fecha: Día del Respeto a la Diversidad Cultural                       | evento: Trasladable (corresponde al 12 de octubre) \n",
            " Dia: 20 de noviembre      | fecha: Día de la Soberanía Nacional                                   | evento: Trasladable          \n",
            " Dia: 8 de diciembre       | fecha: Inmaculada Concepción de María                                 | evento: Inamovible           \n",
            " Dia: 25 de diciembre      | fecha: Navidad                                                        | evento: Inamovible           \n"
          ]
        }
      ],
      "source": [
        "# Podemos tambien scrapear un tabla y traernos los feriados\n",
        "tabla_feriados = soup.find_all('td')\n",
        "\n",
        "# Con 'attr' podemos acceder a cualquier atributo de a etiqueta usando un diccionario\n",
        "dias = soup.find_all('td', attrs={'style':\"width: 14.8064%; height: 56px;\"})\n",
        "fechas = soup.find_all('td', attrs={'style':\"width: 48.6333%; height: 56px;\"})\n",
        "eventos = soup.find_all('td', attrs={'style':\"width: 26.6515%; height: 56px;\"})\n",
        "# print(tabla_feriados)\n",
        "\n",
        "for pos in range(len(dias)):\n",
        "  print(f\" Dia: {dias[pos].text.strip():<20} | fecha: {fechas[pos].text.strip():<62} | evento: {eventos[pos].text.strip():<20} \")"
      ]
    },
    {
      "cell_type": "markdown",
      "metadata": {
        "id": "wfxO0wO5ubqt"
      },
      "source": [
        "<font color='red'>Ejercicio</font>\n",
        "\n",
        "* Generar diccionario cuyas claves sean los nombres de las carreras de grado vigentes en Exactas y sus valores el link asociado a cada una de ellas. https://exactas.uba.ar/ensenanza/carreras-de-grado/\n",
        "\n",
        "**¡A trabajar!**\n",
        "\n",
        "<img src=\"https://img.icons8.com/ios/452/spade.png\" width=\"80\" height=\"auto\"/>\n"
      ]
    },
    {
      "cell_type": "code",
      "execution_count": 19,
      "metadata": {
        "id": "WCmp2i2a5nqr",
        "colab": {
          "base_uri": "https://localhost:8080/"
        },
        "outputId": "fd382903-3b50-4d2f-ead2-c8b1e61a7694"
      },
      "outputs": [
        {
          "output_type": "execute_result",
          "data": {
            "text/plain": [
              "{'Ciencias Biológicas': 'https://exactas.uba.ar/ensenanza/carreras-de-grado/ciencias-biologicas/',\n",
              " 'Ciencias de Datos': 'https://exactas.uba.ar/ensenanza/carreras-de-grado/ciencias-de-datos/',\n",
              " 'Ciencias de la Atmósfera': 'https://exactas.uba.ar/ensenanza/carreras-de-grado/ciencias-de-la-atmosfera/',\n",
              " 'Ciencias de la Computación': 'https://exactas.uba.ar/ensenanza/carreras-de-grado/ciencias-de-la-computacion/',\n",
              " 'Ciencias Físicas': 'https://exactas.uba.ar/ensenanza/carreras-de-grado/ciencias-fisicas/',\n",
              " 'Ciencias Geológicas': 'https://exactas.uba.ar/ensenanza/carreras-de-grado/ciencias-geologicas/',\n",
              " 'Ciencias Matemáticas': 'https://exactas.uba.ar/ensenanza/carreras-de-grado/ciencias-matematicas/',\n",
              " 'Ciencias Químicas': 'https://exactas.uba.ar/ensenanza/carreras-de-grado/ciencias-quimicas/',\n",
              " 'Ciencia y Tecnología de Alimentos': 'https://exactas.uba.ar/ensenanza/carreras-de-grado/ciencia-y-tecnologia-de-alimentos/',\n",
              " 'Oceanografía': 'https://exactas.uba.ar/ensenanza/carreras-de-grado/oceanografia/',\n",
              " 'Paleontología': 'https://exactas.uba.ar/ensenanza/carreras-de-grado/paleontologia/',\n",
              " 'Profesorados en Ciencias': 'https://exactas.uba.ar/ensenanza/carreras-de-grado/profesorados-en-ciencias/'}"
            ]
          },
          "metadata": {},
          "execution_count": 19
        }
      ],
      "source": [
        "# Resolución\n",
        "\n",
        "# Obtenemos la información\n",
        "url_base = 'https://exactas.uba.ar/'\n",
        "endpoint_grado = '/ensenanza/carreras-de-grado/'\n",
        "html_obtenido = requests.get(url_base + endpoint_grado)\n",
        "soup = BeautifulSoup(html_obtenido.text, \"html.parser\")\n",
        "\n",
        "# La parseamos\n",
        "ul = soup.find('ul', class_ = \"listado carreras grado\")\n",
        "carreras = {li.h2.text : li.a['href'] for li in ul if li != '\\n'}\n",
        "carreras"
      ]
    },
    {
      "cell_type": "markdown",
      "metadata": {
        "id": "GNkLPmfyA0aJ"
      },
      "source": [
        "#### Ejemplo 2: Cortazar"
      ]
    },
    {
      "cell_type": "code",
      "execution_count": 20,
      "metadata": {
        "id": "vgHsDKT6A0aJ",
        "colab": {
          "base_uri": "https://localhost:8080/"
        },
        "outputId": "99519a55-70ed-4727-e55b-4e419df7d40e"
      },
      "outputs": [
        {
          "output_type": "stream",
          "name": "stdout",
          "text": [
            "Guardando alguien-que-anda-por-ahi\n",
            "Guardando almuerzos\n",
            "Guardando amor-77\n",
            "Guardando apocalipsis-de-solentiname\n",
            "Guardando axolotl\n",
            "Guardando bestiario\n",
            "Guardando carta-a-una-senorita-en-paris\n",
            "Guardando cartas-de-mama\n",
            "Guardando casa-tomada\n",
            "Guardando cefalea\n",
            "Guardando circe\n",
            "Guardando condor-y-cronopio\n",
            "Guardando conducta-en-los-velorios\n",
            "Guardando conservacion-de-los-recuerdos\n",
            "Guardando continuidad-de-los-parques\n",
            "Guardando cortisimo-metraje\n",
            "Guardando deshoras\n",
            "Guardando despues-del-almuerzo\n",
            "Guardando el-diario-a-diario\n",
            "Guardando el-otro-cielo\n",
            "Guardando el-perseguidor-cortazar\n",
            "Guardando en-un-vaso-de-agua-fria-o-preferentemente-tibia\n",
            "Guardando epigrafe-de-rayuela\n",
            "Guardando final-del-juego\n",
            "Guardando grafitti-cortazar\n",
            "Guardando historia-cortazar\n",
            "Guardando historia-veridica\n",
            "Guardando instrucciones-para-cantar\n",
            "Guardando instrucciones-para-dar-cuerda-al-reloj\n",
            "Guardando instrucciones-para-john-howell\n",
            "Guardando instrucciones-para-llorar\n",
            "Guardando instrucciones-para-subir-una-escalera\n",
            "Guardando la-autopista-del-sur\n",
            "Guardando la-caricia-mas-profunda\n",
            "Guardando la-fe-en-el-tercer-mundo\n",
            "Guardando la-isla-a-mediodia\n",
            "Guardando la-noche-boca-arriba\n",
            "Guardando la-puerta-condenada\n",
            "Guardando la-salud-de-los-enfermos\n",
            "Guardando la-senorita-cora\n",
            "Guardando las-armas-secretas\n",
            "Guardando las-babas-del-diablo\n",
            "Guardando las-lineas-de-la-mano\n",
            "Guardando las-menades\n",
            "Guardando las-puertas-del-cielo\n",
            "Guardando lejana\n",
            "Guardando liliana-llorando\n",
            "Guardando los-buenos-servicios\n",
            "Guardando los-testigos\n",
            "Guardando los-venenos\n",
            "Guardando lucas-sus-roces-sociales\n",
            "Guardando lugar-llamado-kindberg\n",
            "Guardando manuscrito-hallado-en-un-bolsillo\n",
            "Guardando omnibus\n",
            "Guardando pagina-asesina\n",
            "Guardando patio-de-tarde\n",
            "Guardando perdida-y-recuperacion-del-pelo-cortazar\n",
            "Guardando peripecias-del-agua\n",
            "Guardando por-escrito-gallina-una\n",
            "Guardando queremos-tanto-a-glenda\n",
            "Guardando rayuela-capitulo-68\n",
            "Guardando relato-con-un-fondo-de-agua\n",
            "Guardando reunion\n",
            "Guardando secuencias\n",
            "Guardando tema-para-un-tapiz\n",
            "Guardando teoria-del-cangrejo\n",
            "Guardando todos-los-fuegos-el-fuego\n",
            "Guardando torito\n",
            "Guardando una-flor-amarilla\n",
            "Guardando usted-se-tendio-a-tu-lado\n",
            "Guardando verano-cortazar\n",
            "Guardando vestir-una-sombra\n",
            "Guardando vialidad\n"
          ]
        }
      ],
      "source": [
        "# Creo carpeta donde voy a guardar los cuentos\n",
        "!mkdir -p multimedia/cortazar/\n",
        "\n",
        "import re\n",
        "codigo_html_crudo = codigo_html('http://ciudadseva.com/autor/julio-cortazar/cuentos/')\n",
        "\n",
        "regla_para_url_de_un_cuento = r'(https://ciudadseva.com/texto/.+/)'\n",
        "\n",
        "for url_de_un_cuento in re.findall(regla_para_url_de_un_cuento, codigo_html_crudo):\n",
        "    codigo_html_interpretado = BeautifulSoup(codigo_html(url_de_un_cuento), 'html.parser')\n",
        "    elem = codigo_html_interpretado.find(\"div\", { \"class\" : \"text-justify\" })\n",
        "    cuento = elem.text\n",
        "\n",
        "    # Asi podemos guardar los resultados\n",
        "    nombre_del_archivo = url_de_un_cuento.split('/')[-2]\n",
        "    with open (f\"multimedia/cortazar/{nombre_del_archivo}.txt\", 'w') as out:\n",
        "        print(f'Guardando {nombre_del_archivo}')\n",
        "        out.write(cuento)"
      ]
    },
    {
      "cell_type": "markdown",
      "metadata": {
        "id": "pVzzO2iXA0aK"
      },
      "source": [
        "## Práctica: Mercadolibre"
      ]
    },
    {
      "cell_type": "markdown",
      "metadata": {
        "id": "oUGQfsEwSMXj"
      },
      "source": [
        "<font color='red'> Ejercicio </font>\n",
        "\n",
        "Descargá y calculá el promedio de los precios que aparecen en la primer página de mercado libre al buscar gibson"
      ]
    },
    {
      "cell_type": "code",
      "execution_count": 30,
      "metadata": {
        "id": "VqFNpq-tA0aK",
        "colab": {
          "base_uri": "https://localhost:8080/"
        },
        "outputId": "f1312bac-7a3c-44fc-d95a-4cde4f051885"
      },
      "outputs": [
        {
          "output_type": "stream",
          "name": "stdout",
          "text": [
            "2.662.000\n",
            "1.512.988\n",
            "218.399\n",
            "1.096.456\n",
            "1.809.921\n",
            "532.352\n",
            "744.679\n",
            "146.850\n",
            "129.500\n",
            "854.501\n",
            "370.586\n",
            "470.218\n",
            "1.073.787\n",
            "586.222\n",
            "854.501\n",
            "409.795\n",
            "1.000.830\n",
            "2.664.571\n",
            "520.071\n",
            "735.442\n",
            "370.600\n",
            "707.281\n",
            "5.206.590\n",
            "1.096.456\n",
            "876.340\n",
            "600.311\n",
            "600.311\n",
            "1.472.534\n",
            "956.696\n",
            "615.609\n",
            "129.276\n",
            "750.985\n",
            "918.637\n",
            "2.556.214\n",
            "1.500.000\n",
            "4.057.390\n",
            "1.360.773\n",
            "1.391.334\n",
            "532.976\n",
            "1.096.456\n",
            "3.465.686\n",
            "1.684.501\n",
            "2.940.221\n",
            "532.909\n",
            "1.512.988\n",
            "2.949\n",
            "811.645\n",
            "592.075\n",
            "[2662000, 1512988, 218399, 1096456, 1809921, 532352, 744679, 146850, 129500, 854501, 370586, 470218, 1073787, 586222, 854501, 409795, 1000830, 2664571, 520071, 735442, 370600, 707281, 5206590, 1096456, 876340, 600311, 600311, 1472534, 956696, 615609, 129276, 750985, 918637, 2556214, 1500000, 4057390, 1360773, 1391334, 532976, 1096456, 3465686, 1684501, 2940221, 532909, 1512988, 2949, 811645, 592075]\n",
            "El precio promedio es 1181946\n"
          ]
        }
      ],
      "source": [
        "# Resolución\n",
        "import requests\n",
        "import re\n",
        "\n",
        "def precios_gibson():\n",
        "    url = \"https://listado.mercadolibre.com.ar/gibson\"\n",
        "    soup = BeautifulSoup(codigo_html(url), 'html.parser')\n",
        "    prices = []\n",
        "    # COMPLETAR\n",
        "    for precio in soup.find_all('span', class_ = 'price-tag-fraction'):\n",
        "      precio = precio.text\n",
        "      print(precio)\n",
        "      prices.append(int(precio.replace('.','')))\n",
        "\n",
        "    return prices\n",
        "\n",
        "precios = precios_gibson()\n",
        "print(precios)\n",
        "import numpy as np\n",
        "print(f\"El precio promedio es {int(np.nanmean(precios))}\")"
      ]
    },
    {
      "cell_type": "markdown",
      "metadata": {
        "id": "QAOTO4i5VFqg"
      },
      "source": [
        "## Usando cookies 🍪\n",
        "\n",
        "Las [*cookies*](https://es.wikipedia.org/wiki/Cookie_(inform%C3%A1tica)) son bloques de datos creados por un servidor con información enviada por un sitio web y almacenada en el navegador del usuario, de manera que el sitio web puede consultar la actividad previa del navegador.\n",
        "\n",
        "Sus principales funciones son:\n",
        "\n",
        "* Recordar accesos para saber si ya se ha visitado la página (ejemplo: cuando nos *loggeamos* se guardan cookies).\n",
        "\n",
        "* Conocer información sobre los hábitos de navegación.\n",
        "\n",
        "También hay otro tipo de información que se guarda en algunas páginas que son las *sessions*, básicamente es un dato similar a una cookie pero que se guarda en el servidor en lugar de hacerlo en el cliente (nuestro navegador).\n",
        "\n",
        "Para algunos proyectos de *web scraping* puede ser útil interactuar con ellas."
      ]
    },
    {
      "cell_type": "code",
      "execution_count": 22,
      "metadata": {
        "id": "J9ToN5a0JswW",
        "colab": {
          "base_uri": "https://localhost:8080/"
        },
        "outputId": "c62f406c-b12a-4278-fc8d-27fcd6e07074"
      },
      "outputs": [
        {
          "output_type": "stream",
          "name": "stdout",
          "text": [
            "<class 'requests.cookies.RequestsCookieJar'>\n",
            "[<RequestsCookieJar[Cookie(version=0, name='CLIENT-TOKEN', value='eyJhbGciOiJub25lIiwidHlwIjoiSldUIn0.eyJpc3MiOiJrYWdnbGUiLCJhdWQiOiJjbGllbnQiLCJzdWIiOm51bGwsIm5idCI6IjIwMjMtMDYtMjBUMjE6NTE6MTMuODYyNjE4MloiLCJpYXQiOiIyMDIzLTA2LTIwVDIxOjUxOjEzLjg2MjYxODJaIiwianRpIjoiNTI1NGQ5NjUtYjQwYi00NGI4LTlkOWUtZTA4MmYyMDhmN2NlIiwiZXhwIjoiMjAyMy0wNy0yMFQyMTo1MToxMy44NjI2MTgyWiIsImFub24iOnRydWUsImZmIjpbIktlcm5lbHNEaXNhYmxlVW51c2VkQWNjZWxlcmF0b3JXYXJuaW5nIiwiS2VybmVsc0ZpcmViYXNlTG9uZ1BvbGxpbmciLCJDb21tdW5pdHlMb3dlckhlYWRlclNpemVzIiwiQWxsb3dGb3J1bUF0dGFjaG1lbnRzIiwiRm9yY2VOYXZGb290ZXJPbk1vYmlsZUFuZFRhYmxldCIsIlRwdU9uZVZtIiwiVHB1VHdvVm1EZXByZWNhdGVkIiwiVHB1VHdvVm1EaXNhYmxlZCIsIkZyb250ZW5kRXJyb3JSZXBvcnRpbmciLCJSZWdpc3RyYXRpb25OZXdzRW1haWxTaWdudXBJc09wdE91dCIsIkRhdGFzZXRzTWFuYWdlZEZvY3VzT25PcGVuIiwiRG9pRGF0YXNldFRvbWJzdG9uZXMiLCJDaGFuZ2VEYXRhc2V0T3duZXJzaGlwVG9PcmciLCJLZXJuZWxFZGl0b3JIYW5kbGVNb3VudE9uY2UiLCJLZXJuZWxQaW5uaW5nIiwiUGFnZVZpc2liaWxpdHlBbmFseXRpY3NSZXBvcnRlciIsIk1hdVJlcG9ydCIsIk1vZGVsc0NhY2hlZFRhZ1NlcnZpY2VFbmFibGVkIiwiQ29tcGV0aXRpb25zUnVsZXNLbSIsIkRhdGFzZXRzU2hhcmVkV2l0aFRoZW1TZWFyY2giLCJEYXRhc2V0c1ZvdGluZ0NoaXBzIiwiVGFnc01lbnVTbGlkZXJQYW5lbCIsIk1vZGVsSW5zdGFuY2VSZW5kZXJlZFVzYWdlIl0sImZmZCI6eyJLZXJuZWxFZGl0b3JBdXRvc2F2ZVRocm90dGxlTXMiOiIzMDAwMCIsIkZyb250ZW5kRXJyb3JSZXBvcnRpbmdTYW1wbGVSYXRlIjoiMCIsIkVtZXJnZW5jeUFsZXJ0QmFubmVyIjoie30iLCJDbGllbnRScGNSYXRlTGltaXQiOiI0MCIsIkZlYXR1cmVkQ29tbXVuaXR5Q29tcGV0aXRpb25zIjoiMzUzMjUsMzcxNzQsMzM1NzksMzc4OTgsMzczNTQsMzc5NTksMzg4NjAiLCJBZGRGZWF0dXJlRmxhZ3NUb1BhZ2VMb2FkVGFnIjoiZGlzYWJsZWQiLCJDb21wZXRpdGlvbk1ldHJpY1RpbWVvdXRNaW51dGVzIjoiMzAifSwicGlkIjoia2FnZ2xlLTE2MTYwNyIsInN2YyI6IndlYi1mZSIsInNkYWsiOiJBSXphU3lBNGVOcVVkUlJza0pzQ1pXVnotcUw2NTVYYTVKRU1yZUUiLCJibGQiOiI5ZGYwMjg5N2NlNWVmNjFhZDc0NGM1ZWQxMzMyMWM0ZTRjMjc3NGJiIn0.', port=None, port_specified=False, domain='www.kaggle.com', domain_specified=False, domain_initial_dot=False, path='/', path_specified=True, secure=True, expires=None, discard=True, comment=None, comment_url=None, rest={'samesite': 'lax'}, rfc2109=False), Cookie(version=0, name='CSRF-TOKEN', value='CfDJ8DnI-q5htDdNuP-KYyLKSWeVY28tIQBNwyvZhoRCLttAH3lvWW2shnidhL1xaxMoAkvduS3xcINw_AfbiWjbai_jKLypCvNq0e7HXD02oQ', port=None, port_specified=False, domain='www.kaggle.com', domain_specified=False, domain_initial_dot=False, path='/', path_specified=True, secure=True, expires=None, discard=True, comment=None, comment_url=None, rest={'samesite': 'lax', 'httponly': None}, rfc2109=False), Cookie(version=0, name='GCLB', value='CNidm8aUpbXjKQ', port=None, port_specified=False, domain='www.kaggle.com', domain_specified=False, domain_initial_dot=False, path='/', path_specified=True, secure=False, expires=None, discard=True, comment=None, comment_url=None, rest={'HttpOnly': None}, rfc2109=False), Cookie(version=0, name='XSRF-TOKEN', value='CfDJ8DnI-q5htDdNuP-KYyLKSWeb0Ju09reByIk0VjTONL3GGoxeBI_oLYGwjmCa1F_dqFH7rgZ-Vx-YxcOIJcxDTcKZtGZJ1_MkvgO4ICLl4FIF5Q', port=None, port_specified=False, domain='www.kaggle.com', domain_specified=False, domain_initial_dot=False, path='/', path_specified=True, secure=True, expires=None, discard=True, comment=None, comment_url=None, rest={'samesite': 'lax'}, rfc2109=False), Cookie(version=0, name='ka_sessionid', value='e4dd4bc45fe86807e010ba71d04a1804', port=None, port_specified=False, domain='www.kaggle.com', domain_specified=False, domain_initial_dot=False, path='/', path_specified=True, secure=False, expires=1689924433, discard=False, comment=None, comment_url=None, rest={}, rfc2109=False)]>]\n"
          ]
        }
      ],
      "source": [
        "import requests\n",
        "from IPython.display import HTML\n",
        "\n",
        "response = requests.get('https://www.kaggle.com/')\n",
        "\n",
        "# Obtenemos el atributo cookies\n",
        "cookies = response.cookies\n",
        "print(type(cookies))\n",
        "print([cookies])"
      ]
    },
    {
      "cell_type": "code",
      "execution_count": 23,
      "metadata": {
        "id": "GpPlQ7brg1__",
        "colab": {
          "base_uri": "https://localhost:8080/"
        },
        "outputId": "40fe767d-f532-4674-9a90-b6d54217befb"
      },
      "outputs": [
        {
          "output_type": "stream",
          "name": "stdout",
          "text": [
            "domain:  www.kaggle.com\n",
            "name:  CLIENT-TOKEN\n",
            "value:  eyJhbGciOiJub25lIiwidHlwIjoiSldUIn0.eyJpc3MiOiJrYWdnbGUiLCJhdWQiOiJjbGllbnQiLCJzdWIiOm51bGwsIm5idCI6IjIwMjMtMDYtMjBUMjE6NTE6MTMuODYyNjE4MloiLCJpYXQiOiIyMDIzLTA2LTIwVDIxOjUxOjEzLjg2MjYxODJaIiwianRpIjoiNTI1NGQ5NjUtYjQwYi00NGI4LTlkOWUtZTA4MmYyMDhmN2NlIiwiZXhwIjoiMjAyMy0wNy0yMFQyMTo1MToxMy44NjI2MTgyWiIsImFub24iOnRydWUsImZmIjpbIktlcm5lbHNEaXNhYmxlVW51c2VkQWNjZWxlcmF0b3JXYXJuaW5nIiwiS2VybmVsc0ZpcmViYXNlTG9uZ1BvbGxpbmciLCJDb21tdW5pdHlMb3dlckhlYWRlclNpemVzIiwiQWxsb3dGb3J1bUF0dGFjaG1lbnRzIiwiRm9yY2VOYXZGb290ZXJPbk1vYmlsZUFuZFRhYmxldCIsIlRwdU9uZVZtIiwiVHB1VHdvVm1EZXByZWNhdGVkIiwiVHB1VHdvVm1EaXNhYmxlZCIsIkZyb250ZW5kRXJyb3JSZXBvcnRpbmciLCJSZWdpc3RyYXRpb25OZXdzRW1haWxTaWdudXBJc09wdE91dCIsIkRhdGFzZXRzTWFuYWdlZEZvY3VzT25PcGVuIiwiRG9pRGF0YXNldFRvbWJzdG9uZXMiLCJDaGFuZ2VEYXRhc2V0T3duZXJzaGlwVG9PcmciLCJLZXJuZWxFZGl0b3JIYW5kbGVNb3VudE9uY2UiLCJLZXJuZWxQaW5uaW5nIiwiUGFnZVZpc2liaWxpdHlBbmFseXRpY3NSZXBvcnRlciIsIk1hdVJlcG9ydCIsIk1vZGVsc0NhY2hlZFRhZ1NlcnZpY2VFbmFibGVkIiwiQ29tcGV0aXRpb25zUnVsZXNLbSIsIkRhdGFzZXRzU2hhcmVkV2l0aFRoZW1TZWFyY2giLCJEYXRhc2V0c1ZvdGluZ0NoaXBzIiwiVGFnc01lbnVTbGlkZXJQYW5lbCIsIk1vZGVsSW5zdGFuY2VSZW5kZXJlZFVzYWdlIl0sImZmZCI6eyJLZXJuZWxFZGl0b3JBdXRvc2F2ZVRocm90dGxlTXMiOiIzMDAwMCIsIkZyb250ZW5kRXJyb3JSZXBvcnRpbmdTYW1wbGVSYXRlIjoiMCIsIkVtZXJnZW5jeUFsZXJ0QmFubmVyIjoie30iLCJDbGllbnRScGNSYXRlTGltaXQiOiI0MCIsIkZlYXR1cmVkQ29tbXVuaXR5Q29tcGV0aXRpb25zIjoiMzUzMjUsMzcxNzQsMzM1NzksMzc4OTgsMzczNTQsMzc5NTksMzg4NjAiLCJBZGRGZWF0dXJlRmxhZ3NUb1BhZ2VMb2FkVGFnIjoiZGlzYWJsZWQiLCJDb21wZXRpdGlvbk1ldHJpY1RpbWVvdXRNaW51dGVzIjoiMzAifSwicGlkIjoia2FnZ2xlLTE2MTYwNyIsInN2YyI6IndlYi1mZSIsInNkYWsiOiJBSXphU3lBNGVOcVVkUlJza0pzQ1pXVnotcUw2NTVYYTVKRU1yZUUiLCJibGQiOiI5ZGYwMjg5N2NlNWVmNjFhZDc0NGM1ZWQxMzMyMWM0ZTRjMjc3NGJiIn0.\n",
            "------------------------\n",
            "domain:  www.kaggle.com\n",
            "name:  CSRF-TOKEN\n",
            "value:  CfDJ8DnI-q5htDdNuP-KYyLKSWeVY28tIQBNwyvZhoRCLttAH3lvWW2shnidhL1xaxMoAkvduS3xcINw_AfbiWjbai_jKLypCvNq0e7HXD02oQ\n",
            "------------------------\n",
            "domain:  www.kaggle.com\n",
            "name:  GCLB\n",
            "value:  CNidm8aUpbXjKQ\n",
            "------------------------\n",
            "domain:  www.kaggle.com\n",
            "name:  XSRF-TOKEN\n",
            "value:  CfDJ8DnI-q5htDdNuP-KYyLKSWeb0Ju09reByIk0VjTONL3GGoxeBI_oLYGwjmCa1F_dqFH7rgZ-Vx-YxcOIJcxDTcKZtGZJ1_MkvgO4ICLl4FIF5Q\n",
            "------------------------\n",
            "domain:  www.kaggle.com\n",
            "name:  ka_sessionid\n",
            "value:  e4dd4bc45fe86807e010ba71d04a1804\n",
            "------------------------\n"
          ]
        }
      ],
      "source": [
        "# iteramos sobre las cookies en el cookie jar\n",
        "for cookie in cookies:\n",
        "  print('domain: ' ,cookie.domain)\n",
        "  print('name: ', cookie.name)\n",
        "  print('value: ', cookie.value)\n",
        "  print('------------------------')"
      ]
    },
    {
      "cell_type": "markdown",
      "metadata": {
        "id": "Jziv4geBHFmS"
      },
      "source": [
        "Podemos enviar cookies junto con nuestro request. Esto puede ser util para ciertos sitios que usan la ausencia de cookies como criterio para bloquear el acceso."
      ]
    },
    {
      "cell_type": "code",
      "execution_count": 24,
      "metadata": {
        "id": "8CM8ZB9cG0T8",
        "colab": {
          "base_uri": "https://localhost:8080/"
        },
        "outputId": "93d4445f-1e60-4c31-e6e7-e8fc9396a34d"
      },
      "outputs": [
        {
          "output_type": "stream",
          "name": "stdout",
          "text": [
            "{'name': 'mi nombre', 'password': 'superSeguro1234'}\n"
          ]
        },
        {
          "output_type": "execute_result",
          "data": {
            "text/plain": [
              "<Response [200]>"
            ]
          },
          "metadata": {},
          "execution_count": 24
        }
      ],
      "source": [
        "url = 'https://www.kaggle.com/'\n",
        "\n",
        "mis_cookies = {\n",
        "    'name':'mi nombre',\n",
        "    'password':'superSeguro1234'\n",
        "    }\n",
        "print(mis_cookies)\n",
        "\n",
        "# Mando mis propias cookies\n",
        "respuesta = requests.get(url, cookies=mis_cookies)\n",
        "\n",
        "respuesta"
      ]
    },
    {
      "cell_type": "markdown",
      "metadata": {
        "id": "w52rjRnsA0aK"
      },
      "source": [
        "## ¿Entonces me puedo descargar todo internet?\n",
        "\n",
        "En la próximas clases veremos algunas limitaciones de este método y sus alternativas. Mas allá de eso es importante ponerse de vez en cuando en el lugar del sitio del cual estamos descargando datos.\n",
        "\n",
        "\n",
        "Muchas veces las páginas web obtienen sus ingresos a partir del uso de usuarios tradicionales (humanos) pero no de los scrapers (máquinas). Por lo que estos no generan ganancias al sitio y encima pueden causar congestión en los servidores (Pudiendo causar incluso la rotura del sitio similar a lo que pasa con los [ataques DDOS](https://es.wikipedia.org/wiki/Ataque_de_denegaci%C3%B3n_de_servicio)).\n",
        "\n",
        "Por esta razón los sitios webs suelen tener una pagina [/robots.txt](https://es.wikipedia.org/wiki/Est%C3%A1ndar_de_exclusi%C3%B3n_de_robots) donde especifican que tipo de scrapeo prefieren evitar para poder mantener su sitio funcionando correctamente sin problemas.\n",
        "\n",
        "Pueden ver, como ejemplos:\n",
        "\n",
        "- https://www.google.com/robots.txt\n",
        "- https://en.wikipedia.org/robots.txt"
      ]
    }
  ],
  "metadata": {
    "colab": {
      "provenance": []
    },
    "instance_type": "ml.t3.medium",
    "interpreter": {
      "hash": "916dbcbb3f70747c44a77c7bcd40155683ae19c65e1c03b4aa3499c5328201f1"
    },
    "kernelspec": {
      "display_name": "Python 3.8.10 64-bit",
      "name": "python3"
    },
    "language_info": {
      "codemirror_mode": {
        "name": "ipython",
        "version": 3
      },
      "file_extension": ".py",
      "mimetype": "text/x-python",
      "name": "python",
      "nbconvert_exporter": "python",
      "pygments_lexer": "ipython3",
      "version": "3.8.10"
    }
  },
  "nbformat": 4,
  "nbformat_minor": 0
}