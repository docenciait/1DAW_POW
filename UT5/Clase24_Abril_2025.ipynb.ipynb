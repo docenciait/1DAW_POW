{
 "cells": [
  {
   "cell_type": "markdown",
   "id": "3af2dcc1",
   "metadata": {},
   "source": [
    "🔹 **Ejercicio 1: Comprobar la estructura jerárquica de encabezados HTML** \n",
    "**Objetivo:**  Asegúrate de que una página tenga solo un `<h1>`, y que los encabezados `<h2>` y `<h3>` estén bien organizados.\n",
    " \n",
    "- Extrae todos los encabezados `<h1>`, `<h2>`, `<h3>`.\n",
    " \n",
    "- Verifica que solo exista **\n",
    "Verifica que solo exista un `<h1>`** .\n",
    " \n",
    "- Exporta la lista de encabezados y su jerarquía a un archivo Excel o CSV.\n",
    " \n",
    "- Marca si hay errores de estructura.\n",
    "\n",
    "\n",
    "\n",
    "---\n",
    "\n",
    "\n",
    "🔹 **Ejercicio 2: Analizar velocidad de respuesta (Time to First Byte)** \n",
    "**Objetivo:**  Detectar páginas con tiempo de carga lento.\n",
    " \n",
    "- Usa `requests.get()` con `response.elapsed.total_seconds()` para medir el tiempo de carga.\n",
    " \n",
    "- Clasifica la velocidad:\n",
    "\n",
    " \n",
    "  - 🟢 < 0.5s\n",
    " \n",
    "  - 🟡 0.5s - 1s\n",
    " \n",
    "  - 🔴 > 1s\n",
    " \n",
    "- Aplica a una lista de URLs.\n",
    " \n",
    "- Exporta los resultados a Excel con: URL, TTFB, categoría.\n",
    "\n",
    "\n",
    "\n",
    "---\n",
    "\n",
    "\n",
    "🔹 **Ejercicio 3: Detección de metadatos sociales** \n",
    "**Objetivo:**  Verificar si una página tiene etiquetas Open Graph (`og:`) y Twitter Cards.\n",
    " \n",
    "- Extrae todas las etiquetas `<meta>` que comiencen por `og:` o `twitter:`.\n",
    " \n",
    "- Reporta las que faltan (por ejemplo: `og:title`, `og:description`, etc).\n",
    " \n",
    "- Exporta los resultados por URL: etiquetas presentes, etiquetas ausentes.\n",
    "\n",
    "\n",
    "\n",
    "---\n",
    "\n",
    "\n",
    "🔹 **Ejercicio 4: Comprobación de enlaces internos sin HTTPS** \n",
    "**Objetivo:**  Detectar enlaces internos que no utilizan HTTPS.\n",
    " \n",
    "- Extrae todos los `<a>` con `href`.\n",
    " \n",
    "- Revisa si apuntan a un dominio interno **\n",
    "Revisa si apuntan a un dominio interno sin `https://`** .\n",
    " \n",
    "- Exporta a CSV: texto del enlace, destino, estado de seguridad (`seguro` / `no seguro`).\n",
    "\n",
    "\n",
    "\n",
    "---\n",
    "\n",
    "\n",
    "🔹 **Ejercicio 5: Extraer imágenes externas y analizar tamaños** \n",
    "**Objetivo:**  Detectar imágenes externas que puedan afectar rendimiento SEO.\n",
    " \n",
    "- Encuentra todas las etiquetas `<img>` cuyo `src` apunte a otro dominio.\n",
    " \n",
    "- Intenta descargar el archivo y obtener su tamaño (en KB).\n",
    " \n",
    "- Marca imágenes de más de 300 KB como \"pesadas\".\n",
    "\n",
    "\n",
    "\n",
    "---\n",
    "\n",
    "\n",
    "🔹 **Ejercicio 6: Verificación de presencia de Google Analytics** \n",
    "**Objetivo:**  Comprobar si una web incluye el script de Google Analytics.\n",
    " \n",
    "- Analiza el HTML en busca de `gtag`, `ga.js`, `analytics.js`, `UA-`, `G-`.\n",
    " \n",
    "- Marca si se detecta el código o no.\n",
    " \n",
    "- Exporta la información por página auditada.\n",
    "\n",
    "\n",
    "\n",
    "---\n",
    "\n",
    "\n",
    "🔹 Ejercicio 7: Comprobar duplicidad de `<title>` y `<meta description>` entre páginas** \n",
    "**Objetivo:**  Identificar títulos o descripciones duplicadas en múltiples URLs.\n",
    " \n",
    "- Crea una lista de páginas.\n",
    " \n",
    "- Extrae `<title>` y `<meta name=\"description\">` de cada una.\n",
    " \n",
    "- Detecta repeticiones exactas.\n",
    " \n",
    "- Exporta un informe agrupado por duplicados.\n",
    "\n",
    "\n",
    "\n",
    "---\n",
    "\n",
    "\n",
    "🔹 **Ejercicio 8: Densidad de palabras clave por página** \n",
    "**Objetivo:**  Medir si hay sobreoptimización (keyword stuffing).\n",
    " \n",
    "- Extrae texto visible de la página.\n",
    " \n",
    "- Cuenta palabras clave principales.\n",
    " \n",
    "- Calcula su densidad sobre el total del contenido.\n",
    " \n",
    "- Marca si alguna supera el 5% del total (riesgo SEO).\n",
    "\n",
    "\n",
    "\n",
    "---\n",
    "\n",
    "\n",
    "🔹 **Ejercicio 9: Validar sitemap.xml** \n",
    "**Objetivo:**  Verificar si el archivo `sitemap.xml` existe y contiene URLs válidas.\n",
    " \n",
    "- Intenta acceder a `/sitemap.xml`.\n",
    " \n",
    "- Si existe, parsea el XML.\n",
    " \n",
    "- Valida que haya al menos 10 URLs.\n",
    " \n",
    "- Exporta el listado a Excel o CSV.\n",
    "\n",
    "\n",
    "\n",
    "---\n",
    "\n",
    "\n",
    "🔹 **Ejercicio 10: Generar informe de auditoría SEO básica** \n",
    "**Objetivo:**  Combinar todos los análisis en un solo informe.\n",
    "\n",
    "Para cada URL:\n",
    "\n",
    " \n",
    "- ¿Tiene `<title>` y `<meta description>`?\n",
    " \n",
    "- ¿Tiene `<h1>` único?\n",
    " \n",
    "- ¿Enlaces rotos?\n",
    " \n",
    "- ¿Imágenes sin `alt`?\n",
    " \n",
    "- ¿Sitemap? ¿robots.txt?\n",
    " \n",
    "- ¿Canonical?\n",
    " \n",
    "- ¿Tiempo de respuesta?\n",
    "\n",
    "**Exporta todo a un único Excel**  con una fila por URL y columnas por criterio.\n"
   ]
  },
  {
   "cell_type": "markdown",
   "id": "301f41a3",
   "metadata": {},
   "source": [
    "# 🧪 Ejercicio 1: Estructura jerárquica de encabezados HTML"
   ]
  },
  {
   "cell_type": "code",
   "execution_count": 1,
   "id": "c8595bc0",
   "metadata": {},
   "outputs": [
    {
     "name": "stdout",
     "output_type": "stream",
     "text": [
      "Encabezados encontrados: {'h1': ['Test Sites'], 'h2': ['E-commerce training site'], 'h3': ['Top items being scraped right now']}\n",
      "✅ Estructura de encabezados válida\n"
     ]
    }
   ],
   "source": [
    "import requests\n",
    "from bs4 import BeautifulSoup\n",
    "\n",
    "url = \"https://webscraper.io/test-sites/e-commerce/static\"\n",
    "response = requests.get(url)\n",
    "soup = BeautifulSoup(response.text, \"html.parser\")\n",
    "\n",
    "encabezados = {}\n",
    "\n",
    "for tag in [\"h1\", \"h2\", \"h3\"]:\n",
    "    encabezados[tag] = []  # Inicializa la lista para cada tipo de encabezado\n",
    "    elementos = soup.find_all(tag)\n",
    "    for h in elementos:\n",
    "        texto = h.get_text(strip=True)\n",
    "        encabezados[tag].append(texto)\n",
    "\n",
    "print(\"Encabezados encontrados:\", encabezados)\n",
    "\n",
    "# Verificación adicional\n",
    "if len(encabezados[\"h1\"]) != 1:\n",
    "    print(\"⚠️ Error: debe haber exactamente un <h1>\")\n",
    "else:\n",
    "    print(\"✅ Estructura de encabezados válida\")\n"
   ]
  },
  {
   "cell_type": "markdown",
   "id": "071fae73",
   "metadata": {},
   "source": [
    "# 🧪 Ejercicio 2: Análisis de velocidad de respuesta (TTFB)"
   ]
  },
  {
   "cell_type": "code",
   "execution_count": 2,
   "id": "e5b89abd",
   "metadata": {},
   "outputs": [
    {
     "name": "stdout",
     "output_type": "stream",
     "text": [
      "Tiempo de respuesta (TTFB): 0.125 segundos\n",
      "🟢 Rápido\n"
     ]
    }
   ],
   "source": [
    "import time\n",
    "\n",
    "start = time.time()\n",
    "response = requests.get(url)\n",
    "ttfb = response.elapsed.total_seconds()\n",
    "print(f\"Tiempo de respuesta (TTFB): {ttfb:.3f} segundos\")\n",
    "\n",
    "if ttfb < 0.5:\n",
    "    print(\"🟢 Rápido\")\n",
    "elif ttfb < 1.0:\n",
    "    print(\"🟡 Medio\")\n",
    "else:\n",
    "    print(\"🔴 Lento\")"
   ]
  },
  {
   "cell_type": "markdown",
   "id": "7a1a430a",
   "metadata": {},
   "source": [
    "# 🧪 Ejercicio 3: Detección de metadatos sociales"
   ]
  },
  {
   "cell_type": "code",
   "execution_count": 4,
   "id": "303792e8",
   "metadata": {},
   "outputs": [
    {
     "name": "stdout",
     "output_type": "stream",
     "text": [
      "OG encontrados: ['og:title', 'og:description', 'og:type', 'og:url', 'og:image']\n",
      "OG faltantes: []\n",
      "Twitter encontrados: []\n",
      "Twitter faltantes: ['twitter:card', 'twitter:title', 'twitter:description', 'twitter:image']\n"
     ]
    }
   ],
   "source": [
    "og_expect = ['og:title', 'og:description', 'og:image', 'og:url']\n",
    "twitter_expect = ['twitter:card', 'twitter:title', 'twitter:description', 'twitter:image']\n",
    "\n",
    "og_tags = [tag.get('property') for tag in soup.find_all('meta', property=True) if tag['property'].startswith('og:')]\n",
    "twitter_tags = [tag.get('name') for tag in soup.find_all('meta', attrs={'name': True}) if tag['name'].startswith('twitter:')]\n",
    "\n",
    "print(\"OG encontrados:\", og_tags)\n",
    "print(\"OG faltantes:\", [tag for tag in og_expect if tag not in og_tags])\n",
    "print(\"Twitter encontrados:\", twitter_tags)\n",
    "print(\"Twitter faltantes:\", [tag for tag in twitter_expect if tag not in twitter_tags])"
   ]
  },
  {
   "cell_type": "markdown",
   "id": "38267b3d",
   "metadata": {},
   "source": [
    "# 🧪 Ejercicio 4: Enlaces internos sin HTTPS"
   ]
  },
  {
   "cell_type": "code",
   "execution_count": null,
   "id": "6be025ba",
   "metadata": {},
   "outputs": [],
   "source": [
    "from urllib.parse import urlparse, urljoin\n",
    "\n",
    "parsed_base = urlparse(url)\n",
    "inseguros = []\n",
    "\n",
    "for a in soup.find_all(\"a\", href=True):\n",
    "    full_url = urljoin(url, a[\"href\"])\n",
    "    parsed = urlparse(full_url)\n",
    "    if parsed.netloc == parsed_base.netloc and not full_url.startswith(\"https://\"):\n",
    "        inseguros.append(full_url)\n",
    "\n",
    "print(\"Enlaces internos sin HTTPS:\", inseguros)"
   ]
  },
  {
   "cell_type": "markdown",
   "id": "974c0836",
   "metadata": {},
   "source": [
    "# 🧪 Ejercicio 5: Imágenes externas y su tamaño"
   ]
  },
  {
   "cell_type": "code",
   "execution_count": null,
   "id": "db4560e5",
   "metadata": {},
   "outputs": [],
   "source": [
    "external_imgs = [img[\"src\"] for img in soup.find_all(\"img\", src=True) if urlparse(img[\"src\"]).netloc not in [\"\", urlparse(url).netloc]]\n",
    "pesadas = []\n",
    "\n",
    "for img_url in external_imgs:\n",
    "    try:\n",
    "        img_resp = requests.head(img_url, allow_redirects=True)\n",
    "        size = int(img_resp.headers.get(\"Content-Length\", 0)) / 1024\n",
    "        if size > 300:\n",
    "            pesadas.append((img_url, size))\n",
    "    except:\n",
    "        continue\n",
    "\n",
    "print(\"Imágenes externas > 300KB:\", pesadas)"
   ]
  },
  {
   "cell_type": "markdown",
   "id": "19447337",
   "metadata": {},
   "source": [
    "# 🧪 Ejercicio 6: Verificación de Google Analytics"
   ]
  },
  {
   "cell_type": "code",
   "execution_count": null,
   "id": "087825be",
   "metadata": {},
   "outputs": [],
   "source": [
    "if any(code in response.text for code in [\"UA-\", \"G-\", \"gtag(\", \"ga(\"]):\n",
    "    print(\"✅ Google Analytics detectado\")\n",
    "else:\n",
    "    print(\"❌ No se encontró Google Analytics\")"
   ]
  },
  {
   "cell_type": "markdown",
   "id": "fcf891ff",
   "metadata": {},
   "source": [
    "# 🧪 Ejercicio 7: Títulos y descripciones duplicados"
   ]
  },
  {
   "cell_type": "code",
   "execution_count": null,
   "id": "9deddd3a",
   "metadata": {},
   "outputs": [],
   "source": [
    "# Suponiendo múltiples URLs (solo simulación con una por simplicidad)\n",
    "urls = [url]\n",
    "titulos = []\n",
    "descripciones = []\n",
    "\n",
    "for u in urls:\n",
    "    r = requests.get(u)\n",
    "    s = BeautifulSoup(r.text, 'html.parser')\n",
    "    titulo = s.title.string.strip() if s.title else \"\"\n",
    "    descripcion = s.find(\"meta\", attrs={\"name\": \"description\"})\n",
    "    desc = descripcion[\"content\"].strip() if descripcion and descripcion.get(\"content\") else \"\"\n",
    "    titulos.append(titulo)\n",
    "    descripciones.append(desc)\n",
    "\n",
    "print(\"Duplicados de título:\", [t for t in set(titulos) if titulos.count(t) > 1])\n",
    "print(\"Duplicados de descripción:\", [d for d in set(descripciones) if descripciones.count(d) > 1])"
   ]
  },
  {
   "cell_type": "markdown",
   "id": "a9e476c4",
   "metadata": {},
   "source": [
    "# 🧪 Ejercicio 8: Densidad de palabras clave"
   ]
  },
  {
   "cell_type": "markdown",
   "id": "0e420873",
   "metadata": {},
   "source": []
  },
  {
   "cell_type": "code",
   "execution_count": null,
   "id": "3b138e85",
   "metadata": {},
   "outputs": [],
   "source": [
    "import re\n",
    "from collections import Counter\n",
    "\n",
    "stopwords = {'de', 'la', 'y', 'el', 'en', 'los', 'las', 'con', 'por', 'una', 'para', 'que', 'del', 'sus', 'más'}\n",
    "texto = soup.get_text().lower()\n",
    "palabras = re.findall(r'\\b\\w{4,}\\b', texto)\n",
    "palabras_filtradas = [p for p in palabras if p not in stopwords]\n",
    "total = len(palabras_filtradas)\n",
    "conteo = Counter(palabras_filtradas)\n",
    "for palabra, freq in conteo.most_common(10):\n",
    "    densidad = (freq / total) * 100\n",
    "    print(f\"{palabra}: {freq} veces - {densidad:.2f}%\")"
   ]
  },
  {
   "cell_type": "markdown",
   "id": "3646edab",
   "metadata": {},
   "source": [
    "# 🧪 Ejercicio 9: Validación de sitemap.xml"
   ]
  },
  {
   "cell_type": "code",
   "execution_count": null,
   "id": "7366cc1d",
   "metadata": {},
   "outputs": [],
   "source": [
    "sitemap_url = url + \"/sitemap.xml\"\n",
    "try:\n",
    "    r = requests.get(sitemap_url)\n",
    "    if r.status_code == 200 and \"<loc>\" in r.text:\n",
    "        print(\"✅ Sitemap encontrado\")\n",
    "    else:\n",
    "        print(\"❌ Sitemap no válido o vacío\")\n",
    "except:\n",
    "    print(\"❌ Error al acceder al sitemap\")"
   ]
  },
  {
   "cell_type": "markdown",
   "id": "a7320c12",
   "metadata": {},
   "source": [
    "# 🧪 Ejercicio 10: Informe de auditoría SEO básica"
   ]
  },
  {
   "cell_type": "code",
   "execution_count": null,
   "id": "86067e64",
   "metadata": {},
   "outputs": [],
   "source": [
    "import pandas as pd\n",
    "\n",
    "info = {\n",
    "    \"URL\": url,\n",
    "    \"Tiene <title>\": soup.title is not None,\n",
    "    \"Tiene <meta description>\": soup.find(\"meta\", attrs={\"name\": \"description\"}) is not None,\n",
    "    \"Un solo <h1>\": len(soup.find_all(\"h1\")) == 1,\n",
    "    \"Imágenes sin alt\": sum(1 for img in soup.find_all(\"img\") if not img.get(\"alt\")),\n",
    "    \"Tiene canonical\": soup.find(\"link\", rel=\"canonical\") is not None,\n",
    "    \"Google Analytics\": any(x in response.text for x in [\"UA-\", \"G-\", \"gtag(\", \"ga(\"]),\n",
    "}\n",
    "\n",
    "df = pd.DataFrame([info])\n",
    "df.to_excel(\"informe_seo_basico.xlsx\", index=False)\n",
    "print(\"✅ Informe exportado a informe_seo_basico.xlsx\")"
   ]
  }
 ],
 "metadata": {
  "kernelspec": {
   "display_name": "Python 3",
   "language": "python",
   "name": "python3"
  },
  "language_info": {
   "codemirror_mode": {
    "name": "ipython",
    "version": 3
   },
   "file_extension": ".py",
   "mimetype": "text/x-python",
   "name": "python",
   "nbconvert_exporter": "python",
   "pygments_lexer": "ipython3",
   "version": "3.12.10"
  }
 },
 "nbformat": 4,
 "nbformat_minor": 5
}
