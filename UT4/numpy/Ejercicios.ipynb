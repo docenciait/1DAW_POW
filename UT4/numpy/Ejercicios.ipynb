{
 "cells": [
  {
   "cell_type": "markdown",
   "metadata": {},
   "source": [
    "# Ejercicios lecciones 1-4"
   ]
  },
  {
   "cell_type": "code",
   "execution_count": 1,
   "metadata": {},
   "outputs": [],
   "source": [
    "import numpy as np"
   ]
  },
  {
   "cell_type": "markdown",
   "metadata": {},
   "source": [
    "## Ejercicio 1"
   ]
  },
  {
   "cell_type": "markdown",
   "metadata": {},
   "source": [
    "Genera un array que contenga 25 elementos entre 0 y 99 siguiendo una distribución lineal. Luego, transforma ese array en una matriz de 5 x 5. ¿Cuál es la diagonal de la matriz? ¿Y la diagonal justo superior?"
   ]
  },
  {
   "cell_type": "code",
   "execution_count": 4,
   "metadata": {},
   "outputs": [
    {
     "data": {
      "text/plain": [
       "array([ 0.,  4.,  8., 12., 16., 20., 24., 28., 32., 36., 40., 44., 48.,\n",
       "       52., 56., 60., 64., 68., 72., 76., 80., 84., 88., 92., 96.])"
      ]
     },
     "execution_count": 4,
     "metadata": {},
     "output_type": "execute_result"
    }
   ],
   "source": [
    "a = np.linspace(start=0, stop=100, num = 25, endpoint=False)\n",
    "a"
   ]
  },
  {
   "cell_type": "code",
   "execution_count": 5,
   "metadata": {},
   "outputs": [
    {
     "data": {
      "text/plain": [
       "array([[ 0.,  4.,  8., 12., 16.],\n",
       "       [20., 24., 28., 32., 36.],\n",
       "       [40., 44., 48., 52., 56.],\n",
       "       [60., 64., 68., 72., 76.],\n",
       "       [80., 84., 88., 92., 96.]])"
      ]
     },
     "execution_count": 5,
     "metadata": {},
     "output_type": "execute_result"
    }
   ],
   "source": [
    "m = a.reshape(5,5)\n",
    "m"
   ]
  },
  {
   "cell_type": "code",
   "execution_count": 7,
   "metadata": {},
   "outputs": [
    {
     "data": {
      "text/plain": [
       "array([ 0., 24., 48., 72., 96.])"
      ]
     },
     "execution_count": 7,
     "metadata": {},
     "output_type": "execute_result"
    }
   ],
   "source": [
    "np.diag(m)"
   ]
  },
  {
   "cell_type": "code",
   "execution_count": 8,
   "metadata": {},
   "outputs": [
    {
     "data": {
      "text/plain": [
       "array([ 4., 28., 52., 76.])"
      ]
     },
     "execution_count": 8,
     "metadata": {},
     "output_type": "execute_result"
    }
   ],
   "source": [
    "np.diag(m, k=1)"
   ]
  },
  {
   "cell_type": "markdown",
   "metadata": {},
   "source": [
    "## Ejercicio 2"
   ]
  },
  {
   "cell_type": "markdown",
   "metadata": {},
   "source": [
    "Crea un de 5 x 4 con el valor repetido 10. Une esa matriz a la matriz del ejercicio anterior para conseguir dos nuevas matrices, una de  5 x 9, y otra de 9 x 5."
   ]
  },
  {
   "cell_type": "markdown",
   "metadata": {},
   "source": [
    "$m = \\begin{pmatrix}\n",
    "0 & 4 & 8 & 12 & 16 \\\\\n",
    "20 & 24 & 28 & 32 & 36 \\\\\n",
    "40 & 44 & 48 & 52 & 56 \\\\\n",
    "60 & 64 & 68 & 72 & 76 \\\\\n",
    "80 & 84 & 88 & 92 & 96\n",
    "\\end{pmatrix}$\n",
    "$m2 = \\begin{pmatrix}\n",
    "5 & 5 & 5 & 5 & 5 \\\\\n",
    "5 & 5 & 5 & 5 & 5 \\\\\n",
    "5 & 5 & 5 & 5 & 5 \\\\\n",
    "5 & 5 & 5 & 5 & 5 \\\\\n",
    "5 & 5 & 5 & 5 & 5\n",
    "\\end{pmatrix}$"
   ]
  },
  {
   "cell_type": "code",
   "execution_count": 24,
   "metadata": {},
   "outputs": [
    {
     "data": {
      "text/plain": [
       "array([[5, 5, 5, 5, 5],\n",
       "       [5, 5, 5, 5, 5],\n",
       "       [5, 5, 5, 5, 5],\n",
       "       [5, 5, 5, 5, 5]])"
      ]
     },
     "execution_count": 24,
     "metadata": {},
     "output_type": "execute_result"
    }
   ],
   "source": [
    "m2 = np.repeat(5, 20).reshape(4,5)\n",
    "m2"
   ]
  },
  {
   "cell_type": "code",
   "execution_count": 25,
   "metadata": {},
   "outputs": [
    {
     "data": {
      "text/plain": [
       "array([[ 0.,  4.,  8., 12., 16.],\n",
       "       [20., 24., 28., 32., 36.],\n",
       "       [40., 44., 48., 52., 56.],\n",
       "       [60., 64., 68., 72., 76.],\n",
       "       [80., 84., 88., 92., 96.],\n",
       "       [ 5.,  5.,  5.,  5.,  5.],\n",
       "       [ 5.,  5.,  5.,  5.,  5.],\n",
       "       [ 5.,  5.,  5.,  5.,  5.],\n",
       "       [ 5.,  5.,  5.,  5.,  5.]])"
      ]
     },
     "execution_count": 25,
     "metadata": {},
     "output_type": "execute_result"
    }
   ],
   "source": [
    "np.concatenate((m, m2), axis = 0)"
   ]
  },
  {
   "cell_type": "code",
   "execution_count": 26,
   "metadata": {},
   "outputs": [
    {
     "data": {
      "text/plain": [
       "array([[ 0.,  4.,  8., 12., 16.,  5.,  5.,  5.,  5.],\n",
       "       [20., 24., 28., 32., 36.,  5.,  5.,  5.,  5.],\n",
       "       [40., 44., 48., 52., 56.,  5.,  5.,  5.,  5.],\n",
       "       [60., 64., 68., 72., 76.,  5.,  5.,  5.,  5.],\n",
       "       [80., 84., 88., 92., 96.,  5.,  5.,  5.,  5.]])"
      ]
     },
     "execution_count": 26,
     "metadata": {},
     "output_type": "execute_result"
    }
   ],
   "source": [
    "np.concatenate((m, m2.T), axis = 1)"
   ]
  },
  {
   "cell_type": "markdown",
   "metadata": {},
   "source": [
    "### Ejercicio 3"
   ]
  },
  {
   "cell_type": "markdown",
   "metadata": {},
   "source": [
    "Teniendo el array inicial que podéis ver justo abajo, debéis realizar las operaciones necesarias para obtener el array: \n",
    "    \n",
    "array(['Este', 'Es', 'Un', 'Curso', 'De', 'Openwebinars'], dtype='<U12')\n",
    "\n",
    "¿Qué elementos del array comienzan por 'E'?"
   ]
  },
  {
   "cell_type": "code",
   "execution_count": 59,
   "metadata": {},
   "outputs": [
    {
     "data": {
      "text/plain": [
       "array(['     este es un curso de openwebinars    '], dtype='<U41')"
      ]
     },
     "execution_count": 59,
     "metadata": {},
     "output_type": "execute_result"
    }
   ],
   "source": [
    "a = np.array(['     este es un curso de openwebinars    '])\n",
    "a"
   ]
  },
  {
   "cell_type": "code",
   "execution_count": 60,
   "metadata": {},
   "outputs": [
    {
     "data": {
      "text/plain": [
       "array(['este es un curso de openwebinars'], dtype='<U41')"
      ]
     },
     "execution_count": 60,
     "metadata": {},
     "output_type": "execute_result"
    }
   ],
   "source": [
    "a1 = np.char.strip(a)\n",
    "a1"
   ]
  },
  {
   "cell_type": "code",
   "execution_count": 61,
   "metadata": {},
   "outputs": [
    {
     "data": {
      "text/plain": [
       "array(['este', 'es', 'un', 'curso', 'de', 'openwebinars'], dtype='<U12')"
      ]
     },
     "execution_count": 61,
     "metadata": {},
     "output_type": "execute_result"
    }
   ],
   "source": [
    "a2 = np.char.split(a1, ' ')\n",
    "a2 = np.array(a2[0])\n",
    "a2"
   ]
  },
  {
   "cell_type": "code",
   "execution_count": 62,
   "metadata": {},
   "outputs": [
    {
     "data": {
      "text/plain": [
       "array(['Este', 'Es', 'Un', 'Curso', 'De', 'Openwebinars'], dtype='<U12')"
      ]
     },
     "execution_count": 62,
     "metadata": {},
     "output_type": "execute_result"
    }
   ],
   "source": [
    "a3 = np.char.capitalize(a2)\n",
    "a3"
   ]
  },
  {
   "cell_type": "code",
   "execution_count": 63,
   "metadata": {},
   "outputs": [
    {
     "data": {
      "text/plain": [
       "array([ True,  True, False, False, False, False])"
      ]
     },
     "execution_count": 63,
     "metadata": {},
     "output_type": "execute_result"
    }
   ],
   "source": [
    "e = np.char.startswith(a3, 'E')\n",
    "e"
   ]
  },
  {
   "cell_type": "code",
   "execution_count": 64,
   "metadata": {},
   "outputs": [
    {
     "data": {
      "text/plain": [
       "array(['Este', 'Es'], dtype='<U12')"
      ]
     },
     "execution_count": 64,
     "metadata": {},
     "output_type": "execute_result"
    }
   ],
   "source": [
    "a3[e]"
   ]
  },
  {
   "cell_type": "markdown",
   "metadata": {},
   "source": [
    "### Ejercicio 4"
   ]
  },
  {
   "cell_type": "markdown",
   "metadata": {},
   "source": [
    "Considerando las matrices A y B. \n",
    "\n",
    "$A = \\begin{pmatrix}\n",
    "3 & 1 & 2 \\\\\n",
    "4 & 1 & 3 \\\\\n",
    "2 & 0 & 1\n",
    "\\end{pmatrix}$\n",
    "$B = \\begin{pmatrix}\n",
    "2 & 0 & 3 \\\\\n",
    "1 & 1 & 1 \\\\\n",
    "0 & 2 & 4\n",
    "\\end{pmatrix}$\n",
    "\n",
    "- Realiza la multiplicación matricial de AxB y BxA. ¿Son iguales?\n",
    "- Realiza la multiplicación de la matriz A x 2\n",
    "- ¿Cúanto es la multiplicación escalar de AxB? ¿y de BxA?"
   ]
  },
  {
   "cell_type": "code",
   "execution_count": 65,
   "metadata": {},
   "outputs": [
    {
     "name": "stdout",
     "output_type": "stream",
     "text": [
      "[[3 1 2]\n",
      " [4 1 3]\n",
      " [2 0 1]]\n",
      "[[2 0 3]\n",
      " [1 1 1]\n",
      " [0 2 4]]\n"
     ]
    }
   ],
   "source": [
    "a = np.array([[3,1,2], [4,1,3], [2,0,1]])\n",
    "b = np.array([[2,0,3], [1,1,1], [0,2,4]])\n",
    "\n",
    "print(a)\n",
    "print(b)"
   ]
  },
  {
   "cell_type": "code",
   "execution_count": 67,
   "metadata": {},
   "outputs": [
    {
     "data": {
      "text/plain": [
       "array([[ 7,  5, 18],\n",
       "       [ 9,  7, 25],\n",
       "       [ 4,  2, 10]])"
      ]
     },
     "execution_count": 67,
     "metadata": {},
     "output_type": "execute_result"
    }
   ],
   "source": [
    "# Realiza la multiplicación matricial de AxB y BxA. ¿Son iguales?\n",
    "\n",
    "axb = np.dot(a,b)\n",
    "axb"
   ]
  },
  {
   "cell_type": "code",
   "execution_count": 68,
   "metadata": {},
   "outputs": [
    {
     "data": {
      "text/plain": [
       "array([[12,  2,  7],\n",
       "       [ 9,  2,  6],\n",
       "       [16,  2, 10]])"
      ]
     },
     "execution_count": 68,
     "metadata": {},
     "output_type": "execute_result"
    }
   ],
   "source": [
    "bxa = np.dot(b,a)\n",
    "bxa"
   ]
  },
  {
   "cell_type": "markdown",
   "metadata": {},
   "source": [
    "¡No son iguales! El producto matricial es distinto"
   ]
  },
  {
   "cell_type": "code",
   "execution_count": 69,
   "metadata": {},
   "outputs": [
    {
     "data": {
      "text/plain": [
       "array([[6, 2, 4],\n",
       "       [8, 2, 6],\n",
       "       [4, 0, 2]])"
      ]
     },
     "execution_count": 69,
     "metadata": {},
     "output_type": "execute_result"
    }
   ],
   "source": [
    "# Realiza la multiplicación de la matriz A x 2\n",
    "a * 2"
   ]
  },
  {
   "cell_type": "code",
   "execution_count": 70,
   "metadata": {},
   "outputs": [
    {
     "data": {
      "text/plain": [
       "24"
      ]
     },
     "execution_count": 70,
     "metadata": {},
     "output_type": "execute_result"
    }
   ],
   "source": [
    "# ¿Cúanto es la multiplicación escalar de AxB?\n",
    "np.vdot(a,b)"
   ]
  },
  {
   "cell_type": "code",
   "execution_count": 71,
   "metadata": {},
   "outputs": [
    {
     "data": {
      "text/plain": [
       "24"
      ]
     },
     "execution_count": 71,
     "metadata": {},
     "output_type": "execute_result"
    }
   ],
   "source": [
    "np.vdot(b,a)"
   ]
  },
  {
   "cell_type": "markdown",
   "metadata": {},
   "source": [
    "¡En este caso si son iguales! Puesto que estamos multiplicando escalarmente."
   ]
  },
  {
   "cell_type": "markdown",
   "metadata": {},
   "source": [
    "## Ejercicio 5"
   ]
  },
  {
   "cell_type": "markdown",
   "metadata": {},
   "source": [
    "Usando la matriz A del ejercicio anterior, calcula:\n",
    "\n",
    "- A^3\n",
    "- El determinante de A\n",
    "- Resuelve la ecuación Ax = y, siendo ***y*** el array [3,2,5]"
   ]
  },
  {
   "cell_type": "code",
   "execution_count": 86,
   "metadata": {},
   "outputs": [
    {
     "data": {
      "text/plain": [
       "array([[3, 1, 2],\n",
       "       [4, 1, 3],\n",
       "       [2, 0, 1]])"
      ]
     },
     "execution_count": 86,
     "metadata": {},
     "output_type": "execute_result"
    }
   ],
   "source": [
    "a"
   ]
  },
  {
   "cell_type": "code",
   "execution_count": 87,
   "metadata": {},
   "outputs": [
    {
     "data": {
      "text/plain": [
       "array([[2, 0, 3],\n",
       "       [1, 1, 1],\n",
       "       [0, 2, 4]])"
      ]
     },
     "execution_count": 87,
     "metadata": {},
     "output_type": "execute_result"
    }
   ],
   "source": [
    "b"
   ]
  },
  {
   "cell_type": "code",
   "execution_count": 88,
   "metadata": {},
   "outputs": [
    {
     "data": {
      "text/plain": [
       "array([[ 89,  21,  57],\n",
       "       [114,  27,  73],\n",
       "       [ 42,  10,  27]])"
      ]
     },
     "execution_count": 88,
     "metadata": {},
     "output_type": "execute_result"
    }
   ],
   "source": [
    "# A^3\n",
    "a3 = np.linalg.matrix_power(a, 3)\n",
    "a3"
   ]
  },
  {
   "cell_type": "markdown",
   "metadata": {},
   "source": [
    "Comprobamos realizando la multiplicación matricial"
   ]
  },
  {
   "cell_type": "code",
   "execution_count": 89,
   "metadata": {},
   "outputs": [
    {
     "data": {
      "text/plain": [
       "array([[ 89,  21,  57],\n",
       "       [114,  27,  73],\n",
       "       [ 42,  10,  27]])"
      ]
     },
     "execution_count": 89,
     "metadata": {},
     "output_type": "execute_result"
    }
   ],
   "source": [
    "_ = np.dot(a, a)\n",
    "np.dot(_, a)"
   ]
  },
  {
   "cell_type": "code",
   "execution_count": 90,
   "metadata": {},
   "outputs": [
    {
     "data": {
      "text/plain": [
       "1.0"
      ]
     },
     "execution_count": 90,
     "metadata": {},
     "output_type": "execute_result"
    }
   ],
   "source": [
    "# El determinante de A\n",
    "np.linalg.det(a)"
   ]
  },
  {
   "cell_type": "code",
   "execution_count": 91,
   "metadata": {},
   "outputs": [],
   "source": [
    "# Resuelve la ecuación Ax = y, siendo y el array [3,2,5]\n",
    "y = np.array([3,2,5])"
   ]
  },
  {
   "cell_type": "code",
   "execution_count": 92,
   "metadata": {},
   "outputs": [
    {
     "data": {
      "text/plain": [
       "array([ 6., -1., -7.])"
      ]
     },
     "execution_count": 92,
     "metadata": {},
     "output_type": "execute_result"
    }
   ],
   "source": [
    "np.linalg.solve(a, y)"
   ]
  },
  {
   "cell_type": "code",
   "execution_count": null,
   "metadata": {},
   "outputs": [],
   "source": []
  }
 ],
 "metadata": {
  "kernelspec": {
   "display_name": "Python 3",
   "language": "python",
   "name": "python3"
  },
  "language_info": {
   "codemirror_mode": {
    "name": "ipython",
    "version": 3
   },
   "file_extension": ".py",
   "mimetype": "text/x-python",
   "name": "python",
   "nbconvert_exporter": "python",
   "pygments_lexer": "ipython3",
   "version": "3.7.9"
  }
 },
 "nbformat": 4,
 "nbformat_minor": 4
}
