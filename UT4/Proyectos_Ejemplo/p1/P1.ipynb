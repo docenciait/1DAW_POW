{
  "cells": [
    {
      "cell_type": "markdown",
      "metadata": {},
      "source": [
        "Laboratorio: Análisis de Datos de Búsqueda de Palabras Clave con Pandas, NumPy y Matplotlib\n",
        "\n",
        "Objetivo:\n",
        "\n",
        "Analizar datos de búsqueda de palabras clave para identificar tendencias y oportunidades de optimización SEO.\n",
        "Visualizar datos para una mejor comprensión y toma de decisiones.\n",
        "Requisitos:\n",
        "\n",
        "Python 3 instalado\n",
        "Bibliotecas Pandas, NumPy y Matplotlib instaladas"
      ]
    },
    {
      "cell_type": "code",
      "execution_count": 9,
      "metadata": {},
      "outputs": [
        {
          "name": "stdout",
          "output_type": "stream",
          "text": [
            "   Nombre  Apellidos     Dni   edad\n",
            "0    Jhon        Doe   1111X     30\n",
            "1  Pepito      perez   2222U     20\n"
          ]
        }
      ],
      "source": [
        "import pandas as pd\n",
        "import numpy as np\n",
        "import matplotlib.pyplot as plt\n",
        "\n",
        "# Carga los datos\n",
        "data = pd.read_csv(\"datos_palabras_clave.csv\")\n",
        "\n",
        "# Explora los datos\n",
        "print(data.head())\n",
        "\n",
        "\n",
        "\n"
      ]
    },
    {
      "cell_type": "code",
      "execution_count": null,
      "metadata": {},
      "outputs": [],
      "source": [
        "# Limpia y preprocesa los datos\n",
        "data.dropna(inplace=True)\n",
        "data[\"Volumen de búsqueda\"] = data[\"Volumen de búsqueda\"].astype(int)\n",
        "data[\"Competencia\"] = data[\"Competencia\"].astype(float)\n",
        "\n",
        "# Analiza los datos\n",
        "palabras_clave_populares = data.nlargest(10, \"Volumen de búsqueda\")\n",
        "print(palabras_clave_populares)\n",
        "\n",
        "correlacion = data[\"Volumen de búsqueda\"].corr(data[\"Competencia\"])\n",
        "print(f\"Correlación: {correlacion}\")\n",
        "\n",
        "# Visualiza los datos\n",
        "plt.figure(figsize=(10, 6))\n",
        "plt.bar(palabras_clave_populares[\"Palabra clave\"], palabras_clave_populares[\"Volumen de búsqueda\"])\n",
        "plt.xticks(rotation=45, ha=\"right\")\n",
        "plt.xlabel(\"Palabra clave\")\n",
        "plt.ylabel(\"Volumen de búsqueda\")\n",
        "plt.title(\"Palabras clave más populares\")\n",
        "plt.tight_layout()\n",
        "plt.show()\n",
        "\n",
        "plt.figure(figsize=(8, 6))\n",
        "plt.scatter(data[\"Volumen de búsqueda\"], data[\"Competencia\"])\n",
        "plt.xlabel(\"Volumen de búsqueda\")\n",
        "plt.ylabel(\"Competencia\")\n",
        "plt.title(\"Relación entre volumen de búsqueda y competencia\")\n",
        "plt.grid(True)\n",
        "plt.show()"
      ]
    }
  ],
  "metadata": {
    "colab": {
      "provenance": []
    },
    "kernelspec": {
      "display_name": "Python 3",
      "name": "python3"
    },
    "language_info": {
      "codemirror_mode": {
        "name": "ipython",
        "version": 3
      },
      "file_extension": ".py",
      "mimetype": "text/x-python",
      "name": "python",
      "nbconvert_exporter": "python",
      "pygments_lexer": "ipython3",
      "version": "3.12.9"
    }
  },
  "nbformat": 4,
  "nbformat_minor": 0
}
