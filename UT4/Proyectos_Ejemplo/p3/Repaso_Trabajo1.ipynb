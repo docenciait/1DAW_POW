{
  "nbformat": 4,
  "nbformat_minor": 0,
  "metadata": {
    "colab": {
      "provenance": [],
      "gpuType": "T4"
    },
    "kernelspec": {
      "name": "python3",
      "display_name": "Python 3"
    },
    "language_info": {
      "name": "python"
    },
    "accelerator": "GPU"
  },
  "cells": [
    {
      "cell_type": "markdown",
      "source": [
        "**Laboratorio: Análisis Estadístico de Datos para SEO 1**\n",
        "\n",
        "*Objetivo:*\n",
        "\n",
        "El objetivo de este laboratorio es analizar y visualizar métricas relacionadas con SEO de una página web, utilizando las librerías NumPy, Pandas y Matplotlib. Los estudiantes aprenderán a cargar, procesar y visualizar datos sobre el rendimiento de una página web, centrándose en aspectos como el tráfico web, la velocidad de carga, las métricas de usuarios y el rendimiento de las palabras clave.\n",
        "\n",
        "*Material Requerido:*\n",
        "\n",
        "- Python instalado en el sistema.\n",
        "- Librerías: NumPy, Pandas, Matplotlib, Requests."
      ],
      "metadata": {
        "id": "wf-QaaEg3M2a"
      }
    },
    {
      "cell_type": "code",
      "source": [
        "# Instalamos los módulos necesarios\n",
        "\n",
        "%pip install numpy\n",
        "%pip install pandas\n",
        "%pip install matplotlib\n",
        "%pip install requests\n"
      ],
      "metadata": {
        "colab": {
          "base_uri": "https://localhost:8080/"
        },
        "id": "moB5pIHH3gjV",
        "outputId": "c1acc6b0-6228-4ff4-eb8b-344f85ddfa73"
      },
      "execution_count": 3,
      "outputs": [
        {
          "output_type": "stream",
          "name": "stdout",
          "text": [
            "Requirement already satisfied: numpy in /usr/local/lib/python3.11/dist-packages (1.26.4)\n",
            "Requirement already satisfied: pandas in /usr/local/lib/python3.11/dist-packages (2.2.2)\n",
            "Requirement already satisfied: numpy>=1.23.2 in /usr/local/lib/python3.11/dist-packages (from pandas) (1.26.4)\n",
            "Requirement already satisfied: python-dateutil>=2.8.2 in /usr/local/lib/python3.11/dist-packages (from pandas) (2.8.2)\n",
            "Requirement already satisfied: pytz>=2020.1 in /usr/local/lib/python3.11/dist-packages (from pandas) (2025.1)\n",
            "Requirement already satisfied: tzdata>=2022.7 in /usr/local/lib/python3.11/dist-packages (from pandas) (2025.1)\n",
            "Requirement already satisfied: six>=1.5 in /usr/local/lib/python3.11/dist-packages (from python-dateutil>=2.8.2->pandas) (1.17.0)\n",
            "Requirement already satisfied: matplotlib in /usr/local/lib/python3.11/dist-packages (3.10.0)\n",
            "Requirement already satisfied: contourpy>=1.0.1 in /usr/local/lib/python3.11/dist-packages (from matplotlib) (1.3.1)\n",
            "Requirement already satisfied: cycler>=0.10 in /usr/local/lib/python3.11/dist-packages (from matplotlib) (0.12.1)\n",
            "Requirement already satisfied: fonttools>=4.22.0 in /usr/local/lib/python3.11/dist-packages (from matplotlib) (4.56.0)\n",
            "Requirement already satisfied: kiwisolver>=1.3.1 in /usr/local/lib/python3.11/dist-packages (from matplotlib) (1.4.8)\n",
            "Requirement already satisfied: numpy>=1.23 in /usr/local/lib/python3.11/dist-packages (from matplotlib) (1.26.4)\n",
            "Requirement already satisfied: packaging>=20.0 in /usr/local/lib/python3.11/dist-packages (from matplotlib) (24.2)\n",
            "Requirement already satisfied: pillow>=8 in /usr/local/lib/python3.11/dist-packages (from matplotlib) (11.1.0)\n",
            "Requirement already satisfied: pyparsing>=2.3.1 in /usr/local/lib/python3.11/dist-packages (from matplotlib) (3.2.1)\n",
            "Requirement already satisfied: python-dateutil>=2.7 in /usr/local/lib/python3.11/dist-packages (from matplotlib) (2.8.2)\n",
            "Requirement already satisfied: six>=1.5 in /usr/local/lib/python3.11/dist-packages (from python-dateutil>=2.7->matplotlib) (1.17.0)\n",
            "Requirement already satisfied: requests in /usr/local/lib/python3.11/dist-packages (2.32.3)\n",
            "Requirement already satisfied: charset-normalizer<4,>=2 in /usr/local/lib/python3.11/dist-packages (from requests) (3.4.1)\n",
            "Requirement already satisfied: idna<4,>=2.5 in /usr/local/lib/python3.11/dist-packages (from requests) (3.10)\n",
            "Requirement already satisfied: urllib3<3,>=1.21.1 in /usr/local/lib/python3.11/dist-packages (from requests) (2.3.0)\n",
            "Requirement already satisfied: certifi>=2017.4.17 in /usr/local/lib/python3.11/dist-packages (from requests) (2025.1.31)\n"
          ]
        }
      ]
    },
    {
      "cell_type": "markdown",
      "source": [],
      "metadata": {
        "id": "vWx6ks9l4gZ-"
      }
    },
    {
      "cell_type": "markdown",
      "source": [
        "Enunciado del ejercicio:\n",
        "\n",
        "- En este laboratorio, los estudiantes trabajarán con un conjunto de datos que simula las métricas de SEO de una página web a lo largo del tiempo. Los datos incluyen métricas como el tráfico mensual, la tasa de rebote, el tiempo de carga de la página, y el ranking de las palabras clave.\n",
        "\n",
        "Paso 1: Preparación de los datos\n",
        "\n",
        "Para este ejercicio, simularemos un conjunto de datos en formato CSV con las siguientes columnas:\n",
        "\n",
        "- Fecha: Fecha del análisis.\n",
        "- Tráfico (visitas): Número de visitas mensuales al sitio.\n",
        "- Tasa de rebote (%): Porcentaje de usuarios que dejan el sitio rápidamente.\n",
        "- Tiempo de carga (segundos): Tiempo promedio de carga de la página (en segundos).\n",
        "- Ranking Palabra Clave: Posición de la palabra clave principal en Google"
      ],
      "metadata": {
        "id": "kZLlwVQi3-Sx"
      }
    },
    {
      "cell_type": "markdown",
      "source": [],
      "metadata": {
        "id": "BDhPREiM376J"
      }
    },
    {
      "cell_type": "code",
      "source": [
        "from google.colab import files\n",
        "\n",
        "\n",
        "uploaded = files.upload()\n"
      ],
      "metadata": {
        "colab": {
          "base_uri": "https://localhost:8080/",
          "height": 73
        },
        "id": "jU36Ry-c5EmU",
        "outputId": "6c2a0a81-624a-4cef-8d22-3fc1ca562ee1"
      },
      "execution_count": 1,
      "outputs": [
        {
          "output_type": "display_data",
          "data": {
            "text/plain": [
              "<IPython.core.display.HTML object>"
            ],
            "text/html": [
              "\n",
              "     <input type=\"file\" id=\"files-0d6c9d98-6319-4c12-b726-16f861f358fc\" name=\"files[]\" multiple disabled\n",
              "        style=\"border:none\" />\n",
              "     <output id=\"result-0d6c9d98-6319-4c12-b726-16f861f358fc\">\n",
              "      Upload widget is only available when the cell has been executed in the\n",
              "      current browser session. Please rerun this cell to enable.\n",
              "      </output>\n",
              "      <script>// Copyright 2017 Google LLC\n",
              "//\n",
              "// Licensed under the Apache License, Version 2.0 (the \"License\");\n",
              "// you may not use this file except in compliance with the License.\n",
              "// You may obtain a copy of the License at\n",
              "//\n",
              "//      http://www.apache.org/licenses/LICENSE-2.0\n",
              "//\n",
              "// Unless required by applicable law or agreed to in writing, software\n",
              "// distributed under the License is distributed on an \"AS IS\" BASIS,\n",
              "// WITHOUT WARRANTIES OR CONDITIONS OF ANY KIND, either express or implied.\n",
              "// See the License for the specific language governing permissions and\n",
              "// limitations under the License.\n",
              "\n",
              "/**\n",
              " * @fileoverview Helpers for google.colab Python module.\n",
              " */\n",
              "(function(scope) {\n",
              "function span(text, styleAttributes = {}) {\n",
              "  const element = document.createElement('span');\n",
              "  element.textContent = text;\n",
              "  for (const key of Object.keys(styleAttributes)) {\n",
              "    element.style[key] = styleAttributes[key];\n",
              "  }\n",
              "  return element;\n",
              "}\n",
              "\n",
              "// Max number of bytes which will be uploaded at a time.\n",
              "const MAX_PAYLOAD_SIZE = 100 * 1024;\n",
              "\n",
              "function _uploadFiles(inputId, outputId) {\n",
              "  const steps = uploadFilesStep(inputId, outputId);\n",
              "  const outputElement = document.getElementById(outputId);\n",
              "  // Cache steps on the outputElement to make it available for the next call\n",
              "  // to uploadFilesContinue from Python.\n",
              "  outputElement.steps = steps;\n",
              "\n",
              "  return _uploadFilesContinue(outputId);\n",
              "}\n",
              "\n",
              "// This is roughly an async generator (not supported in the browser yet),\n",
              "// where there are multiple asynchronous steps and the Python side is going\n",
              "// to poll for completion of each step.\n",
              "// This uses a Promise to block the python side on completion of each step,\n",
              "// then passes the result of the previous step as the input to the next step.\n",
              "function _uploadFilesContinue(outputId) {\n",
              "  const outputElement = document.getElementById(outputId);\n",
              "  const steps = outputElement.steps;\n",
              "\n",
              "  const next = steps.next(outputElement.lastPromiseValue);\n",
              "  return Promise.resolve(next.value.promise).then((value) => {\n",
              "    // Cache the last promise value to make it available to the next\n",
              "    // step of the generator.\n",
              "    outputElement.lastPromiseValue = value;\n",
              "    return next.value.response;\n",
              "  });\n",
              "}\n",
              "\n",
              "/**\n",
              " * Generator function which is called between each async step of the upload\n",
              " * process.\n",
              " * @param {string} inputId Element ID of the input file picker element.\n",
              " * @param {string} outputId Element ID of the output display.\n",
              " * @return {!Iterable<!Object>} Iterable of next steps.\n",
              " */\n",
              "function* uploadFilesStep(inputId, outputId) {\n",
              "  const inputElement = document.getElementById(inputId);\n",
              "  inputElement.disabled = false;\n",
              "\n",
              "  const outputElement = document.getElementById(outputId);\n",
              "  outputElement.innerHTML = '';\n",
              "\n",
              "  const pickedPromise = new Promise((resolve) => {\n",
              "    inputElement.addEventListener('change', (e) => {\n",
              "      resolve(e.target.files);\n",
              "    });\n",
              "  });\n",
              "\n",
              "  const cancel = document.createElement('button');\n",
              "  inputElement.parentElement.appendChild(cancel);\n",
              "  cancel.textContent = 'Cancel upload';\n",
              "  const cancelPromise = new Promise((resolve) => {\n",
              "    cancel.onclick = () => {\n",
              "      resolve(null);\n",
              "    };\n",
              "  });\n",
              "\n",
              "  // Wait for the user to pick the files.\n",
              "  const files = yield {\n",
              "    promise: Promise.race([pickedPromise, cancelPromise]),\n",
              "    response: {\n",
              "      action: 'starting',\n",
              "    }\n",
              "  };\n",
              "\n",
              "  cancel.remove();\n",
              "\n",
              "  // Disable the input element since further picks are not allowed.\n",
              "  inputElement.disabled = true;\n",
              "\n",
              "  if (!files) {\n",
              "    return {\n",
              "      response: {\n",
              "        action: 'complete',\n",
              "      }\n",
              "    };\n",
              "  }\n",
              "\n",
              "  for (const file of files) {\n",
              "    const li = document.createElement('li');\n",
              "    li.append(span(file.name, {fontWeight: 'bold'}));\n",
              "    li.append(span(\n",
              "        `(${file.type || 'n/a'}) - ${file.size} bytes, ` +\n",
              "        `last modified: ${\n",
              "            file.lastModifiedDate ? file.lastModifiedDate.toLocaleDateString() :\n",
              "                                    'n/a'} - `));\n",
              "    const percent = span('0% done');\n",
              "    li.appendChild(percent);\n",
              "\n",
              "    outputElement.appendChild(li);\n",
              "\n",
              "    const fileDataPromise = new Promise((resolve) => {\n",
              "      const reader = new FileReader();\n",
              "      reader.onload = (e) => {\n",
              "        resolve(e.target.result);\n",
              "      };\n",
              "      reader.readAsArrayBuffer(file);\n",
              "    });\n",
              "    // Wait for the data to be ready.\n",
              "    let fileData = yield {\n",
              "      promise: fileDataPromise,\n",
              "      response: {\n",
              "        action: 'continue',\n",
              "      }\n",
              "    };\n",
              "\n",
              "    // Use a chunked sending to avoid message size limits. See b/62115660.\n",
              "    let position = 0;\n",
              "    do {\n",
              "      const length = Math.min(fileData.byteLength - position, MAX_PAYLOAD_SIZE);\n",
              "      const chunk = new Uint8Array(fileData, position, length);\n",
              "      position += length;\n",
              "\n",
              "      const base64 = btoa(String.fromCharCode.apply(null, chunk));\n",
              "      yield {\n",
              "        response: {\n",
              "          action: 'append',\n",
              "          file: file.name,\n",
              "          data: base64,\n",
              "        },\n",
              "      };\n",
              "\n",
              "      let percentDone = fileData.byteLength === 0 ?\n",
              "          100 :\n",
              "          Math.round((position / fileData.byteLength) * 100);\n",
              "      percent.textContent = `${percentDone}% done`;\n",
              "\n",
              "    } while (position < fileData.byteLength);\n",
              "  }\n",
              "\n",
              "  // All done.\n",
              "  yield {\n",
              "    response: {\n",
              "      action: 'complete',\n",
              "    }\n",
              "  };\n",
              "}\n",
              "\n",
              "scope.google = scope.google || {};\n",
              "scope.google.colab = scope.google.colab || {};\n",
              "scope.google.colab._files = {\n",
              "  _uploadFiles,\n",
              "  _uploadFilesContinue,\n",
              "};\n",
              "})(self);\n",
              "</script> "
            ]
          },
          "metadata": {}
        },
        {
          "output_type": "stream",
          "name": "stdout",
          "text": [
            "Saving seo_metrics.csv to seo_metrics.csv\n"
          ]
        }
      ]
    },
    {
      "cell_type": "markdown",
      "source": [
        "Fichero (seo_metrics.csv):\n",
        "\n",
        "\n",
        "\n",
        "```\n",
        "Fecha,Tráfico,Tasa de rebote,Tiempo de carga,Ranking Palabra Clave\n",
        "2024-01-01,5000,60,3.2,5\n",
        "2024-02-01,4800,58,3.1,6\n",
        "2024-03-01,5200,62,3.5,4\n",
        "2024-04-01,5100,59,3.3,3\n",
        "2024-05-01,5300,55,3.0,2\n",
        "2024-06-01,5400,53,2.8,1\n",
        "\n",
        "```\n",
        "\n",
        "\n",
        "\n"
      ],
      "metadata": {
        "id": "Kx8lpu-6Ke2t"
      }
    },
    {
      "cell_type": "code",
      "source": [],
      "metadata": {
        "id": "EU-CqKsYKqVv"
      },
      "execution_count": null,
      "outputs": []
    },
    {
      "cell_type": "markdown",
      "source": [
        "Paso 2: Carga y análisis de los datos\n",
        "Ahora cargaremos los datos en un DataFrame utilizando Pandas.\n"
      ],
      "metadata": {
        "id": "4l4JmcKUKt7o"
      }
    },
    {
      "cell_type": "code",
      "source": [
        "import pandas as pd\n",
        "\n",
        "# Cargar el archivo CSV\n",
        "df = pd.read_csv('seo_metrics.csv')\n",
        "\n",
        "# Mostrar las primeras filas para verificar\n",
        "print(df.head())\n"
      ],
      "metadata": {
        "colab": {
          "base_uri": "https://localhost:8080/"
        },
        "id": "3PGGJ0npKlsH",
        "outputId": "82c36b7b-a87f-48a5-c40b-b648d89a748f"
      },
      "execution_count": 2,
      "outputs": [
        {
          "output_type": "stream",
          "name": "stdout",
          "text": [
            "        Fecha  Tráfico  Tasa de rebote  Tiempo de carga  Ranking Palabra Clave\n",
            "0  2024-01-01     5000              60              3.2                      5\n",
            "1  2024-02-01     4800              58              3.1                      6\n",
            "2  2024-03-01     5200              62              3.5                      4\n",
            "3  2024-04-01     5100              59              3.3                      3\n",
            "4  2024-05-01     5300              55              3.0                      2\n"
          ]
        }
      ]
    },
    {
      "cell_type": "markdown",
      "source": [
        "Objetivo: Debéis familiarizaros con el contenido de los datos y cómo visualizarlos utilizando Pandas."
      ],
      "metadata": {
        "id": "QPmjgvSuK4Oy"
      }
    },
    {
      "cell_type": "markdown",
      "source": [
        "Paso 3: Análisis de tráfico web\n",
        "Queremos conocer la evolución del tráfico a lo largo del tiempo.\n",
        "\n",
        "Análisis básico de tráfico"
      ],
      "metadata": {
        "id": "1MRPtDAzK_mb"
      }
    },
    {
      "cell_type": "code",
      "source": [
        "# Estadísticas descriptivas del tráfico\n",
        "print(df['Tráfico'].describe())\n"
      ],
      "metadata": {
        "colab": {
          "base_uri": "https://localhost:8080/"
        },
        "id": "h2C6EoazLWYD",
        "outputId": "0b4cad70-5040-4dc6-db30-3aeff5dc26cf"
      },
      "execution_count": 3,
      "outputs": [
        {
          "output_type": "stream",
          "name": "stdout",
          "text": [
            "count       6.000000\n",
            "mean     5133.333333\n",
            "std       216.024690\n",
            "min      4800.000000\n",
            "25%      5025.000000\n",
            "50%      5150.000000\n",
            "75%      5275.000000\n",
            "max      5400.000000\n",
            "Name: Tráfico, dtype: float64\n"
          ]
        }
      ]
    },
    {
      "cell_type": "markdown",
      "source": [
        "Paso 4: Análisis de la tasa de rebote\n",
        "La tasa de rebote es un indicador clave de la experiencia de usuario y puede afectar el SEO. Realizaremos un análisis de su distribución."
      ],
      "metadata": {
        "id": "1mYfuI-WLn04"
      }
    },
    {
      "cell_type": "markdown",
      "source": [
        "Tarea: Los alumnos deben interpretar las estadísticas (media, mediana, desviación estándar) para entender el comportamiento general del tráfico en la página."
      ],
      "metadata": {
        "id": "zdnxNcUvLch2"
      }
    },
    {
      "cell_type": "code",
      "source": [
        "import numpy as np\n",
        "\n",
        "# Calcular la media y desviación estándar de la tasa de rebote\n",
        "mean_bounce_rate = np.mean(df['Tasa de rebote'])\n",
        "std_bounce_rate = np.std(df['Tasa de rebote'])\n",
        "\n",
        "print(f'Media de la tasa de rebote: {mean_bounce_rate}%')\n",
        "print(f'Desviación estándar de la tasa de rebote: {std_bounce_rate}%')\n"
      ],
      "metadata": {
        "colab": {
          "base_uri": "https://localhost:8080/"
        },
        "id": "lIi6LX5fLwBJ",
        "outputId": "a55754c5-3304-4f9a-96ca-dda21ad2f876"
      },
      "execution_count": 4,
      "outputs": [
        {
          "output_type": "stream",
          "name": "stdout",
          "text": [
            "Media de la tasa de rebote: 57.833333333333336%\n",
            "Desviación estándar de la tasa de rebote: 3.0230595245361758%\n"
          ]
        }
      ]
    },
    {
      "cell_type": "markdown",
      "source": [
        "Tarea: Los alumnos deben calcular y discutir la media y la desviación estándar de la tasa de rebote. ¿Es alta o baja? ¿Qué significa en términos de SEO?"
      ],
      "metadata": {
        "id": "nYvc5AD1L1TU"
      }
    },
    {
      "cell_type": "markdown",
      "source": [
        "Paso 5: Análisis del tiempo de carga\n",
        "El tiempo de carga de la página es un factor clave en la experiencia del usuario y en el ranking SEO. Realizaremos un análisis visual del tiempo de carga.\n",
        "\n",
        "Histograma del tiempo de carga"
      ],
      "metadata": {
        "id": "6-GmhpBdL7d6"
      }
    },
    {
      "cell_type": "code",
      "source": [
        "import matplotlib.pyplot as plt\n",
        "\n",
        "# Histograma del tiempo de carga\n",
        "plt.hist(df['Tiempo de carga'], bins=10, color='blue', edgecolor='black')\n",
        "plt.title('Distribución del tiempo de carga de la página')\n",
        "plt.xlabel('Tiempo de carga (segundos)')\n",
        "plt.ylabel('Frecuencia')\n",
        "plt.show()\n"
      ],
      "metadata": {
        "colab": {
          "base_uri": "https://localhost:8080/",
          "height": 472
        },
        "id": "ZVhjsQDSL8sz",
        "outputId": "cb6cd265-5158-4f74-8d8f-3672051aca2f"
      },
      "execution_count": 5,
      "outputs": [
        {
          "output_type": "display_data",
          "data": {
            "text/plain": [
              "<Figure size 640x480 with 1 Axes>"
            ],
            "image/png": "[encoded data removed]"
          },
          "metadata": {}
        }
      ]
    },
    {
      "cell_type": "markdown",
      "source": [
        "Tarea: Los estudiantes deben interpretar el histograma, identificar si hay alguna tendencia (tiempos de carga altos o bajos) y cómo esto podría afectar el SEO.\n"
      ],
      "metadata": {
        "id": "9mTG93xHMB0b"
      }
    },
    {
      "cell_type": "markdown",
      "source": [
        "Paso 6: Análisis del ranking de palabras clave\n",
        "El ranking de las palabras clave es un factor decisivo para determinar el éxito de una estrategia SEO. Vamos a analizar cómo ha cambiado el ranking de una palabra clave a lo largo del tiempo.\n",
        "\n",
        "Gráfico de la evolución del ranking"
      ],
      "metadata": {
        "id": "YXvK73LhMFYD"
      }
    },
    {
      "cell_type": "code",
      "source": [
        "# Gráfico de línea del ranking de palabras clave\n",
        "plt.plot(df['Fecha'], df['Ranking Palabra Clave'], marker='o', color='green')\n",
        "plt.title('Evolución del ranking de la palabra clave')\n",
        "plt.xlabel('Fecha')\n",
        "plt.ylabel('Ranking')\n",
        "plt.xticks(rotation=45)\n",
        "plt.show()\n"
      ],
      "metadata": {
        "colab": {
          "base_uri": "https://localhost:8080/",
          "height": 525
        },
        "id": "PLSiSHRAMIj3",
        "outputId": "4dd947bf-1e23-49a3-8e33-c397f0671a81"
      },
      "execution_count": 6,
      "outputs": [
        {
          "output_type": "display_data",
          "data": {
            "text/plain": [
              "<Figure size 640x480 with 1 Axes>"
            ],
            "image/png": "[encoded data removed]"
          },
          "metadata": {}
        }
      ]
    },
    {
      "cell_type": "markdown",
      "source": [
        "Tarea: Los estudiantes deben analizar si el ranking ha mejorado con el tiempo y discutir cómo esto está relacionado con las métricas de tráfico y tasa de rebote."
      ],
      "metadata": {
        "id": "Jm3f89YVMLhO"
      }
    },
    {
      "cell_type": "markdown",
      "source": [
        "Paso 7: Análisis combinado\n",
        "Vamos a combinar las métricas y observar si existe alguna relación entre ellas, por ejemplo, entre el tráfico y el tiempo de carga.\n",
        "\n",
        "Gráfico de dispersión"
      ],
      "metadata": {
        "id": "Fy68divXMOd2"
      }
    },
    {
      "cell_type": "code",
      "source": [
        "# Gráfico de dispersión entre tráfico y tiempo de carga\n",
        "plt.scatter(df['Tráfico'], df['Tiempo de carga'], color='red')\n",
        "plt.title('Relación entre tráfico y tiempo de carga')\n",
        "plt.xlabel('Tráfico (visitas)')\n",
        "plt.ylabel('Tiempo de carga (segundos)')\n",
        "plt.show()\n"
      ],
      "metadata": {
        "colab": {
          "base_uri": "https://localhost:8080/",
          "height": 472
        },
        "id": "SF4nGVTkMRfO",
        "outputId": "8150c04e-7c53-4f77-b458-16d71e061f65"
      },
      "execution_count": 7,
      "outputs": [
        {
          "output_type": "display_data",
          "data": {
            "text/plain": [
              "<Figure size 640x480 with 1 Axes>"
            ],
            "image/png": "[encoded data removed]"
          },
          "metadata": {}
        }
      ]
    },
    {
      "cell_type": "markdown",
      "source": [
        "Tarea: Los estudiantes deben interpretar el gráfico de dispersión y discutir si hay alguna correlación entre el tráfico web y el tiempo de carga.\n",
        "\n",
        "Paso 8: Conclusiones\n",
        "Los estudiantes deben escribir un análisis detallado basado en los gráficos y estadísticas obtenidas:\n",
        "\n",
        "¿Cómo ha evolucionado el tráfico web?\n",
        "¿Qué impacto tiene la tasa de rebote en el SEO?\n",
        "¿El tiempo de carga es adecuado para una buena experiencia de usuario?\n",
        "¿Cómo se ha comportado el ranking de la palabra clave?"
      ],
      "metadata": {
        "id": "q-Y0rIxNMVi_"
      }
    }
  ]
}