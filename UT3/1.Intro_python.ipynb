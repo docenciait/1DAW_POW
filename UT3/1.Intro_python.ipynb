{
 "cells": [
  {
   "cell_type": "markdown",
   "id": "f767e397",
   "metadata": {},
   "source": [
    "**Repaso de Python con Jupyter Notebook**\n",
    "\n",
    "Objetivo: Aprender a realizar programas simples en Python utilizando cuadernos de Jupyter.\n",
    "\n",
    "Conocimientos previos: Conocimientos de programación básica: variables, estructuras de control, funciones y matrices."
   ]
  },
  {
   "cell_type": "markdown",
   "id": "09d071a0",
   "metadata": {},
   "source": [
    "**Python**\n",
    "\n",
    "Python es un lenguaje de alto nivel, multiparadigma y con tipado dinámico.\n",
    "\n",
    "Si bien se usa en varios ámbitos, recientemente se ha convertido en el lenguaje más utilizado para programación científica, junto con las librerías NumPy (matrices), Matplotlib (visualizar datos) y otras.\n",
    "\n",
    "El tutorial no asume conocimiento de Python, pero tampoco explica el lenguaje en detalle; se hace énfasis en cómo manipular matrices para procesar imágenes."
   ]
  },
  {
   "cell_type": "markdown",
   "id": "e7334420",
   "metadata": {},
   "source": [
    "**Cuadernos de Jupyter Notebook**\n",
    "\n",
    "La forma tradicional de correr un programa en python es con el comando python nombre.py, donde nombre.py es un archivo con código fuente python.\n",
    "\n",
    "En lugar de eso, para este curso utilizaremos un servidor de Jupyter Notebook con cuadernos de código. Estos cuadernos (notebooks) nos permiten combinar texto y código, organizados en celdas, lo cual es más cómodo para probar cosas nuevas y documentar lo que hacemos.\n",
    "\n",
    "El servidor de cuadernos se inicia ejecutando jupyter notebook desde la línea de comandos.\n",
    "\n",
    "Si tenemos cuadernos para abrir, antes de correr ese comando debemos ir al directorio con los cuadernos, de modo de poder abrirlos después. El servidor corre continuamente mientras usamos los cuadernos."
   ]
  },
  {
   "cell_type": "code",
   "execution_count": 1,
   "id": "502da7db",
   "metadata": {},
   "outputs": [
    {
     "name": "stdout",
     "output_type": "stream",
     "text": [
      "Hola Mundo\n",
      "4\n"
     ]
    }
   ],
   "source": [
    "# Uso de Cuadernos de Jupyter\n",
    "print(\"Hola Mundo\") #impresión de un string\n",
    "print(4)"
   ]
  },
  {
   "cell_type": "markdown",
   "id": "83795031",
   "metadata": {},
   "source": [
    "**Python básico**\n",
    "\n",
    "Las variables en python no necesitan ser declaradas, simplemente se definen al ser utilizadas por primera vez. Además, (si bien no es recomendable) pueden cambiar de tipo volviendo a definir."
   ]
  },
  {
   "cell_type": "code",
   "execution_count": 3,
   "id": "d7f362b9",
   "metadata": {},
   "outputs": [
    {
     "name": "stdout",
     "output_type": "stream",
     "text": [
      "hola\n",
      "5\n",
      "7.3\n"
     ]
    }
   ],
   "source": [
    "x=\"hola\"\n",
    "print(x)\n",
    "\n",
    "x=5\n",
    "print(x)\n",
    "\n",
    "y=x+2.5\n",
    "print(y)"
   ]
  },
  {
   "cell_type": "markdown",
   "id": "e06da0e8",
   "metadata": {},
   "source": [
    "**Tipos de datos básicos**\n",
    "\n",
    "Python tiene los mismos datos básicos que otros lenguajes: enteros, flotantes, strings y booleanos. Además, las listas son un tipo predefinido en el lenguaje."
   ]
  },
  {
   "cell_type": "code",
   "execution_count": 5,
   "id": "b0886130",
   "metadata": {},
   "outputs": [
    {
     "name": "stdout",
     "output_type": "stream",
     "text": [
      "<class 'int'>\n",
      "<class 'float'>\n"
     ]
    }
   ],
   "source": [
    "x = 12\n",
    "y = 13.5\n",
    "print(type(x)) \n",
    "print(type(y))"
   ]
  },
  {
   "cell_type": "code",
   "execution_count": null,
   "id": "ba6d33b7",
   "metadata": {},
   "outputs": [],
   "source": [
    "#Booleans\n",
    "x = True\n",
    "y = False"
   ]
  },
  {
   "cell_type": "code",
   "execution_count": 6,
   "id": "a38a283f",
   "metadata": {},
   "outputs": [],
   "source": [
    "#Operadores de combinación de variables booleanas\n",
    "a = True\n",
    "b = False"
   ]
  },
  {
   "cell_type": "code",
   "execution_count": null,
   "id": "a2945156",
   "metadata": {},
   "outputs": [],
   "source": [
    "a and a"
   ]
  },
  {
   "cell_type": "code",
   "execution_count": null,
   "id": "16f754ac",
   "metadata": {},
   "outputs": [],
   "source": [
    "a and b"
   ]
  },
  {
   "cell_type": "code",
   "execution_count": null,
   "id": "dc40eda1",
   "metadata": {},
   "outputs": [],
   "source": [
    "a or b"
   ]
  },
  {
   "cell_type": "code",
   "execution_count": null,
   "id": "5ed18fb0",
   "metadata": {},
   "outputs": [],
   "source": [
    "b or b"
   ]
  },
  {
   "cell_type": "code",
   "execution_count": null,
   "id": "28be8296",
   "metadata": {},
   "outputs": [],
   "source": [
    "(3 < 4) and (4 < 5)"
   ]
  },
  {
   "cell_type": "markdown",
   "id": "fc8c32f5",
   "metadata": {},
   "source": [
    "**Strings**"
   ]
  },
  {
   "cell_type": "code",
   "execution_count": null,
   "id": "52711ee3",
   "metadata": {},
   "outputs": [],
   "source": [
    "saludo = \"Hola mundo!\"\n",
    "saludo"
   ]
  },
  {
   "cell_type": "code",
   "execution_count": null,
   "id": "bcc9d0da",
   "metadata": {},
   "outputs": [],
   "source": [
    "#La funcion input()\n",
    "input()"
   ]
  },
  {
   "cell_type": "code",
   "execution_count": null,
   "id": "bb3d52f6",
   "metadata": {},
   "outputs": [],
   "source": [
    "nombre = input(\"Ingrese su nombre:\")\n",
    "nombre"
   ]
  },
  {
   "cell_type": "markdown",
   "id": "ba588568",
   "metadata": {},
   "source": [
    "**Listas**"
   ]
  },
  {
   "cell_type": "code",
   "execution_count": 7,
   "id": "716c69f2",
   "metadata": {},
   "outputs": [
    {
     "name": "stdout",
     "output_type": "stream",
     "text": [
      "- Lista con 4 números:\n",
      "[57, 45, 7, 13]\n",
      "- Lista con 3 strings:\n",
      "['hola', 'chau', 'buen día']\n",
      "- Longitud de la lista:\n",
      "4\n"
     ]
    }
   ],
   "source": [
    "print(\"- Lista con 4 números:\")\n",
    "a=[57,45,7,13] # una lista con cuatro números\n",
    "print(a)\n",
    "\n",
    "print(\"- Lista con 3 strings:\")\n",
    "b=[\"hola\",\"chau\",\"buen día\"] # una lista con tres strings\n",
    "print(b)\n",
    "\n",
    "# la función `len` me da la longitud de la lista\n",
    "print(\"- Longitud de la lista:\")\n",
    "n=len(a)\n",
    "print(n)"
   ]
  },
  {
   "cell_type": "code",
   "execution_count": 8,
   "id": "b26a9cba",
   "metadata": {},
   "outputs": [
    {
     "name": "stdout",
     "output_type": "stream",
     "text": [
      "- Elemento con índice 0 de la lista:\n",
      "hola\n",
      "- Elemento con índice 1 de la lista:\n",
      "chau\n",
      "- Elemento con índice 2 de la lista:\n",
      "buen día\n"
     ]
    }
   ],
   "source": [
    "#Para acceder a sus elementos, se utiliza el []\n",
    "# Los índices comienzan en 0\n",
    "print(\"- Elemento con índice 0 de la lista:\")\n",
    "print(b[0])\n",
    "print(\"- Elemento con índice 1 de la lista:\")\n",
    "print(b[1])\n",
    "print(\"- Elemento con índice 2 de la lista:\")\n",
    "print(b[2])"
   ]
  },
  {
   "cell_type": "code",
   "execution_count": 9,
   "id": "56010f65",
   "metadata": {},
   "outputs": [
    {
     "name": "stdout",
     "output_type": "stream",
     "text": [
      "Lista vacía:\n",
      "[]\n"
     ]
    }
   ],
   "source": [
    "# para crear una lista vacía, (sin elementos), simplemente ponemos []\n",
    "vacia=[]\n",
    "print(\"Lista vacía:\")\n",
    "print(vacia)"
   ]
  },
  {
   "cell_type": "markdown",
   "id": "7ffb9b71",
   "metadata": {},
   "source": [
    "**Tuplas**"
   ]
  },
  {
   "cell_type": "code",
   "execution_count": 10,
   "id": "18180a24",
   "metadata": {},
   "outputs": [
    {
     "name": "stdout",
     "output_type": "stream",
     "text": [
      "- Una tupla de cuatro elementos:\n",
      "(1, 2, 57, 4)\n",
      "- El elemento con índice 2:\n",
      "57\n",
      "- Los elementos entre los índices 0 y 2:\n",
      "(1, 2)\n"
     ]
    }
   ],
   "source": [
    "#Podés crear una tupla con valores entre () separados por ,\n",
    "a=(1,2,57,4)\n",
    "print(\"- Una tupla de cuatro elementos:\")\n",
    "print(a)\n",
    "print(\"- El elemento con índice 2:\")\n",
    "print(a[2])\n",
    "print(\"- Los elementos entre los índices 0 y 2:\")\n",
    "print(a[0:2])\n",
    "\n",
    "# la siguiente línea genera un error de ejecución\n",
    "#a.append(28)"
   ]
  },
  {
   "cell_type": "markdown",
   "id": "50b76c55",
   "metadata": {},
   "source": [
    "**Estructuras de control**\n",
    "\n",
    "En Python no hay llaves ({}) ni begin...end para marcar el comienzo y fin de un bloque, sino que eso se logra con la indentación. La indentación por defecto son 4 espacios en blanco.\n",
    "\n",
    "Entonces va a ser necesario indentar correctamente para utilizar sentencias if, for o para definir funciones.\n",
    "\n",
    "\n",
    "if\n",
    "\n",
    "El if es como el de otros lenguajes, pero no pide paréntesis y termina con :. Su sintaxis es:\n",
    "\n",
    "if condicion :\n",
    "\n",
    "    cuerpo del if (indentado con 4 espacios)\n",
    "else:\n",
    "\n",
    "    cuerpo del else (indentado con 4 espacios)\n",
    "    "
   ]
  },
  {
   "cell_type": "code",
   "execution_count": 11,
   "id": "a10086b3",
   "metadata": {},
   "outputs": [
    {
     "name": "stdout",
     "output_type": "stream",
     "text": [
      "La persona es\n",
      "Mayor\n",
      "De edad\n"
     ]
    }
   ],
   "source": [
    "edad = 25\n",
    "\n",
    "print(\"La persona es\")\n",
    "if edad < 18: # el if termina con : para indicar donde acaba la condición\n",
    "    # el print va indentado con 4 espacios para indicar que está dentro del\n",
    "    # cuerpo del if\n",
    "    print(\"Menor\") \n",
    "else:\n",
    "    #Lo mismo con este print\n",
    "    print(\"Mayor\")\n",
    "    \n",
    "print(\"De edad\")"
   ]
  },
  {
   "cell_type": "markdown",
   "id": "b7ff4cc9",
   "metadata": {},
   "source": [
    "**For**"
   ]
  },
  {
   "cell_type": "code",
   "execution_count": 12,
   "id": "3123ce0f",
   "metadata": {},
   "outputs": [
    {
     "name": "stdout",
     "output_type": "stream",
     "text": [
      "Un for de 0 a 3\n",
      "0\n",
      "1\n",
      "2\n",
      "3\n",
      "- Un for de 2 a 5:\n",
      "2\n",
      "3\n",
      "4\n",
      "5\n"
     ]
    }
   ],
   "source": [
    "#un for de 0 a 3, para imprimir esos valores\n",
    "print(\"Un for de 0 a 3\")\n",
    "for i in range(4):\n",
    "    print(i)\n",
    "    \n",
    "#En Python los índices comienzan en 0, y por eso los rangos también.\n",
    "    \n",
    "\n",
    "#También se puede comenzar el rango en otro valor en lugar de 0\n",
    "print(\"- Un for de 2 a 5:\")\n",
    "for j in range(2,6):\n",
    "    print(j)"
   ]
  },
  {
   "cell_type": "markdown",
   "id": "2a51e399",
   "metadata": {},
   "source": [
    "**Funciones**"
   ]
  },
  {
   "cell_type": "code",
   "execution_count": 13,
   "id": "6afe400f",
   "metadata": {},
   "outputs": [],
   "source": [
    "def sumar(a,b):\n",
    "    return a+b\n",
    "\n",
    "\n",
    "c=sumar(2,5)"
   ]
  },
  {
   "cell_type": "markdown",
   "id": "d5c919d0",
   "metadata": {},
   "source": [
    "**Uso de Fechas**"
   ]
  },
  {
   "cell_type": "code",
   "execution_count": 18,
   "id": "98455818",
   "metadata": {},
   "outputs": [
    {
     "name": "stdout",
     "output_type": "stream",
     "text": [
      "2022-04-03 22:08:20.166463\n",
      "2022\n",
      "4\n",
      "3\n",
      "22\n",
      "8\n",
      "166463\n"
     ]
    }
   ],
   "source": [
    "from datetime import datetime \n",
    "\n",
    "dt = datetime.now()\n",
    "\n",
    "print(dt)\n",
    "print(dt.year)\n",
    "print(dt.month)\n",
    "print(dt.day)\n",
    "print(dt.hour)\n",
    "print(dt.minute)\n",
    "print(dt.microsecond)"
   ]
  },
  {
   "cell_type": "code",
   "execution_count": 19,
   "id": "1b6626fc",
   "metadata": {},
   "outputs": [
    {
     "name": "stdout",
     "output_type": "stream",
     "text": [
      "Raiz cuadrada:8.046518501811823\n"
     ]
    }
   ],
   "source": [
    "#Raiz cuadrada\n",
    "import math\n",
    "\n",
    "x = math.sqrt(64.74646)\n",
    "\n",
    "print(f\"Raiz cuadrada:{x}\")"
   ]
  },
  {
   "cell_type": "code",
   "execution_count": 26,
   "id": "d1ee00b2",
   "metadata": {},
   "outputs": [
    {
     "name": "stdout",
     "output_type": "stream",
     "text": [
      "2\n",
      "41\n",
      "48\n"
     ]
    }
   ],
   "source": [
    "import random\n",
    "lista = [1, 2, \"KC\", -1, \"Nico\", 3]\n",
    "\n",
    "print(random.choice(lista))\n",
    "\n",
    "#Aleatorios en un rango\n",
    "print(random.randrange(20, 50))\n",
    "\n",
    "#Aleatorios en un rango\n",
    "print(random.randrange(20, 50,7))"
   ]
  },
  {
   "cell_type": "markdown",
   "id": "5c3dd8b8",
   "metadata": {},
   "source": [
    "**POO**"
   ]
  },
  {
   "cell_type": "code",
   "execution_count": null,
   "id": "66d8311e",
   "metadata": {},
   "outputs": [],
   "source": [
    "class Persona:\n",
    "    \"\"\"\n",
    "    Esta es una clase donde se agregan todos los datos\n",
    "    respecto a una persona\n",
    "    \"\"\"\n",
    "    def __init__(self, nombre, edad):\n",
    "        # Todo lo que definamos en __init__ se corre\n",
    "        # al crear una instancia de la clase\n",
    "        self.nombre = nombre\n",
    "        self.edad = edad\n",
    "\n",
    "#El parámetro self se refiere al objeto instanciado de esa clase sobre el cual se está invocando dicho método.\n",
    "\n",
    "#Link de Interes: https://ejemplos.net/que-significa-self-en-python/"
   ]
  },
  {
   "cell_type": "code",
   "execution_count": null,
   "id": "5dd2548e",
   "metadata": {},
   "outputs": [],
   "source": [
    "#Creamos un objeto p1 que es una instancia de la clase Persona\n",
    "p1 = Persona(\"Juan\", 26)\n",
    "\n",
    "print(p1.nombre) #Le pedimos a p1 su nombre\n",
    "print(p1.edad) #Le pedimos a p1 su edad"
   ]
  },
  {
   "cell_type": "code",
   "execution_count": null,
   "id": "29b9a235",
   "metadata": {},
   "outputs": [],
   "source": [
    "#Vemos el tipo de objeto que es p1\n",
    "type(p1)"
   ]
  }
 ],
 "metadata": {
  "kernelspec": {
   "display_name": "Python 3",
   "language": "python",
   "name": "python3"
  },
  "language_info": {
   "codemirror_mode": {
    "name": "ipython",
    "version": 3
   },
   "file_extension": ".py",
   "mimetype": "text/x-python",
   "name": "python",
   "nbconvert_exporter": "python",
   "pygments_lexer": "ipython3",
   "version": "3.12.9"
  },
  "varInspector": {
   "cols": {
    "lenName": 16,
    "lenType": 16,
    "lenVar": 40
   },
   "kernels_config": {
    "python": {
     "delete_cmd_postfix": "",
     "delete_cmd_prefix": "del ",
     "library": "var_list.py",
     "varRefreshCmd": "print(var_dic_list())"
    },
    "r": {
     "delete_cmd_postfix": ") ",
     "delete_cmd_prefix": "rm(",
     "library": "var_list.r",
     "varRefreshCmd": "cat(var_dic_list()) "
    }
   },
   "types_to_exclude": [
    "module",
    "function",
    "builtin_function_or_method",
    "instance",
    "_Feature"
   ],
   "window_display": false
  }
 },
 "nbformat": 4,
 "nbformat_minor": 5
}
